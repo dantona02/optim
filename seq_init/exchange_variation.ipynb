{
 "cells": [
  {
   "cell_type": "code",
   "execution_count": 25,
   "metadata": {},
   "outputs": [],
   "source": [
    "from pathlib import Path\n",
    "\n",
    "import numpy as np\n",
    "import pypulseq as pp\n",
    "from bmc.utils.seq.write import write_seq\n",
    "\n",
    "import matplotlib.pyplot as plt"
   ]
  },
  {
   "cell_type": "code",
   "execution_count": 26,
   "metadata": {},
   "outputs": [],
   "source": [
    "wdir = Path().resolve().parent\n",
    "folder = wdir / \"seq_lib\" / \"exchange_variation\"\n",
    "\n",
    "sys = pp.Opts(\n",
    "    max_grad=12000,\n",
    "    grad_unit=\"mT/m\",\n",
    "    max_slew=1e9,\n",
    "    slew_unit=\"T/m/s\",\n",
    "    rf_ringdown_time=0,\n",
    "    rf_dead_time=0,\n",
    "    rf_raster_time=1e-6,\n",
    "    gamma=42576400,\n",
    "    grad_raster_time=1e-6,\n",
    ")\n",
    "# general settings\n",
    "AUTHOR = \"DANIEL MIKSCH\"\n",
    "FLAG_PLOT_SEQUENCE = True  # plot preparation block?\n",
    "FLAG_CHECK_TIMING = True  # perform a timing check at the end of the sequence?\n",
    "FLAG_POST_PREP_SPOIL = True  # add spoiler after preparation block?\n",
    "\n",
    "defs: dict = {}"
   ]
  },
  {
   "cell_type": "markdown",
   "metadata": {},
   "source": [
    "### Definitions"
   ]
  },
  {
   "cell_type": "code",
   "execution_count": 27,
   "metadata": {},
   "outputs": [],
   "source": [
    "# seqid = [\"tex_2ms\",\n",
    "#          \"tex_8ms\",\n",
    "#          \"tex_16ms\",\n",
    "#          \"tex_25ms\",\n",
    "#          \"tex_35ms\",\n",
    "#          \"tex_45ms\",\n",
    "#          \"tex_80ms\",\n",
    "#          \"tex_160ms\",\n",
    "#          \"tex_200ms\",\n",
    "#          \"tex_300ms\"] #file name\n",
    "seqid = [\"tex_2ms_minus\",\n",
    "         \"tex_8ms_minus\",\n",
    "         \"tex_16ms_minus\",\n",
    "         \"tex_25ms_minus\",\n",
    "         \"tex_35ms_minus\",\n",
    "         \"tex_45ms_minus\",\n",
    "         \"tex_80ms_minus\",\n",
    "         \"tex_160ms_minus\",\n",
    "         \"tex_200ms_minus\",\n",
    "         \"tex_300ms_minus\"] #file name\n",
    "\n",
    "defs[\"a\"] = 90 # alpha in degrees\n",
    "defs[\"b0\"] = 17  # B0 [T]\n",
    "defs[\"m0_offset\"] = -10  # m0 offset [ppm]\n",
    "defs[\"n_ETM\"] = 10  # number of ETMs\n",
    "\n",
    "#rf settings\n",
    "flip_angle_90 = np.radians(defs['a'])\n",
    "flip_angle_180 = np.radians(180)\n",
    "t_pulse = 2e-3 \n",
    "\n",
    "#gradient settings\n",
    "spoil_amp = 0.109 * sys.max_grad  # Hz/m\n",
    "\n",
    "crush_amp = 0.99 * sys.max_grad  # Hz/m\n",
    "\n",
    "rise_time = 0.05e-3 #(spoil_amp / GAMMA_HZ) / sys.max_slew  # spoiler rise time in seconds\n",
    "spoil_dur = 0.5e-3  # complete spoiler duration in seconds\n",
    "exchange_dur = 8e-3\n",
    "rephase_dur = 0.5e-3\n",
    "\n",
    "#delay settings\n",
    "\n",
    "exchange_time = [2e-3, 8e-3, 16e-3, 25e-3, 35e-3, 45e-3, 80e-3, 160e-3, 200e-3, 300e-3]\n",
    "delay_inter_etm = pp.make_delay(0.5e-3)\n",
    "\n",
    "delay_exchange = [pp.make_delay(i) for i in exchange_time]\n",
    "\n",
    "test_delay = pp.make_delay(1e-3)\n",
    "\n",
    "#adc\n",
    "pseudo_adc = pp.make_adc(num_samples=1, duration=1e-3)\n"
   ]
  },
  {
   "cell_type": "code",
   "execution_count": 28,
   "metadata": {},
   "outputs": [],
   "source": [
    "defs[\"offsets_ppm\"] = np.array([defs[\"m0_offset\"]])\n",
    "defs[\"num_meas\"] = defs[\"offsets_ppm\"].size  # number of repetition\n",
    "defs[\"seq_id_string\"] = seqid  # unique seq id\n",
    "seq_filename = [seqid[i] + \".seq\" for i in range(len(seqid))]\n",
    "GAMMA_HZ = sys.gamma * 1e-6\n",
    "defs[\"freq\"] = defs[\"b0\"] * GAMMA_HZ  # Larmor frequency [Hz]"
   ]
  },
  {
   "cell_type": "markdown",
   "metadata": {},
   "source": [
    "### RF events"
   ]
  },
  {
   "cell_type": "code",
   "execution_count": 29,
   "metadata": {},
   "outputs": [],
   "source": [
    "rf_90 = pp.make_gauss_pulse(\n",
    "    flip_angle=flip_angle_90,\n",
    "    system=sys,\n",
    "    duration=t_pulse,         # Bandbreite in Hz\n",
    "    center_pos=0.5,\n",
    "    freq_offset=0,\n",
    "    phase_offset=0,\n",
    "    return_gz=False)\n",
    "\n",
    "rf_90_re = pp.make_gauss_pulse(\n",
    "    flip_angle=flip_angle_90,\n",
    "    system=sys,\n",
    "    duration=t_pulse,         # Bandbreite in Hz\n",
    "    center_pos=0.5,\n",
    "    freq_offset=0,\n",
    "    phase_offset=np.radians(180),\n",
    "    return_gz=False)\n",
    "\n",
    "rf_90_water = pp.make_gauss_pulse(\n",
    "    flip_angle=np.radians(90),\n",
    "    system=sys,\n",
    "    duration=t_pulse,         # Bandbreite in Hz\n",
    "    center_pos=0.5,\n",
    "    freq_offset=0,\n",
    "    phase_offset=0,\n",
    "    return_gz=False)\n",
    "\n",
    "rf_180 = pp.make_gauss_pulse(\n",
    "    flip_angle=flip_angle_180,\n",
    "    system=sys,\n",
    "    duration=t_pulse,\n",
    "    center_pos=0.5,\n",
    "    freq_offset=0,\n",
    "    phase_offset=0,\n",
    "    return_gz=False)"
   ]
  },
  {
   "cell_type": "markdown",
   "metadata": {},
   "source": [
    "### Gradient events"
   ]
  },
  {
   "cell_type": "code",
   "execution_count": 30,
   "metadata": {},
   "outputs": [],
   "source": [
    "def create_trapezoid(amplitude, duration, rise_time, dt=sys.grad_raster_time):\n",
    "    if 2 * rise_time > duration:\n",
    "        raise ValueError(\"Die Anstiegs- und Abfallzeit zusammen dürfen nicht länger als die Gesamtdauer sein.\")\n",
    "\n",
    "    # Anzahl der Samples für jede Phase\n",
    "    num_rise_samples = int(rise_time / dt)  # Anzahl der Samples für die Anstiegsphase\n",
    "    num_flat_samples = int((duration - 2 * rise_time) / dt)  # Anzahl der Samples für das Plateau\n",
    "    total_samples = num_rise_samples * 2 + num_flat_samples  # Gesamte Anzahl der Samples\n",
    "\n",
    "    # Trapezoid erstellen\n",
    "    trapezoid = np.zeros(total_samples)\n",
    "\n",
    "    # Anstiegsphase: Linear von 0 bis zur Amplitude\n",
    "    rise = np.linspace(0, amplitude, num_rise_samples, endpoint=False)\n",
    "    trapezoid[:num_rise_samples] = rise\n",
    "\n",
    "    # Plateau: Konstante Amplitude\n",
    "    trapezoid[num_rise_samples:num_rise_samples + num_flat_samples] = amplitude\n",
    "\n",
    "    # Abfallphase: Linear von Amplitude zurück auf 0\n",
    "    fall = np.linspace(amplitude, 0, num_rise_samples, endpoint=True)\n",
    "    trapezoid[num_rise_samples + num_flat_samples:] = fall\n",
    "\n",
    "    return trapezoid"
   ]
  },
  {
   "cell_type": "code",
   "execution_count": 31,
   "metadata": {},
   "outputs": [],
   "source": [
    "trapeziod_spoil = create_trapezoid(spoil_amp, spoil_dur, rise_time)\n",
    "trapeziod_rephase = create_trapezoid(spoil_amp, rephase_dur, rise_time)\n",
    "trapeziod_spoil_minus = create_trapezoid(-spoil_amp, spoil_dur, rise_time)\n",
    "trapeziod_exchange = create_trapezoid(crush_amp, exchange_dur, rise_time)\n",
    "\n",
    "gz_spoil = pp.make_arbitrary_grad(channel='z', \n",
    "                             system=sys, \n",
    "                             waveform=trapeziod_spoil,\n",
    "                             )\n",
    "\n",
    "gz_rephase = pp.make_arbitrary_grad(channel='z', \n",
    "                             system=sys, \n",
    "                             waveform=trapeziod_rephase,\n",
    "                             )\n",
    "\n",
    "gz_exchange = pp.make_arbitrary_grad(channel='z',\n",
    "                                system=sys,\n",
    "                                waveform=trapeziod_exchange,\n",
    "                                )\n",
    "\n",
    "gz_spoil_minus = pp.make_arbitrary_grad(channel='z', \n",
    "                             system=sys, \n",
    "                             waveform=trapeziod_spoil_minus,\n",
    "                             )"
   ]
  },
  {
   "cell_type": "code",
   "execution_count": 32,
   "metadata": {},
   "outputs": [],
   "source": [
    "# dt = sys.grad_raster_time  # Zeitauflösung\n",
    "\n",
    "# trapezoid = create_trapezoid(-spoil_amp, spoil_dur, rise_time, dt)\n",
    "\n",
    "# # Plot\n",
    "# import matplotlib.pyplot as plt\n",
    "# time = np.arange(len(trapezoid)) * dt  # Zeitachse\n",
    "# plt.plot(time, trapezoid)\n",
    "# plt.title(\"Trapezoid with Slopes\")\n",
    "# plt.xlabel(\"Time (s)\")\n",
    "# plt.ylabel(\"Amplitude\")\n",
    "# plt.grid()\n",
    "# plt.show()\n",
    "# spoil_amp"
   ]
  },
  {
   "cell_type": "markdown",
   "metadata": {},
   "source": [
    "### Sequence"
   ]
  },
  {
   "cell_type": "code",
   "execution_count": 33,
   "metadata": {},
   "outputs": [
    {
     "name": "stdout",
     "output_type": "stream",
     "text": [
      "\n",
      "Timing check passed successfully\n",
      "\n",
      "Timing check passed successfully\n",
      "\n",
      "Timing check passed successfully\n",
      "\n",
      "Timing check passed successfully\n",
      "\n",
      "Timing check passed successfully\n",
      "\n",
      "Timing check passed successfully\n",
      "\n",
      "Timing check passed successfully\n",
      "\n",
      "Timing check passed successfully\n",
      "\n",
      "Timing check passed successfully\n",
      "\n",
      "Timing check passed successfully\n"
     ]
    }
   ],
   "source": [
    "\n",
    "\n",
    "# rf_90.phase_offset = np.radians(-90)\n",
    "\n",
    "for index, exchange in enumerate(delay_exchange):\n",
    "    seq = pp.Sequence()\n",
    "    offsets_hz = defs[\"offsets_ppm\"] * defs[\"freq\"] \n",
    "    rf_90.freq_offset = offsets_hz[0]\n",
    "    rf_90_re.freq_offset = offsets_hz[0]\n",
    "\n",
    "    for i in range(defs[\"n_ETM\"]):\n",
    "        seq.add_block(rf_90)\n",
    "        seq.add_block(delay_inter_etm)\n",
    "        seq.add_block(gz_spoil)\n",
    "        seq.add_block(delay_inter_etm)\n",
    "        seq.add_block(rf_90)\n",
    "        \n",
    "        # seq.add_block(gz_exchange)\n",
    "        seq.add_block(exchange)\n",
    "        \n",
    "    seq.add_block(rf_90_water)\n",
    "    seq.add_block(gz_rephase)\n",
    "    seq.add_block(pseudo_adc)\n",
    "\n",
    "    if FLAG_CHECK_TIMING:\n",
    "        ok, error_report = seq.check_timing()\n",
    "    if ok:\n",
    "        print(\"\\nTiming check passed successfully\")\n",
    "    else:\n",
    "        print(\"\\nTiming check failed! Error listing follows\\n\")\n",
    "        print(error_report)\n",
    "\n",
    "    write_seq(seq=seq, seq_defs=defs, filename=folder / seq_filename[index], author=AUTHOR, use_matlab_names=True)"
   ]
  },
  {
   "cell_type": "code",
   "execution_count": 34,
   "metadata": {},
   "outputs": [
    {
     "data": {
      "image/png": "[encoded data removed]",
      "text/plain": [
       "<Figure size 640x480 with 3 Axes>"
      ]
     },
     "metadata": {},
     "output_type": "display_data"
    },
    {
     "data": {
      "image/png": "[encoded data removed]",
      "text/plain": [
       "<Figure size 640x480 with 3 Axes>"
      ]
     },
     "metadata": {},
     "output_type": "display_data"
    }
   ],
   "source": [
    "# if FLAG_CHECK_TIMING:\n",
    "#     ok, error_report = seq.check_timing()\n",
    "# if ok:\n",
    "#     print(\"\\nTiming check passed successfully\")\n",
    "# else:\n",
    "#     print(\"\\nTiming check failed! Error listing follows\\n\")\n",
    "#     print(error_report)\n",
    "\n",
    "if FLAG_PLOT_SEQUENCE:\n",
    "    seq.plot() #time_range=[0.00, .03]"
   ]
  }
 ],
 "metadata": {
  "colab": {
   "collapsed_sections": [],
   "name": "write_t2_se.ipynb",
   "private_outputs": true,
   "provenance": []
  },
  "kernelspec": {
   "display_name": "src",
   "language": "python",
   "name": "python3"
  },
  "language_info": {
   "codemirror_mode": {
    "name": "ipython",
    "version": 3
   },
   "file_extension": ".py",
   "mimetype": "text/x-python",
   "name": "python",
   "nbconvert_exporter": "python",
   "pygments_lexer": "ipython3",
   "version": "3.11.10"
  }
 },
 "nbformat": 4,
 "nbformat_minor": 1
}

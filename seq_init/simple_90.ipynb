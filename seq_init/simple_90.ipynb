{
 "cells": [
  {
   "cell_type": "code",
   "execution_count": 18,
   "metadata": {},
   "outputs": [],
   "source": [
    "from pathlib import Path\n",
    "\n",
    "import numpy as np\n",
    "import pypulseq as pp\n",
    "from bmc.utils.seq.write import write_seq\n",
    "\n",
    "import matplotlib.pyplot as plt"
   ]
  },
  {
   "cell_type": "code",
   "execution_count": 19,
   "metadata": {},
   "outputs": [],
   "source": [
    "seqid = \"90_90\"\n",
    "wdir = Path().resolve().parent\n",
    "folder = wdir / \"seq_lib\""
   ]
  },
  {
   "cell_type": "code",
   "execution_count": 20,
   "metadata": {},
   "outputs": [],
   "source": [
    "# general settings\n",
    "AUTHOR = \"DANIEL MIKSCH\"\n",
    "FLAG_PLOT_SEQUENCE = True  # plot preparation block?\n",
    "FLAG_CHECK_TIMING = True  # perform a timing check at the end of the sequence?\n",
    "FLAG_POST_PREP_SPOIL = True  # add spoiler after preparation block?\n",
    "\n",
    "# sequence definitions\n",
    "defs: dict = {}\n",
    "defs[\"a\"] = 90 # a in degrees\n",
    "defs[\"b0\"] = 17  # B0 [T]\n",
    "\n",
    "# defs[\"trec_m0\"] = 12  # recovery time before M0 [s]\n",
    "defs[\"m0_offset\"] = 100  # m0 offset [ppm]\n",
    "defs[\"offsets_ppm\"] = np.array([defs[\"m0_offset\"]])\n",
    "\n",
    "defs[\"num_meas\"] = defs[\"offsets_ppm\"].size  # number of repetition\n",
    "\n",
    "defs[\"seq_id_string\"] = seqid  # unique seq id\n",
    "\n",
    "\n",
    "seq_filename = defs[\"seq_id_string\"] + \".seq\""
   ]
  },
  {
   "cell_type": "code",
   "execution_count": 21,
   "metadata": {},
   "outputs": [
    {
     "data": {
      "text/plain": [
       "42.5764"
      ]
     },
     "execution_count": 21,
     "metadata": {},
     "output_type": "execute_result"
    }
   ],
   "source": [
    "sys = pp.Opts(\n",
    "    max_grad=120000,\n",
    "    grad_unit=\"mT/m\",\n",
    "    max_slew=1e9,\n",
    "    slew_unit=\"T/m/s\",\n",
    "    rf_ringdown_time=0,\n",
    "    rf_dead_time=0,\n",
    "    rf_raster_time=1e-6,\n",
    "    gamma=42576400,\n",
    "    grad_raster_time=1e-6,\n",
    ")\n",
    "\n",
    "GAMMA_HZ = sys.gamma * 1e-6\n",
    "defs[\"freq\"] = defs[\"b0\"] * GAMMA_HZ  # Larmor frequency [Hz]\n",
    "GAMMA_HZ"
   ]
  },
  {
   "cell_type": "markdown",
   "metadata": {},
   "source": [
    "### RF events"
   ]
  },
  {
   "cell_type": "code",
   "execution_count": 22,
   "metadata": {},
   "outputs": [],
   "source": [
    "flip_angle_90 = np.radians(defs['a'])\n",
    "flip_angle_180 = np.radians(180)\n",
    "t_pulse = 4e-3 \n",
    "\n",
    "rf_90 = pp.make_gauss_pulse(\n",
    "    flip_angle=flip_angle_90,\n",
    "    system=sys,\n",
    "    duration=t_pulse,         # Bandbreite in Hz\n",
    "    center_pos=0.5,\n",
    "    freq_offset=0,\n",
    "    phase_offset=0,\n",
    "    return_gz=False)\n",
    "\n",
    "rf_90_water = pp.make_gauss_pulse(\n",
    "    flip_angle=flip_angle_90,\n",
    "    system=sys,\n",
    "    duration=t_pulse,         # Bandbreite in Hz\n",
    "    center_pos=0.5,\n",
    "    freq_offset=0,\n",
    "    phase_offset=0,\n",
    "    return_gz=False)\n",
    "\n",
    "rf_180 = pp.make_gauss_pulse(\n",
    "    flip_angle=flip_angle_180,\n",
    "    system=sys,\n",
    "    duration=t_pulse,\n",
    "    center_pos=0.5,\n",
    "    freq_offset=0,\n",
    "    phase_offset=0,\n",
    "    return_gz=False)"
   ]
  },
  {
   "cell_type": "markdown",
   "metadata": {},
   "source": [
    "### Gradient events"
   ]
  },
  {
   "cell_type": "code",
   "execution_count": 23,
   "metadata": {},
   "outputs": [],
   "source": [
    "spoil_amp = 0.9 * sys.max_grad  # Hz/m\n",
    "rise_time = 0.05e-3 #(spoil_amp / GAMMA_HZ) / sys.max_slew  # spoiler rise time in seconds\n",
    "spoil_dur = 1e-3  # complete spoiler duration in seconds\n",
    "exchange_dur = 5e-3"
   ]
  },
  {
   "cell_type": "code",
   "execution_count": 24,
   "metadata": {},
   "outputs": [],
   "source": [
    "def create_trapezoid(amplitude, duration, rise_time, dt=sys.grad_raster_time):\n",
    "    if 2 * rise_time > duration:\n",
    "        raise ValueError(\"Die Anstiegs- und Abfallzeit zusammen dürfen nicht länger als die Gesamtdauer sein.\")\n",
    "\n",
    "    # Anzahl der Samples für jede Phase\n",
    "    num_rise_samples = int(rise_time / dt)  # Anzahl der Samples für die Anstiegsphase\n",
    "    num_flat_samples = int((duration - 2 * rise_time) / dt)  # Anzahl der Samples für das Plateau\n",
    "    total_samples = num_rise_samples * 2 + num_flat_samples  # Gesamte Anzahl der Samples\n",
    "\n",
    "    # Trapezoid erstellen\n",
    "    trapezoid = np.zeros(total_samples)\n",
    "\n",
    "    # Anstiegsphase: Linear von 0 bis zur Amplitude\n",
    "    rise = np.linspace(0, amplitude, num_rise_samples, endpoint=False)\n",
    "    trapezoid[:num_rise_samples] = rise\n",
    "\n",
    "    # Plateau: Konstante Amplitude\n",
    "    trapezoid[num_rise_samples:num_rise_samples + num_flat_samples] = amplitude\n",
    "\n",
    "    # Abfallphase: Linear von Amplitude zurück auf 0\n",
    "    fall = np.linspace(amplitude, 0, num_rise_samples, endpoint=True)\n",
    "    trapezoid[num_rise_samples + num_flat_samples:] = fall\n",
    "\n",
    "    return trapezoid"
   ]
  },
  {
   "cell_type": "code",
   "execution_count": 25,
   "metadata": {},
   "outputs": [
    {
     "data": {
      "text/plain": [
       "99"
      ]
     },
     "execution_count": 25,
     "metadata": {},
     "output_type": "execute_result"
    }
   ],
   "source": [
    "trapeziod_spoil = create_trapezoid(spoil_amp, spoil_dur, rise_time)\n",
    "trapeziod_exchange = create_trapezoid(spoil_amp, exchange_dur, rise_time)\n",
    "\n",
    "gz_spoil = pp.make_arbitrary_grad(channel='z', \n",
    "                             system=sys, \n",
    "                             waveform=trapeziod_spoil,\n",
    "                             )\n",
    "gz_exchange = pp.make_arbitrary_grad(channel='z',\n",
    "                                system=sys,\n",
    "                                waveform=trapeziod_exchange,\n",
    "                                )\n",
    "\n",
    "len(np.unique(trapeziod_spoil))"
   ]
  },
  {
   "cell_type": "code",
   "execution_count": 26,
   "metadata": {},
   "outputs": [],
   "source": [
    "# dt = sys.grad_raster_time  # Zeitauflösung\n",
    "\n",
    "# trapezoid = create_trapezoid(spoil_amp, spoil_dur, rise_time, dt)\n",
    "\n",
    "# # Plot\n",
    "# import matplotlib.pyplot as plt\n",
    "# time = np.arange(len(trapezoid)) * dt  # Zeitachse\n",
    "# plt.plot(time, trapezoid)\n",
    "# plt.title(\"Trapezoid with Slopes\")\n",
    "# plt.xlabel(\"Time (s)\")\n",
    "# plt.ylabel(\"Amplitude\")\n",
    "# plt.grid()\n",
    "# plt.show()\n",
    "# spoil_amp"
   ]
  },
  {
   "cell_type": "markdown",
   "metadata": {},
   "source": [
    "### Other events"
   ]
  },
  {
   "cell_type": "code",
   "execution_count": 27,
   "metadata": {},
   "outputs": [],
   "source": [
    "delay_inter_etm = pp.make_delay(2e-3)\n",
    "delay_exchange = pp.make_delay(2.5e-3)\n",
    "\n",
    "pseudo_adc = pp.make_adc(num_samples=1, duration=1e-3)"
   ]
  },
  {
   "cell_type": "markdown",
   "metadata": {},
   "source": [
    "### Sequence"
   ]
  },
  {
   "cell_type": "code",
   "execution_count": 28,
   "metadata": {},
   "outputs": [],
   "source": [
    "seq = pp.Sequence()\n",
    "\n",
    "offsets_hz = defs[\"offsets_ppm\"] * defs[\"freq\"]  # convert from ppm to Hz"
   ]
  },
  {
   "cell_type": "code",
   "execution_count": 29,
   "metadata": {},
   "outputs": [
    {
     "name": "stdout",
     "output_type": "stream",
     "text": [
      "\n",
      "Timing check passed successfully\n"
     ]
    }
   ],
   "source": [
    "\n",
    "rf_90.freq_offset = offsets_hz[0]\n",
    "rf_180.freq_offset = offsets_hz[0]\n",
    "\n",
    "seq.add_block(rf_90)\n",
    "seq.add_block(gz_spoil)\n",
    "seq.add_block(rf_90_water)\n",
    "\n",
    "seq.add_block(pseudo_adc)\n",
    "\n",
    "if FLAG_CHECK_TIMING:\n",
    "    ok, error_report = seq.check_timing()\n",
    "if ok:\n",
    "    print(\"\\nTiming check passed successfully\")\n",
    "else:\n",
    "    print(\"\\nTiming check failed! Error listing follows\\n\")\n",
    "    print(error_report)"
   ]
  },
  {
   "cell_type": "code",
   "execution_count": 30,
   "metadata": {},
   "outputs": [
    {
     "data": {
      "image/png": "[encoded data removed]",
      "text/plain": [
       "<Figure size 640x480 with 3 Axes>"
      ]
     },
     "metadata": {},
     "output_type": "display_data"
    },
    {
     "data": {
      "image/png": "[encoded data removed]",
      "text/plain": [
       "<Figure size 640x480 with 3 Axes>"
      ]
     },
     "metadata": {},
     "output_type": "display_data"
    }
   ],
   "source": [
    "if FLAG_PLOT_SEQUENCE:\n",
    "    seq.plot() #time_range=[0.00, .03]"
   ]
  },
  {
   "cell_type": "code",
   "execution_count": 31,
   "metadata": {},
   "outputs": [],
   "source": [
    "write_seq(seq=seq, seq_defs=defs, filename=folder / seq_filename, author=AUTHOR, use_matlab_names=True)"
   ]
  },
  {
   "cell_type": "code",
   "execution_count": 32,
   "metadata": {},
   "outputs": [
    {
     "data": {
      "text/plain": [
       "array([1.27107146])"
      ]
     },
     "execution_count": 32,
     "metadata": {},
     "output_type": "execute_result"
    }
   ],
   "source": [
    "pp.calc_rf_bandwidth(rf_90) / defs[\"freq\"]"
   ]
  },
  {
   "cell_type": "code",
   "execution_count": 33,
   "metadata": {},
   "outputs": [],
   "source": [
    "# def print_sequence_overview():\n",
    "#     \"\"\"\n",
    "#     Druckt eine Übersicht der wichtigsten Informationen der gegebenen MR-Sequenz.\n",
    "#     :param sequence: Sequenz-Objekt\n",
    "#     \"\"\"\n",
    "#     print(\"=\" * 50)\n",
    "#     print(\"SEQUENCE OVERVIEW\")\n",
    "#     print(\"=\" * 50)\n",
    "\n",
    "#     print(f\"Sequence: {seqid}\")\n",
    "#     print(f\"B0: {defs['b0']} T\")\n",
    "\n",
    "#     print(\"-\" * 50)\n",
    "#     print(\"RF-PULSE\")\n",
    "#     print(\"-\" * 50)\n",
    "\n",
    "#     # RF-Puls (falls verfügbar)\n",
    "\n",
    "#     flip_angles = [defs[\"a\"], 180]\n",
    "#     for i, item in enumerate([rf_90, rf_180]):\n",
    "#         print(f\"RF{flip_angles[i]}\")\n",
    "#         print(f\"Duration: {t_pulse:.5f} s\")\n",
    "#         print(f\"Offset: {defs['offsets_ppm'][0]} ppm\")\n",
    "#         print(f\"Flip angle: {flip_angles[i]}°\")\n",
    "#         print(f\"Bandwidth: {(pp.calc_rf_bandwidth(item) / defs['freq'])[0]:.3f} ppm\")\n",
    "\n",
    "#     print(\"-\" * 50)\n",
    "#     print(\"GRADIENTS\")\n",
    "#     print(\"-\" * 50)\n",
    "\n",
    "#     # Gradientendetails (falls verfügbar)\n",
    "#     gradients = [spoil_dur, rephase_dur]\n",
    "#     for i, grad in enumerate([gz_spoil, gz_rephase]):\n",
    "#         print(f\"{i+1}. Gradient\")\n",
    "#         print(f\"Duration: {gradients[i]:.5f} s\")\n",
    "#         print(f\"Risetime: {rise_time:.5f} us\")\n",
    "\n",
    "#     print(\"=\" * 50)"
   ]
  },
  {
   "cell_type": "code",
   "execution_count": 34,
   "metadata": {},
   "outputs": [],
   "source": [
    "# print_sequence_overview()"
   ]
  },
  {
   "cell_type": "code",
   "execution_count": null,
   "metadata": {},
   "outputs": [],
   "source": []
  }
 ],
 "metadata": {
  "colab": {
   "collapsed_sections": [],
   "name": "write_t2_se.ipynb",
   "private_outputs": true,
   "provenance": []
  },
  "kernelspec": {
   "display_name": "src",
   "language": "python",
   "name": "python3"
  },
  "language_info": {
   "codemirror_mode": {
    "name": "ipython",
    "version": 3
   },
   "file_extension": ".py",
   "mimetype": "text/x-python",
   "name": "python",
   "nbconvert_exporter": "python",
   "pygments_lexer": "ipython3",
   "version": "3.11.10"
  }
 },
 "nbformat": 4,
 "nbformat_minor": 1
}

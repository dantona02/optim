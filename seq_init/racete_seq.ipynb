{
 "cells": [
  {
   "cell_type": "code",
   "execution_count": 788,
   "metadata": {},
   "outputs": [],
   "source": [
    "from pathlib import Path\n",
    "\n",
    "import numpy as np\n",
    "import pypulseq as pp\n",
    "from bmctool.utils.seq.write import write_seq\n",
    "\n",
    "import matplotlib.pyplot as plt"
   ]
  },
  {
   "cell_type": "code",
   "execution_count": 789,
   "metadata": {},
   "outputs": [],
   "source": [
    "try:\n",
    "    seqid = Path(__file__).stem + \"_python\"\n",
    "    folder = Path(__file__).parent\n",
    "except NameError:\n",
    "    seqid = \"default_seqid\"\n",
    "    folder = Path(\".\")"
   ]
  },
  {
   "cell_type": "code",
   "execution_count": 790,
   "metadata": {},
   "outputs": [],
   "source": [
    "# general settings\n",
    "AUTHOR = \"DANIEL MIKSCH\"\n",
    "FLAG_PLOT_SEQUENCE = False  # plot preparation block?\n",
    "FLAG_CHECK_TIMING = True  # perform a timing check at the end of the sequence?\n",
    "FLAG_POST_PREP_SPOIL = True  # add spoiler after preparation block?\n",
    "\n",
    "# sequence definitions\n",
    "defs: dict = {}\n",
    "defs[\"a\"] = 90 # a in degrees\n",
    "defs[\"b0\"] = 17  # B0 [T]\n",
    "defs[\"n_trains\"] = 1  # number of pulses  #\n",
    "defs[\"n_ETM\"] = 2\n",
    "\n",
    "defs[\"tmix\"] = 2.17e-3  # time of exchange between pools (10ms) [s]\n",
    "defs[\"trec\"] = 3  # recovery time [s]\n",
    "defs[\"tETM\"] = 0.9e-3 # intermodule delay between rf pulse and gradient\n",
    "defs[\"tRead\"] = 0.92e-3 # delay between read rf pulse and gradient\n",
    "\n",
    "# defs[\"trec_m0\"] = 12  # recovery time before M0 [s]\n",
    "defs[\"m0_offset\"] = -6.1  # m0 offset [ppm]\n",
    "defs[\"offsets_ppm\"] = np.append(defs[\"m0_offset\"], np.linspace(-6, 6, 21))\n",
    "\n",
    "# defs[\"num_meas\"] = defs[\"offsets_ppm\"].size  # number of repetition -> Reverse\n",
    "\n",
    "defs[\"num_meas\"] = defs[\"offsets_ppm\"].size  # number of repetition\n",
    "# defs[\"tsat\"] = defs[\"tp\"]  # saturation time [s]\n",
    "defs[\"seq_id_string\"] = seqid  # unique seq id\n",
    "# defs[\"spoiling\"] = \"1\" if FLAG_POST_PREP_SPOIL else \"0\"\n",
    "\n",
    "seq_filename = defs[\"seq_id_string\"] + \".seq\"\n",
    "\n",
    "# defs[\"tp\"] = 500e-3  # pulse duration [s]\n",
    "# defs[\"b1pa\"] = 1.174"
   ]
  },
  {
   "cell_type": "code",
   "execution_count": 791,
   "metadata": {},
   "outputs": [],
   "source": [
    "sys = pp.Opts(\n",
    "    max_grad=125,\n",
    "    grad_unit=\"mT/m\",\n",
    "    max_slew=1000,\n",
    "    slew_unit=\"T/m/s\",\n",
    "    rf_ringdown_time=0,\n",
    "    rf_dead_time=0,\n",
    "    rf_raster_time=1e-6,\n",
    "    gamma=42576400,\n",
    ")\n",
    "\n",
    "GAMMA_HZ = sys.gamma * 1e-6\n",
    "defs[\"freq\"] = defs[\"b0\"] * GAMMA_HZ  # Larmor frequency [Hz]"
   ]
  },
  {
   "cell_type": "code",
   "execution_count": 792,
   "metadata": {},
   "outputs": [],
   "source": [
    "# ===========\n",
    "# PREPARATION\n",
    "# ===========\n",
    "\n",
    "# spoiler\n",
    "spoil_amp = 0.8 * sys.max_grad  # Hz/m\n",
    "rise_time = 0e-3  # spoiler rise time in seconds\n",
    "spoil_dur = 400e-6  # complete spoiler duration in seconds\n",
    "gmix_duration = 2e-3\n",
    "\n",
    "gx_spoil, gy_spoil, gz_spoil = [ \n",
    "    pp.make_trapezoid(channel=c, \n",
    "                      system=sys, \n",
    "                      amplitude=spoil_amp,\n",
    "                      duration=spoil_dur, \n",
    "                      rise_time=rise_time)\n",
    "    for c in [\"x\", \"y\", \"z\"]\n",
    "]\n",
    "\n",
    "gx_mix, gy_mix, gz_mix = [ \n",
    "    pp.make_trapezoid(channel=c, \n",
    "                      system=sys,\n",
    "                      amplitude=spoil_amp,\n",
    "                      duration=gmix_duration, \n",
    "                      rise_time=rise_time)\n",
    "    for c in [\"x\", \"y\", \"z\"]\n",
    "]\n",
    "\n",
    "# rf pulse\n",
    "flip_angle = np.radians(defs['a'])\n",
    "t_pulse = 1.83e-3\n",
    "t_pulse_read = 3.6e-3\n",
    "# flip_angle_sat = defs[\"b1pa\"] * GAMMA_HZ * 2 * np.pi * defs[\"tp\"]\n",
    "# bandwidth_read = \n",
    "\n",
    "rf_pulse = pp.make_gauss_pulse(\n",
    "    flip_angle=flip_angle,\n",
    "    system=sys,\n",
    "    bandwidth=1.5e3,         # Bandbreite in Hz\n",
    "    center_pos=0.5,\n",
    "    freq_offset=0,\n",
    "    phase_offset=0,\n",
    "    return_gz=False               # Slice-Selektionsgradienten zurückgeben\n",
    ")\n",
    "\n",
    "rf_read = pp.make_gauss_pulse(\n",
    "    flip_angle=flip_angle,\n",
    "    system=sys,\n",
    "    duration=t_pulse_read,         # Bandbreite in Hz\n",
    "    center_pos=0.5,\n",
    "    freq_offset=0,\n",
    "    phase_offset=0,\n",
    "    return_gz=False               # Slice-Selektionsgradienten zurückgeben\n",
    ")\n",
    "\n",
    "\n",
    "#pseudo adc\n",
    "pseudo_adc = pp.make_adc(num_samples=1, duration=1e-3)\n",
    "\n",
    "# delays\n",
    "tmix_delay = pp.make_delay(defs[\"tmix\"])\n",
    "trec_delay = pp.make_delay(defs[\"trec\"])\n",
    "delay_ETM = pp.make_delay(defs[\"tETM\"])\n",
    "delay_read = pp.make_delay(defs[\"tRead\"])\n",
    "\n"
   ]
  },
  {
   "cell_type": "code",
   "execution_count": 793,
   "metadata": {},
   "outputs": [],
   "source": [
    "seq = pp.Sequence()\n",
    "\n",
    "offsets_hz = defs[\"offsets_ppm\"] * defs[\"freq\"]  # convert from ppm to Hz"
   ]
  },
  {
   "cell_type": "code",
   "execution_count": 794,
   "metadata": {},
   "outputs": [
    {
     "name": "stdout",
     "output_type": "stream",
     "text": [
      "#1 / 22 : offset -6.10 ppm (-4415.173 Hz)\n",
      "#2 / 22 : offset -6.00 ppm (-4342.793 Hz)\n",
      "#3 / 22 : offset -5.40 ppm (-3908.514 Hz)\n",
      "#4 / 22 : offset -4.80 ppm (-3474.234 Hz)\n",
      "#5 / 22 : offset -4.20 ppm (-3039.955 Hz)\n",
      "#6 / 22 : offset -3.60 ppm (-2605.676 Hz)\n",
      "#7 / 22 : offset -3.00 ppm (-2171.396 Hz)\n",
      "#8 / 22 : offset -2.40 ppm (-1737.117 Hz)\n",
      "#9 / 22 : offset -1.80 ppm (-1302.838 Hz)\n",
      "#10 / 22 : offset -1.20 ppm (-868.559 Hz)\n",
      "#11 / 22 : offset -0.60 ppm (-434.279 Hz)\n",
      "#12 / 22 : offset 0.00 ppm (0.000 Hz)\n",
      "#13 / 22 : offset 0.60 ppm (434.279 Hz)\n",
      "#14 / 22 : offset 1.20 ppm (868.559 Hz)\n",
      "#15 / 22 : offset 1.80 ppm (1302.838 Hz)\n",
      "#16 / 22 : offset 2.40 ppm (1737.117 Hz)\n",
      "#17 / 22 : offset 3.00 ppm (2171.396 Hz)\n",
      "#18 / 22 : offset 3.60 ppm (2605.676 Hz)\n",
      "#19 / 22 : offset 4.20 ppm (3039.955 Hz)\n",
      "#20 / 22 : offset 4.80 ppm (3474.234 Hz)\n",
      "#21 / 22 : offset 5.40 ppm (3908.514 Hz)\n",
      "#22 / 22 : offset 6.00 ppm (4342.793 Hz)\n",
      "\n",
      "Timing check passed successfully\n"
     ]
    }
   ],
   "source": [
    "for m, offset in enumerate(offsets_hz):\n",
    "    # print progress/offset\n",
    "    print(f\"#{m + 1} / {len(offsets_hz)} : offset {offset / defs['freq']:.2f} ppm ({offset:.3f} Hz)\")\n",
    "\n",
    "    rf_pulse.freq_offset = offset\n",
    "\n",
    "    for i in range(defs[\"n_ETM\"]):\n",
    "        if i == 0:\n",
    "            seq.add_block(tmix_delay)\n",
    "        seq.add_block(rf_pulse)\n",
    "        seq.add_block(delay_ETM)\n",
    "        seq.add_block(gz_spoil)\n",
    "        seq.add_block(delay_ETM)\n",
    "        seq.add_block(rf_pulse)\n",
    "        seq.add_block(tmix_delay)\n",
    "        seq.add_block(gz_mix)\n",
    "        seq.add_block(tmix_delay)\n",
    "\n",
    "\n",
    "        # add pseudo ADC event\n",
    "    # seq.add_block(tmix_delay)\n",
    "    rf_read.freq_offset = 0\n",
    "    seq.add_block(rf_read)\n",
    "    seq.add_block(delay_read)\n",
    "    seq.add_block(gz_spoil)\n",
    "    seq.add_block(delay_read)\n",
    "    seq.add_block(pseudo_adc)\n",
    "    seq.add_block(trec_delay)\n",
    "\n",
    "if FLAG_CHECK_TIMING:\n",
    "    ok, error_report = seq.check_timing()\n",
    "    if ok:\n",
    "        print(\"\\nTiming check passed successfully\")\n",
    "    else:\n",
    "        print(\"\\nTiming check failed! Error listing follows\\n\")\n",
    "        print(error_report)"
   ]
  },
  {
   "cell_type": "code",
   "execution_count": 795,
   "metadata": {},
   "outputs": [],
   "source": [
    "if FLAG_PLOT_SEQUENCE:\n",
    "    seq.plot(time_range=[6.08, 6.13]) #time_range=[0.00, .03]"
   ]
  },
  {
   "cell_type": "code",
   "execution_count": 796,
   "metadata": {},
   "outputs": [],
   "source": [
    "write_seq(seq=seq, seq_defs=defs, filename=folder / seq_filename, author=AUTHOR, use_matlab_names=True)"
   ]
  },
  {
   "cell_type": "code",
   "execution_count": 797,
   "metadata": {},
   "outputs": [
    {
     "data": {
      "text/plain": [
       "array([1040])"
      ]
     },
     "execution_count": 797,
     "metadata": {},
     "output_type": "execute_result"
    }
   ],
   "source": [
    "pp.calc_rf_bandwidth(rf_read)"
   ]
  },
  {
   "cell_type": "code",
   "execution_count": null,
   "metadata": {},
   "outputs": [],
   "source": []
  }
 ],
 "metadata": {
  "colab": {
   "collapsed_sections": [],
   "name": "write_t2_se.ipynb",
   "private_outputs": true,
   "provenance": []
  },
  "kernelspec": {
   "display_name": "simu",
   "language": "python",
   "name": "python3"
  },
  "language_info": {
   "codemirror_mode": {
    "name": "ipython",
    "version": 3
   },
   "file_extension": ".py",
   "mimetype": "text/x-python",
   "name": "python",
   "nbconvert_exporter": "python",
   "pygments_lexer": "ipython3",
   "version": "3.11.10"
  }
 },
 "nbformat": 4,
 "nbformat_minor": 1
}

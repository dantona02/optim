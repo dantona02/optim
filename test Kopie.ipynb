{
 "cells": [
  {
   "cell_type": "code",
   "execution_count": 6,
   "id": "initial_id",
   "metadata": {
    "ExecuteTime": {
     "end_time": "2023-11-27T14:03:27.105251Z",
     "start_time": "2023-11-27T14:03:27.103818Z"
    },
    "collapsed": true
   },
   "outputs": [],
   "source": [
    "from src.bmc_solver import BlochMcConnellSolver"
   ]
  },
  {
   "cell_type": "code",
   "execution_count": 7,
   "id": "2020c23d",
   "metadata": {},
   "outputs": [],
   "source": [
    "from src.simulate import simulate"
   ]
  }
 ],
 "metadata": {
  "kernelspec": {
   "display_name": "src",
   "language": "python",
   "name": "python3"
  },
  "language_info": {
   "codemirror_mode": {
    "name": "ipython",
    "version": 3
   },
   "file_extension": ".py",
   "mimetype": "text/x-python",
   "name": "python",
   "nbconvert_exporter": "python",
   "pygments_lexer": "ipython3",
   "version": "3.11.10"
  }
 },
 "nbformat": 4,
 "nbformat_minor": 5
}

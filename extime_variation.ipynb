{
 "cells": [
  {
   "cell_type": "markdown",
   "id": "ccfcca9b",
   "metadata": {},
   "source": [
    "### Simulation"
   ]
  },
  {
   "cell_type": "code",
   "execution_count": 43,
   "id": "bbcb1b2f",
   "metadata": {},
   "outputs": [],
   "source": [
    "from bmc.simulate import simulate\n",
    "import numpy as np\n",
    "import matplotlib.pyplot as plt"
   ]
  },
  {
   "cell_type": "code",
   "execution_count": 16,
   "id": "6ed76624",
   "metadata": {},
   "outputs": [],
   "source": [
    "low = -20e-6\n",
    "high = 20e-6\n",
    "n_iso = 1000\n",
    "\n",
    "z_pos = np.linspace(low, high, n_iso)\n",
    "z_pos = np.append(z_pos, 0.)\n",
    "z_pos = np.sort(z_pos)  "
   ]
  },
  {
   "cell_type": "code",
   "execution_count": 17,
   "id": "50b07372",
   "metadata": {},
   "outputs": [],
   "source": [
    "seq_path_on = [f'seq_lib/exchange_variation/tex_{i}ms.seq' for i in range(2, 502, 4)]\n",
    "seq_path_off = [f'seq_lib/exchange_variation/tex_{i}ms_minus.seq' for i in range(2, 502, 4)]\n",
    "config_path = 'sim_lib/config_1pool.yaml'"
   ]
  },
  {
   "cell_type": "code",
   "execution_count": 18,
   "id": "73789ef4",
   "metadata": {},
   "outputs": [
    {
     "data": {
      "text/plain": [
       "125"
      ]
     },
     "execution_count": 18,
     "metadata": {},
     "output_type": "execute_result"
    }
   ],
   "source": [
    "adc_time = 6e-3\n",
    "webhook = False\n",
    "\n",
    "len(seq_path_on)\n"
   ]
  },
  {
   "cell_type": "code",
   "execution_count": 19,
   "id": "55d6353f",
   "metadata": {},
   "outputs": [],
   "source": [
    "from bmc.utils.tex_variation import run_variation"
   ]
  },
  {
   "cell_type": "code",
   "execution_count": 20,
   "id": "de36765c",
   "metadata": {},
   "outputs": [
    {
     "name": "stdout",
     "output_type": "stream",
     "text": [
      "Results will not be saved to a file.\n",
      "Already processed indices: 0\n"
     ]
    },
    {
     "name": "stderr",
     "output_type": "stream",
     "text": [
      "BMCTool simulation: 100%|██████████| 43/43 [03:25<00:00,  4.78s/it]\n"
     ]
    },
    {
     "name": "stdout",
     "output_type": "stream",
     "text": [
      "['rf at 0.0000s', 'gz at 0.0020s', 'adc at 0.0025s']\n"
     ]
    },
    {
     "name": "stderr",
     "output_type": "stream",
     "text": [
      "BMCTool simulation: 100%|██████████| 43/43 [03:29<00:00,  4.88s/it]\n"
     ]
    },
    {
     "name": "stdout",
     "output_type": "stream",
     "text": [
      "['rf at 0.0000s', 'gz at 0.0020s', 'adc at 0.0025s']\n"
     ]
    },
    {
     "name": "stderr",
     "output_type": "stream",
     "text": [
      "BMCTool simulation: 100%|██████████| 43/43 [03:30<00:00,  4.89s/it]\n"
     ]
    },
    {
     "name": "stdout",
     "output_type": "stream",
     "text": [
      "['rf at 0.0000s', 'gz at 0.0020s', 'adc at 0.0025s']\n"
     ]
    },
    {
     "name": "stderr",
     "output_type": "stream",
     "text": [
      "BMCTool simulation: 100%|██████████| 43/43 [03:31<00:00,  4.91s/it]\n"
     ]
    },
    {
     "name": "stdout",
     "output_type": "stream",
     "text": [
      "['rf at 0.0000s', 'gz at 0.0020s', 'adc at 0.0025s']\n"
     ]
    },
    {
     "name": "stderr",
     "output_type": "stream",
     "text": [
      "BMCTool simulation: 100%|██████████| 43/43 [03:31<00:00,  4.92s/it]\n"
     ]
    },
    {
     "name": "stdout",
     "output_type": "stream",
     "text": [
      "['rf at 0.0000s', 'gz at 0.0020s', 'adc at 0.0025s']\n"
     ]
    },
    {
     "name": "stderr",
     "output_type": "stream",
     "text": [
      "BMCTool simulation: 100%|██████████| 43/43 [03:34<00:00,  4.98s/it]\n"
     ]
    },
    {
     "name": "stdout",
     "output_type": "stream",
     "text": [
      "['rf at 0.0000s', 'gz at 0.0020s', 'adc at 0.0025s']\n"
     ]
    },
    {
     "name": "stderr",
     "output_type": "stream",
     "text": [
      "BMCTool simulation: 100%|██████████| 43/43 [03:35<00:00,  5.00s/it]\n"
     ]
    },
    {
     "name": "stdout",
     "output_type": "stream",
     "text": [
      "['rf at 0.0000s', 'gz at 0.0020s', 'adc at 0.0025s']\n"
     ]
    },
    {
     "name": "stderr",
     "output_type": "stream",
     "text": [
      "BMCTool simulation: 100%|██████████| 43/43 [03:35<00:00,  5.01s/it]\n"
     ]
    },
    {
     "name": "stdout",
     "output_type": "stream",
     "text": [
      "['rf at 0.0000s', 'gz at 0.0020s', 'adc at 0.0025s']\n"
     ]
    },
    {
     "name": "stderr",
     "output_type": "stream",
     "text": [
      "BMCTool simulation: 100%|██████████| 43/43 [03:37<00:00,  5.05s/it]\n"
     ]
    },
    {
     "name": "stdout",
     "output_type": "stream",
     "text": [
      "['rf at 0.0000s', 'gz at 0.0020s', 'adc at 0.0025s']\n"
     ]
    },
    {
     "name": "stderr",
     "output_type": "stream",
     "text": [
      "BMCTool simulation: 100%|██████████| 43/43 [03:37<00:00,  5.05s/it]\n"
     ]
    },
    {
     "name": "stdout",
     "output_type": "stream",
     "text": [
      "['rf at 0.0000s', 'gz at 0.0020s', 'adc at 0.0025s']\n"
     ]
    },
    {
     "name": "stderr",
     "output_type": "stream",
     "text": [
      "BMCTool simulation: 100%|██████████| 43/43 [03:37<00:00,  5.06s/it]\n"
     ]
    },
    {
     "name": "stdout",
     "output_type": "stream",
     "text": [
      "['rf at 0.0000s', 'gz at 0.0020s', 'adc at 0.0025s']\n"
     ]
    },
    {
     "name": "stderr",
     "output_type": "stream",
     "text": [
      "BMCTool simulation: 100%|██████████| 43/43 [03:38<00:00,  5.08s/it]\n"
     ]
    },
    {
     "name": "stdout",
     "output_type": "stream",
     "text": [
      "['rf at 0.0000s', 'gz at 0.0020s', 'adc at 0.0025s']\n"
     ]
    },
    {
     "name": "stderr",
     "output_type": "stream",
     "text": [
      "BMCTool simulation: 100%|██████████| 43/43 [03:39<00:00,  5.11s/it]\n"
     ]
    },
    {
     "name": "stdout",
     "output_type": "stream",
     "text": [
      "['rf at 0.0000s', 'gz at 0.0020s', 'adc at 0.0025s']\n"
     ]
    },
    {
     "name": "stderr",
     "output_type": "stream",
     "text": [
      "BMCTool simulation: 100%|██████████| 43/43 [03:39<00:00,  5.11s/it]\n"
     ]
    },
    {
     "name": "stdout",
     "output_type": "stream",
     "text": [
      "['rf at 0.0000s', 'gz at 0.0020s', 'adc at 0.0025s']\n"
     ]
    },
    {
     "name": "stderr",
     "output_type": "stream",
     "text": [
      "BMCTool simulation: 100%|██████████| 43/43 [03:40<00:00,  5.14s/it]\n"
     ]
    },
    {
     "name": "stdout",
     "output_type": "stream",
     "text": [
      "['rf at 0.0000s', 'gz at 0.0020s', 'adc at 0.0025s']\n"
     ]
    },
    {
     "name": "stderr",
     "output_type": "stream",
     "text": [
      "BMCTool simulation: 100%|██████████| 43/43 [03:41<00:00,  5.14s/it]\n"
     ]
    },
    {
     "name": "stdout",
     "output_type": "stream",
     "text": [
      "['rf at 0.0000s', 'gz at 0.0020s', 'adc at 0.0025s']\n"
     ]
    },
    {
     "name": "stderr",
     "output_type": "stream",
     "text": [
      "BMCTool simulation: 100%|██████████| 43/43 [03:41<00:00,  5.15s/it]\n"
     ]
    },
    {
     "name": "stdout",
     "output_type": "stream",
     "text": [
      "['rf at 0.0000s', 'gz at 0.0020s', 'adc at 0.0025s']\n"
     ]
    },
    {
     "name": "stderr",
     "output_type": "stream",
     "text": [
      "BMCTool simulation: 100%|██████████| 43/43 [03:41<00:00,  5.16s/it]\n"
     ]
    },
    {
     "name": "stdout",
     "output_type": "stream",
     "text": [
      "['rf at 0.0000s', 'gz at 0.0020s', 'adc at 0.0025s']\n"
     ]
    },
    {
     "name": "stderr",
     "output_type": "stream",
     "text": [
      "BMCTool simulation: 100%|██████████| 43/43 [03:42<00:00,  5.16s/it]\n"
     ]
    },
    {
     "name": "stdout",
     "output_type": "stream",
     "text": [
      "['rf at 0.0000s', 'gz at 0.0020s', 'adc at 0.0025s']\n"
     ]
    },
    {
     "name": "stderr",
     "output_type": "stream",
     "text": [
      "BMCTool simulation: 100%|██████████| 43/43 [03:42<00:00,  5.17s/it]\n"
     ]
    },
    {
     "name": "stdout",
     "output_type": "stream",
     "text": [
      "['rf at 0.0000s', 'gz at 0.0020s', 'adc at 0.0025s']\n"
     ]
    },
    {
     "name": "stderr",
     "output_type": "stream",
     "text": [
      "BMCTool simulation: 100%|██████████| 43/43 [03:42<00:00,  5.18s/it]\n"
     ]
    },
    {
     "name": "stdout",
     "output_type": "stream",
     "text": [
      "['rf at 0.0000s', 'gz at 0.0020s', 'adc at 0.0025s']\n"
     ]
    },
    {
     "name": "stderr",
     "output_type": "stream",
     "text": [
      "BMCTool simulation: 100%|██████████| 43/43 [03:44<00:00,  5.22s/it]\n"
     ]
    },
    {
     "name": "stdout",
     "output_type": "stream",
     "text": [
      "['rf at 0.0000s', 'gz at 0.0020s', 'adc at 0.0025s']\n"
     ]
    },
    {
     "name": "stderr",
     "output_type": "stream",
     "text": [
      "BMCTool simulation: 100%|██████████| 43/43 [03:44<00:00,  5.23s/it]\n"
     ]
    },
    {
     "name": "stdout",
     "output_type": "stream",
     "text": [
      "['rf at 0.0000s', 'gz at 0.0020s', 'adc at 0.0025s']\n"
     ]
    },
    {
     "name": "stderr",
     "output_type": "stream",
     "text": [
      "BMCTool simulation: 100%|██████████| 43/43 [03:45<00:00,  5.24s/it]\n"
     ]
    },
    {
     "name": "stdout",
     "output_type": "stream",
     "text": [
      "['rf at 0.0000s', 'gz at 0.0020s', 'adc at 0.0025s']\n"
     ]
    },
    {
     "name": "stderr",
     "output_type": "stream",
     "text": [
      "BMCTool simulation: 100%|██████████| 43/43 [03:47<00:00,  5.28s/it]\n"
     ]
    },
    {
     "name": "stdout",
     "output_type": "stream",
     "text": [
      "['rf at 0.0000s', 'gz at 0.0020s', 'adc at 0.0025s']\n"
     ]
    },
    {
     "name": "stderr",
     "output_type": "stream",
     "text": [
      "BMCTool simulation: 100%|██████████| 43/43 [03:19<00:00,  4.65s/it]\n"
     ]
    },
    {
     "name": "stdout",
     "output_type": "stream",
     "text": [
      "['rf at 0.0000s', 'gz at 0.0020s', 'adc at 0.0025s']\n"
     ]
    },
    {
     "name": "stderr",
     "output_type": "stream",
     "text": [
      "BMCTool simulation: 100%|██████████| 43/43 [03:26<00:00,  4.80s/it]\n"
     ]
    },
    {
     "name": "stdout",
     "output_type": "stream",
     "text": [
      "['rf at 0.0000s', 'gz at 0.0020s', 'adc at 0.0025s']\n"
     ]
    },
    {
     "name": "stderr",
     "output_type": "stream",
     "text": [
      "BMCTool simulation: 100%|██████████| 43/43 [03:38<00:00,  5.09s/it]\n"
     ]
    },
    {
     "name": "stdout",
     "output_type": "stream",
     "text": [
      "['rf at 0.0000s', 'gz at 0.0020s', 'adc at 0.0025s']\n"
     ]
    },
    {
     "name": "stderr",
     "output_type": "stream",
     "text": [
      "BMCTool simulation: 100%|██████████| 43/43 [03:42<00:00,  5.16s/it]\n"
     ]
    },
    {
     "name": "stdout",
     "output_type": "stream",
     "text": [
      "['rf at 0.0000s', 'gz at 0.0020s', 'adc at 0.0025s']\n"
     ]
    },
    {
     "name": "stderr",
     "output_type": "stream",
     "text": [
      "BMCTool simulation: 100%|██████████| 43/43 [03:36<00:00,  5.04s/it]\n"
     ]
    },
    {
     "name": "stdout",
     "output_type": "stream",
     "text": [
      "['rf at 0.0000s', 'gz at 0.0020s', 'adc at 0.0025s']\n"
     ]
    },
    {
     "name": "stderr",
     "output_type": "stream",
     "text": [
      "BMCTool simulation: 100%|██████████| 43/43 [03:44<00:00,  5.22s/it]\n"
     ]
    },
    {
     "name": "stdout",
     "output_type": "stream",
     "text": [
      "['rf at 0.0000s', 'gz at 0.0020s', 'adc at 0.0025s']\n"
     ]
    },
    {
     "name": "stderr",
     "output_type": "stream",
     "text": [
      "BMCTool simulation: 100%|██████████| 43/43 [03:34<00:00,  4.99s/it]\n"
     ]
    },
    {
     "name": "stdout",
     "output_type": "stream",
     "text": [
      "['rf at 0.0000s', 'gz at 0.0020s', 'adc at 0.0025s']\n"
     ]
    },
    {
     "name": "stderr",
     "output_type": "stream",
     "text": [
      "BMCTool simulation: 100%|██████████| 43/43 [03:39<00:00,  5.11s/it]\n"
     ]
    },
    {
     "name": "stdout",
     "output_type": "stream",
     "text": [
      "['rf at 0.0000s', 'gz at 0.0020s', 'adc at 0.0025s']\n"
     ]
    },
    {
     "name": "stderr",
     "output_type": "stream",
     "text": [
      "BMCTool simulation:  98%|█████████▊| 42/43 [03:41<00:05,  5.45s/it]"
     ]
    },
    {
     "name": "stdout",
     "output_type": "stream",
     "text": [
      "Result processed: (2, np.float64(0.00021512215093314575)) | Total entries: 1\n",
      "Result processed: (6, np.float64(0.00047684799263796886)) | Total entries: 2\n"
     ]
    },
    {
     "name": "stderr",
     "output_type": "stream",
     "text": [
      "BMCTool simulation: 100%|██████████| 43/43 [03:29<00:00,  4.87s/it]\n"
     ]
    },
    {
     "name": "stdout",
     "output_type": "stream",
     "text": [
      "['rf at 0.0000s', 'gz at 0.0020s', 'adc at 0.0025s']\n"
     ]
    },
    {
     "name": "stderr",
     "output_type": "stream",
     "text": [
      "BMCTool simulation: 100%|██████████| 43/43 [03:38<00:00,  5.08s/it]\n"
     ]
    },
    {
     "name": "stdout",
     "output_type": "stream",
     "text": [
      "['rf at 0.0000s', 'gz at 0.0020s', 'adc at 0.0025s']\n"
     ]
    },
    {
     "name": "stderr",
     "output_type": "stream",
     "text": [
      "BMCTool simulation: 100%|██████████| 43/43 [03:51<00:00,  5.38s/it]\n"
     ]
    },
    {
     "name": "stdout",
     "output_type": "stream",
     "text": [
      "['rf at 0.0000s', 'gz at 0.0020s', 'adc at 0.0025s']\n"
     ]
    },
    {
     "name": "stderr",
     "output_type": "stream",
     "text": [
      "BMCTool simulation: 100%|██████████| 43/43 [03:40<00:00,  5.12s/it]\n"
     ]
    },
    {
     "name": "stdout",
     "output_type": "stream",
     "text": [
      "['rf at 0.0000s', 'gz at 0.0020s', 'adc at 0.0025s']\n"
     ]
    },
    {
     "name": "stderr",
     "output_type": "stream",
     "text": [
      "BMCTool simulation: 100%|██████████| 43/43 [03:40<00:00,  5.13s/it]\n"
     ]
    },
    {
     "name": "stdout",
     "output_type": "stream",
     "text": [
      "['rf at 0.0000s', 'gz at 0.0020s', 'adc at 0.0025s']\n"
     ]
    },
    {
     "name": "stderr",
     "output_type": "stream",
     "text": [
      "BMCTool simulation: 100%|██████████| 43/43 [03:33<00:00,  4.97s/it]\n"
     ]
    },
    {
     "name": "stdout",
     "output_type": "stream",
     "text": [
      "['rf at 0.0000s', 'gz at 0.0020s', 'adc at 0.0025s']\n"
     ]
    },
    {
     "name": "stderr",
     "output_type": "stream",
     "text": [
      "BMCTool simulation: 100%|██████████| 43/43 [03:43<00:00,  5.19s/it]\n"
     ]
    },
    {
     "name": "stdout",
     "output_type": "stream",
     "text": [
      "['rf at 0.0000s', 'gz at 0.0020s', 'adc at 0.0025s']\n"
     ]
    },
    {
     "name": "stderr",
     "output_type": "stream",
     "text": [
      "BMCTool simulation: 100%|██████████| 43/43 [03:44<00:00,  5.22s/it]\n"
     ]
    },
    {
     "name": "stdout",
     "output_type": "stream",
     "text": [
      "['rf at 0.0000s', 'gz at 0.0020s', 'adc at 0.0025s']\n"
     ]
    },
    {
     "name": "stderr",
     "output_type": "stream",
     "text": [
      "BMCTool simulation: 100%|██████████| 43/43 [03:40<00:00,  5.13s/it]\n"
     ]
    },
    {
     "name": "stdout",
     "output_type": "stream",
     "text": [
      "['rf at 0.0000s', 'gz at 0.0020s', 'adc at 0.0025s']\n"
     ]
    },
    {
     "name": "stderr",
     "output_type": "stream",
     "text": [
      "BMCTool simulation: 100%|██████████| 43/43 [03:40<00:00,  5.12s/it]\n"
     ]
    },
    {
     "name": "stdout",
     "output_type": "stream",
     "text": [
      "['rf at 0.0000s', 'gz at 0.0020s', 'adc at 0.0025s']\n"
     ]
    },
    {
     "name": "stderr",
     "output_type": "stream",
     "text": [
      "BMCTool simulation: 100%|██████████| 43/43 [03:40<00:00,  5.13s/it]\n"
     ]
    },
    {
     "name": "stdout",
     "output_type": "stream",
     "text": [
      "['rf at 0.0000s', 'gz at 0.0020s', 'adc at 0.0025s']\n"
     ]
    },
    {
     "name": "stderr",
     "output_type": "stream",
     "text": [
      "BMCTool simulation: 100%|██████████| 43/43 [03:51<00:00,  5.38s/it]\n"
     ]
    },
    {
     "name": "stdout",
     "output_type": "stream",
     "text": [
      "['rf at 0.0000s', 'gz at 0.0020s', 'adc at 0.0025s']\n"
     ]
    },
    {
     "name": "stderr",
     "output_type": "stream",
     "text": [
      "BMCTool simulation: 100%|██████████| 43/43 [03:40<00:00,  5.12s/it]\n"
     ]
    },
    {
     "name": "stdout",
     "output_type": "stream",
     "text": [
      "['rf at 0.0000s', 'gz at 0.0020s', 'adc at 0.0025s']\n"
     ]
    },
    {
     "name": "stderr",
     "output_type": "stream",
     "text": [
      "BMCTool simulation: 100%|██████████| 43/43 [03:41<00:00,  5.15s/it]\n"
     ]
    },
    {
     "name": "stdout",
     "output_type": "stream",
     "text": [
      "['rf at 0.0000s', 'gz at 0.0020s', 'adc at 0.0025s']\n"
     ]
    },
    {
     "name": "stderr",
     "output_type": "stream",
     "text": [
      "BMCTool simulation: 100%|██████████| 43/43 [03:45<00:00,  5.24s/it]\n"
     ]
    },
    {
     "name": "stdout",
     "output_type": "stream",
     "text": [
      "['rf at 0.0000s', 'gz at 0.0020s', 'adc at 0.0025s']\n",
      "Result processed: (10, np.float64(0.0007066227524968045)) | Total entries: 3\n",
      "Result processed: (14, np.float64(0.0009631666705299268)) | Total entries: 4\n",
      "Result processed: (18, np.float64(0.001171507735774101)) | Total entries: 5\n",
      "Result processed: (22, np.float64(0.0013639406526028625)) | Total entries: 6\n",
      "Result processed: (26, np.float64(0.0015346383271707131)) | Total entries: 7\n"
     ]
    },
    {
     "name": "stderr",
     "output_type": "stream",
     "text": [
      "BMCTool simulation: 100%|██████████| 43/43 [03:46<00:00,  5.27s/it]\n"
     ]
    },
    {
     "name": "stdout",
     "output_type": "stream",
     "text": [
      "['rf at 0.0000s', 'gz at 0.0020s', 'adc at 0.0025s']\n"
     ]
    },
    {
     "name": "stderr",
     "output_type": "stream",
     "text": [
      "BMCTool simulation: 100%|██████████| 43/43 [03:52<00:00,  5.41s/it]\n"
     ]
    },
    {
     "name": "stdout",
     "output_type": "stream",
     "text": [
      "['rf at 0.0000s', 'gz at 0.0020s', 'adc at 0.0025s']\n",
      "Result processed: (30, np.float64(0.001668494333307419)) | Total entries: 8\n",
      "Result processed: (34, np.float64(0.0017945413351702058)) | Total entries: 9\n",
      "Result processed: (38, np.float64(0.0018842081509603985)) | Total entries: 10\n",
      "Result processed: (42, np.float64(0.0019689868743237968)) | Total entries: 11\n",
      "Result processed: (46, np.float64(0.002026347273637509)) | Total entries: 12\n",
      "Result processed: (50, np.float64(0.0020785463907325853)) | Total entries: 13\n",
      "Result processed: (54, np.float64(0.0021124987831680794)) | Total entries: 14\n",
      "Result processed: (58, np.float64(0.002141249935211502)) | Total entries: 15\n",
      "Result processed: (62, np.float64(0.002158524723408307)) | Total entries: 16\n",
      "Result processed: (66, np.float64(0.002171256697286546)) | Total entries: 17\n",
      "Result processed: (70, np.float64(0.0021769181298257403)) | Total entries: 18\n",
      "Result processed: (74, np.float64(0.0021790247245512913)) | Total entries: 19\n",
      "Result processed: (78, np.float64(0.002176790409408183)) | Total entries: 20\n",
      "Result processed: (82, np.float64(0.002171979874153241)) | Total entries: 21\n",
      "Result processed: (86, np.float64(0.0021645008099248084)) | Total entries: 22\n",
      "Result processed: (90, np.float64(0.002155256699236675)) | Total entries: 23\n",
      "Result processed: (94, np.float64(0.002144376160261271)) | Total entries: 24\n",
      "Result processed: (98, np.float64(0.0021323415054583595)) | Total entries: 25\n"
     ]
    },
    {
     "name": "stderr",
     "output_type": "stream",
     "text": [
      "BMCTool simulation: 100%|██████████| 43/43 [03:22<00:00,  4.72s/it]\n"
     ]
    },
    {
     "name": "stdout",
     "output_type": "stream",
     "text": [
      "['rf at 0.0000s', 'gz at 0.0020s', 'adc at 0.0025s']\n"
     ]
    },
    {
     "name": "stderr",
     "output_type": "stream",
     "text": [
      "BMCTool simulation: 100%|██████████| 43/43 [03:24<00:00,  4.77s/it]\n"
     ]
    },
    {
     "name": "stdout",
     "output_type": "stream",
     "text": [
      "['rf at 0.0000s', 'gz at 0.0020s', 'adc at 0.0025s']\n"
     ]
    },
    {
     "name": "stderr",
     "output_type": "stream",
     "text": [
      "BMCTool simulation: 100%|██████████| 43/43 [03:30<00:00,  4.89s/it]\n"
     ]
    },
    {
     "name": "stdout",
     "output_type": "stream",
     "text": [
      "['rf at 0.0000s', 'gz at 0.0020s', 'adc at 0.0025s']\n"
     ]
    },
    {
     "name": "stderr",
     "output_type": "stream",
     "text": [
      "BMCTool simulation: 100%|██████████| 43/43 [03:30<00:00,  4.90s/it]\n"
     ]
    },
    {
     "name": "stdout",
     "output_type": "stream",
     "text": [
      "['rf at 0.0000s', 'gz at 0.0020s', 'adc at 0.0025s']\n"
     ]
    },
    {
     "name": "stderr",
     "output_type": "stream",
     "text": [
      "BMCTool simulation: 100%|██████████| 43/43 [03:31<00:00,  4.92s/it]\n"
     ]
    },
    {
     "name": "stdout",
     "output_type": "stream",
     "text": [
      "['rf at 0.0000s', 'gz at 0.0020s', 'adc at 0.0025s']\n"
     ]
    },
    {
     "name": "stderr",
     "output_type": "stream",
     "text": [
      "BMCTool simulation: 100%|██████████| 43/43 [03:32<00:00,  4.93s/it]\n"
     ]
    },
    {
     "name": "stdout",
     "output_type": "stream",
     "text": [
      "['rf at 0.0000s', 'gz at 0.0020s', 'adc at 0.0025s']\n"
     ]
    },
    {
     "name": "stderr",
     "output_type": "stream",
     "text": [
      "BMCTool simulation: 100%|██████████| 43/43 [03:32<00:00,  4.95s/it]\n"
     ]
    },
    {
     "name": "stdout",
     "output_type": "stream",
     "text": [
      "['rf at 0.0000s', 'gz at 0.0020s', 'adc at 0.0025s']\n"
     ]
    },
    {
     "name": "stderr",
     "output_type": "stream",
     "text": [
      "BMCTool simulation: 100%|██████████| 43/43 [03:33<00:00,  4.97s/it]\n"
     ]
    },
    {
     "name": "stdout",
     "output_type": "stream",
     "text": [
      "['rf at 0.0000s', 'gz at 0.0020s', 'adc at 0.0025s']\n"
     ]
    },
    {
     "name": "stderr",
     "output_type": "stream",
     "text": [
      "BMCTool simulation: 100%|██████████| 43/43 [03:33<00:00,  4.97s/it]\n"
     ]
    },
    {
     "name": "stdout",
     "output_type": "stream",
     "text": [
      "['rf at 0.0000s', 'gz at 0.0020s', 'adc at 0.0025s']\n"
     ]
    },
    {
     "name": "stderr",
     "output_type": "stream",
     "text": [
      "BMCTool simulation: 100%|██████████| 43/43 [03:33<00:00,  4.97s/it]\n"
     ]
    },
    {
     "name": "stdout",
     "output_type": "stream",
     "text": [
      "['rf at 0.0000s', 'gz at 0.0020s', 'adc at 0.0025s']\n"
     ]
    },
    {
     "name": "stderr",
     "output_type": "stream",
     "text": [
      "BMCTool simulation: 100%|██████████| 43/43 [03:34<00:00,  4.99s/it]\n"
     ]
    },
    {
     "name": "stdout",
     "output_type": "stream",
     "text": [
      "['rf at 0.0000s', 'gz at 0.0020s', 'adc at 0.0025s']\n"
     ]
    },
    {
     "name": "stderr",
     "output_type": "stream",
     "text": [
      "BMCTool simulation: 100%|██████████| 43/43 [03:34<00:00,  5.00s/it]\n"
     ]
    },
    {
     "name": "stdout",
     "output_type": "stream",
     "text": [
      "['rf at 0.0000s', 'gz at 0.0020s', 'adc at 0.0025s']\n"
     ]
    },
    {
     "name": "stderr",
     "output_type": "stream",
     "text": [
      "BMCTool simulation: 100%|██████████| 43/43 [03:34<00:00,  5.00s/it]\n"
     ]
    },
    {
     "name": "stdout",
     "output_type": "stream",
     "text": [
      "['rf at 0.0000s', 'gz at 0.0020s', 'adc at 0.0025s']\n"
     ]
    },
    {
     "name": "stderr",
     "output_type": "stream",
     "text": [
      "BMCTool simulation: 100%|██████████| 43/43 [03:37<00:00,  5.06s/it]\n"
     ]
    },
    {
     "name": "stdout",
     "output_type": "stream",
     "text": [
      "['rf at 0.0000s', 'gz at 0.0020s', 'adc at 0.0025s']\n"
     ]
    },
    {
     "name": "stderr",
     "output_type": "stream",
     "text": [
      "BMCTool simulation: 100%|██████████| 43/43 [03:40<00:00,  5.13s/it]\n"
     ]
    },
    {
     "name": "stdout",
     "output_type": "stream",
     "text": [
      "['rf at 0.0000s', 'gz at 0.0020s', 'adc at 0.0025s']\n"
     ]
    },
    {
     "name": "stderr",
     "output_type": "stream",
     "text": [
      "BMCTool simulation: 100%|██████████| 43/43 [03:40<00:00,  5.13s/it]\n"
     ]
    },
    {
     "name": "stdout",
     "output_type": "stream",
     "text": [
      "['rf at 0.0000s', 'gz at 0.0020s', 'adc at 0.0025s']\n"
     ]
    },
    {
     "name": "stderr",
     "output_type": "stream",
     "text": [
      "BMCTool simulation: 100%|██████████| 43/43 [03:41<00:00,  5.14s/it]\n"
     ]
    },
    {
     "name": "stdout",
     "output_type": "stream",
     "text": [
      "['rf at 0.0000s', 'gz at 0.0020s', 'adc at 0.0025s']\n"
     ]
    },
    {
     "name": "stderr",
     "output_type": "stream",
     "text": [
      "BMCTool simulation: 100%|██████████| 43/43 [03:41<00:00,  5.14s/it]\n"
     ]
    },
    {
     "name": "stdout",
     "output_type": "stream",
     "text": [
      "['rf at 0.0000s', 'gz at 0.0020s', 'adc at 0.0025s']\n"
     ]
    },
    {
     "name": "stderr",
     "output_type": "stream",
     "text": [
      "BMCTool simulation: 100%|██████████| 43/43 [03:42<00:00,  5.17s/it]\n"
     ]
    },
    {
     "name": "stdout",
     "output_type": "stream",
     "text": [
      "['rf at 0.0000s', 'gz at 0.0020s', 'adc at 0.0025s']\n"
     ]
    },
    {
     "name": "stderr",
     "output_type": "stream",
     "text": [
      "BMCTool simulation: 100%|██████████| 43/43 [03:42<00:00,  5.18s/it]\n"
     ]
    },
    {
     "name": "stdout",
     "output_type": "stream",
     "text": [
      "['rf at 0.0000s', 'gz at 0.0020s', 'adc at 0.0025s']\n"
     ]
    },
    {
     "name": "stderr",
     "output_type": "stream",
     "text": [
      "BMCTool simulation: 100%|██████████| 43/43 [03:44<00:00,  5.22s/it]\n"
     ]
    },
    {
     "name": "stdout",
     "output_type": "stream",
     "text": [
      "['rf at 0.0000s', 'gz at 0.0020s', 'adc at 0.0025s']\n"
     ]
    },
    {
     "name": "stderr",
     "output_type": "stream",
     "text": [
      "BMCTool simulation: 100%|██████████| 43/43 [03:45<00:00,  5.24s/it]\n"
     ]
    },
    {
     "name": "stdout",
     "output_type": "stream",
     "text": [
      "['rf at 0.0000s', 'gz at 0.0020s', 'adc at 0.0025s']\n"
     ]
    },
    {
     "name": "stderr",
     "output_type": "stream",
     "text": [
      "BMCTool simulation: 100%|██████████| 43/43 [03:46<00:00,  5.27s/it]\n"
     ]
    },
    {
     "name": "stdout",
     "output_type": "stream",
     "text": [
      "['rf at 0.0000s', 'gz at 0.0020s', 'adc at 0.0025s']\n"
     ]
    },
    {
     "name": "stderr",
     "output_type": "stream",
     "text": [
      "BMCTool simulation: 100%|██████████| 43/43 [03:47<00:00,  5.28s/it]\n"
     ]
    },
    {
     "name": "stdout",
     "output_type": "stream",
     "text": [
      "['rf at 0.0000s', 'gz at 0.0020s', 'adc at 0.0025s']\n"
     ]
    },
    {
     "name": "stderr",
     "output_type": "stream",
     "text": [
      "BMCTool simulation: 100%|██████████| 43/43 [03:51<00:00,  5.38s/it]\n"
     ]
    },
    {
     "name": "stdout",
     "output_type": "stream",
     "text": [
      "['rf at 0.0000s', 'gz at 0.0020s', 'adc at 0.0025s']\n"
     ]
    },
    {
     "name": "stderr",
     "output_type": "stream",
     "text": [
      "BMCTool simulation: 100%|██████████| 43/43 [03:25<00:00,  4.79s/it]\n"
     ]
    },
    {
     "name": "stdout",
     "output_type": "stream",
     "text": [
      "['rf at 0.0000s', 'gz at 0.0020s', 'adc at 0.0025s']\n"
     ]
    },
    {
     "name": "stderr",
     "output_type": "stream",
     "text": [
      "BMCTool simulation:  91%|█████████ | 39/43 [03:22<00:22,  5.59s/it]"
     ]
    },
    {
     "name": "stdout",
     "output_type": "stream",
     "text": [
      "Result processed: (102, np.float64(0.0021193162914300238)) | Total entries: 26\n"
     ]
    },
    {
     "name": "stderr",
     "output_type": "stream",
     "text": [
      "BMCTool simulation: 100%|██████████| 43/43 [03:26<00:00,  4.80s/it]\n"
     ]
    },
    {
     "name": "stdout",
     "output_type": "stream",
     "text": [
      "['rf at 0.0000s', 'gz at 0.0020s', 'adc at 0.0025s']\n"
     ]
    },
    {
     "name": "stderr",
     "output_type": "stream",
     "text": [
      "BMCTool simulation: 100%|██████████| 43/43 [03:21<00:00,  4.69s/it]\n"
     ]
    },
    {
     "name": "stdout",
     "output_type": "stream",
     "text": [
      "['rf at 0.0000s', 'gz at 0.0020s', 'adc at 0.0025s']\n"
     ]
    },
    {
     "name": "stderr",
     "output_type": "stream",
     "text": [
      "BMCTool simulation:  88%|████████▊ | 38/43 [03:22<00:27,  5.45s/it]"
     ]
    },
    {
     "name": "stdout",
     "output_type": "stream",
     "text": [
      "Result processed: (106, np.float64(0.002105571754352455)) | Total entries: 27\n"
     ]
    },
    {
     "name": "stderr",
     "output_type": "stream",
     "text": [
      "BMCTool simulation: 100%|██████████| 43/43 [03:44<00:00,  5.21s/it]\n"
     ]
    },
    {
     "name": "stdout",
     "output_type": "stream",
     "text": [
      "['rf at 0.0000s', 'gz at 0.0020s', 'adc at 0.0025s']\n"
     ]
    },
    {
     "name": "stderr",
     "output_type": "stream",
     "text": [
      "BMCTool simulation: 100%|██████████| 43/43 [03:32<00:00,  4.94s/it]\n"
     ]
    },
    {
     "name": "stdout",
     "output_type": "stream",
     "text": [
      "['rf at 0.0000s', 'gz at 0.0020s', 'adc at 0.0025s']\n"
     ]
    },
    {
     "name": "stderr",
     "output_type": "stream",
     "text": [
      "BMCTool simulation: 100%|██████████| 43/43 [03:48<00:00,  5.31s/it]\n"
     ]
    },
    {
     "name": "stdout",
     "output_type": "stream",
     "text": [
      "['rf at 0.0000s', 'gz at 0.0020s', 'adc at 0.0025s']\n"
     ]
    },
    {
     "name": "stderr",
     "output_type": "stream",
     "text": [
      "BMCTool simulation: 100%|██████████| 43/43 [03:39<00:00,  5.11s/it]\n"
     ]
    },
    {
     "name": "stdout",
     "output_type": "stream",
     "text": [
      "['rf at 0.0000s', 'gz at 0.0020s', 'adc at 0.0025s']\n"
     ]
    },
    {
     "name": "stderr",
     "output_type": "stream",
     "text": [
      "BMCTool simulation: 100%|██████████| 43/43 [03:42<00:00,  5.17s/it]\n"
     ]
    },
    {
     "name": "stdout",
     "output_type": "stream",
     "text": [
      "['rf at 0.0000s', 'gz at 0.0020s', 'adc at 0.0025s']\n"
     ]
    },
    {
     "name": "stderr",
     "output_type": "stream",
     "text": [
      "BMCTool simulation: 100%|██████████| 43/43 [03:44<00:00,  5.22s/it]\n"
     ]
    },
    {
     "name": "stdout",
     "output_type": "stream",
     "text": [
      "['rf at 0.0000s', 'gz at 0.0020s', 'adc at 0.0025s']\n"
     ]
    },
    {
     "name": "stderr",
     "output_type": "stream",
     "text": [
      "BMCTool simulation: 100%|██████████| 43/43 [03:42<00:00,  5.17s/it]\n"
     ]
    },
    {
     "name": "stdout",
     "output_type": "stream",
     "text": [
      "['rf at 0.0000s', 'gz at 0.0020s', 'adc at 0.0025s']\n"
     ]
    },
    {
     "name": "stderr",
     "output_type": "stream",
     "text": [
      "BMCTool simulation: 100%|██████████| 43/43 [03:41<00:00,  5.15s/it]\n"
     ]
    },
    {
     "name": "stdout",
     "output_type": "stream",
     "text": [
      "['rf at 0.0000s', 'gz at 0.0020s', 'adc at 0.0025s']\n"
     ]
    },
    {
     "name": "stderr",
     "output_type": "stream",
     "text": [
      "BMCTool simulation: 100%|██████████| 43/43 [03:44<00:00,  5.22s/it]\n"
     ]
    },
    {
     "name": "stdout",
     "output_type": "stream",
     "text": [
      "['rf at 0.0000s', 'gz at 0.0020s', 'adc at 0.0025s']\n"
     ]
    },
    {
     "name": "stderr",
     "output_type": "stream",
     "text": [
      "BMCTool simulation: 100%|██████████| 43/43 [03:46<00:00,  5.26s/it]\n"
     ]
    },
    {
     "name": "stdout",
     "output_type": "stream",
     "text": [
      "['rf at 0.0000s', 'gz at 0.0020s', 'adc at 0.0025s']\n"
     ]
    },
    {
     "name": "stderr",
     "output_type": "stream",
     "text": [
      "BMCTool simulation:  98%|█████████▊| 42/43 [03:35<00:04,  4.09s/it]"
     ]
    },
    {
     "name": "stdout",
     "output_type": "stream",
     "text": [
      "Result processed: (110, np.float64(0.002091246390284622)) | Total entries: 28\n"
     ]
    },
    {
     "name": "stderr",
     "output_type": "stream",
     "text": [
      "BMCTool simulation: 100%|██████████| 43/43 [03:33<00:00,  4.96s/it]\n"
     ]
    },
    {
     "name": "stdout",
     "output_type": "stream",
     "text": [
      "['rf at 0.0000s', 'gz at 0.0020s', 'adc at 0.0025s']\n"
     ]
    },
    {
     "name": "stderr",
     "output_type": "stream",
     "text": [
      "BMCTool simulation: 100%|██████████| 43/43 [03:37<00:00,  5.06s/it]\n"
     ]
    },
    {
     "name": "stdout",
     "output_type": "stream",
     "text": [
      "['rf at 0.0000s', 'gz at 0.0020s', 'adc at 0.0025s']\n"
     ]
    },
    {
     "name": "stderr",
     "output_type": "stream",
     "text": [
      "BMCTool simulation: 100%|██████████| 43/43 [03:46<00:00,  5.28s/it]\n"
     ]
    },
    {
     "name": "stdout",
     "output_type": "stream",
     "text": [
      "['rf at 0.0000s', 'gz at 0.0020s', 'adc at 0.0025s']\n"
     ]
    },
    {
     "name": "stderr",
     "output_type": "stream",
     "text": [
      "BMCTool simulation: 100%|██████████| 43/43 [03:29<00:00,  4.88s/it]\n"
     ]
    },
    {
     "name": "stdout",
     "output_type": "stream",
     "text": [
      "['rf at 0.0000s', 'gz at 0.0020s', 'adc at 0.0025s']\n"
     ]
    },
    {
     "name": "stderr",
     "output_type": "stream",
     "text": [
      "BMCTool simulation: 100%|██████████| 43/43 [03:41<00:00,  5.15s/it]\n"
     ]
    },
    {
     "name": "stdout",
     "output_type": "stream",
     "text": [
      "['rf at 0.0000s', 'gz at 0.0020s', 'adc at 0.0025s']\n"
     ]
    },
    {
     "name": "stderr",
     "output_type": "stream",
     "text": [
      "BMCTool simulation: 100%|██████████| 43/43 [03:36<00:00,  5.04s/it]\n"
     ]
    },
    {
     "name": "stdout",
     "output_type": "stream",
     "text": [
      "['rf at 0.0000s', 'gz at 0.0020s', 'adc at 0.0025s']\n"
     ]
    },
    {
     "name": "stderr",
     "output_type": "stream",
     "text": [
      "BMCTool simulation: 100%|██████████| 43/43 [03:35<00:00,  5.02s/it]\n"
     ]
    },
    {
     "name": "stdout",
     "output_type": "stream",
     "text": [
      "['rf at 0.0000s', 'gz at 0.0020s', 'adc at 0.0025s']\n"
     ]
    },
    {
     "name": "stderr",
     "output_type": "stream",
     "text": [
      "BMCTool simulation: 100%|██████████| 43/43 [03:38<00:00,  5.08s/it]\n"
     ]
    },
    {
     "name": "stdout",
     "output_type": "stream",
     "text": [
      "['rf at 0.0000s', 'gz at 0.0020s', 'adc at 0.0025s']\n",
      "Result processed: (114, np.float64(0.0020765004359534567)) | Total entries: 29\n"
     ]
    },
    {
     "name": "stderr",
     "output_type": "stream",
     "text": [
      "BMCTool simulation: 100%|██████████| 43/43 [03:48<00:00,  5.32s/it]\n"
     ]
    },
    {
     "name": "stdout",
     "output_type": "stream",
     "text": [
      "['rf at 0.0000s', 'gz at 0.0020s', 'adc at 0.0025s']\n",
      "Result processed: (118, np.float64(0.0020614362258927423)) | Total entries: 30\n",
      "Result processed: (122, np.float64(0.002046152036888703)) | Total entries: 31\n",
      "Result processed: (126, np.float64(0.0020307187870732026)) | Total entries: 32\n",
      "Result processed: (130, np.float64(0.002015198148080738)) | Total entries: 33\n",
      "Result processed: (134, np.float64(0.001999637570628443)) | Total entries: 34\n",
      "Result processed: (138, np.float64(0.0019840761341283933)) | Total entries: 35\n",
      "Result processed: (142, np.float64(0.001968544881103169)) | Total entries: 36\n",
      "Result processed: (146, np.float64(0.001953068546233428)) | Total entries: 37\n",
      "Result processed: (150, np.float64(0.0019376670613621)) | Total entries: 38\n"
     ]
    },
    {
     "name": "stderr",
     "output_type": "stream",
     "text": [
      "BMCTool simulation: 100%|██████████| 43/43 [03:43<00:00,  5.20s/it]\n"
     ]
    },
    {
     "name": "stdout",
     "output_type": "stream",
     "text": [
      "['rf at 0.0000s', 'gz at 0.0020s', 'adc at 0.0025s']\n"
     ]
    },
    {
     "name": "stderr",
     "output_type": "stream",
     "text": [
      "BMCTool simulation: 100%|██████████| 43/43 [03:46<00:00,  5.28s/it]\n"
     ]
    },
    {
     "name": "stdout",
     "output_type": "stream",
     "text": [
      "['rf at 0.0000s', 'gz at 0.0020s', 'adc at 0.0025s']\n",
      "Result processed: (154, np.float64(0.001922355910026775)) | Total entries: 39\n",
      "Result processed: (158, np.float64(0.001907147627753581)) | Total entries: 40\n",
      "Result processed: (162, np.float64(0.0018920516881136434)) | Total entries: 41\n",
      "Result processed: (166, np.float64(0.0018770757349604768)) | Total entries: 42\n",
      "Result processed: (170, np.float64(0.0018622253351400736)) | Total entries: 43\n",
      "Result processed: (174, np.float64(0.0018475049170803605)) | Total entries: 44\n",
      "Result processed: (178, np.float64(0.001832917508026898)) | Total entries: 45\n"
     ]
    },
    {
     "name": "stderr",
     "output_type": "stream",
     "text": [
      "BMCTool simulation: 100%|██████████| 43/43 [03:49<00:00,  5.35s/it]\n"
     ]
    },
    {
     "name": "stdout",
     "output_type": "stream",
     "text": [
      "['rf at 0.0000s', 'gz at 0.0020s', 'adc at 0.0025s']\n",
      "Result processed: (182, np.float64(0.0018184654281480483)) | Total entries: 46\n",
      "Result processed: (186, np.float64(0.0018041500598076304)) | Total entries: 47\n",
      "Result processed: (190, np.float64(0.0017899723451786612)) | Total entries: 48\n",
      "Result processed: (194, np.float64(0.0017759326093439239)) | Total entries: 49\n",
      "Result processed: (198, np.float64(0.0017620309004575385)) | Total entries: 50\n"
     ]
    },
    {
     "name": "stderr",
     "output_type": "stream",
     "text": [
      "BMCTool simulation: 100%|██████████| 43/43 [03:15<00:00,  4.55s/it]\n"
     ]
    },
    {
     "name": "stdout",
     "output_type": "stream",
     "text": [
      "['rf at 0.0000s', 'gz at 0.0020s', 'adc at 0.0025s']\n"
     ]
    },
    {
     "name": "stderr",
     "output_type": "stream",
     "text": [
      "BMCTool simulation: 100%|██████████| 43/43 [03:23<00:00,  4.73s/it]\n"
     ]
    },
    {
     "name": "stdout",
     "output_type": "stream",
     "text": [
      "['rf at 0.0000s', 'gz at 0.0020s', 'adc at 0.0025s']\n"
     ]
    },
    {
     "name": "stderr",
     "output_type": "stream",
     "text": [
      "BMCTool simulation: 100%|██████████| 43/43 [03:26<00:00,  4.81s/it]\n"
     ]
    },
    {
     "name": "stdout",
     "output_type": "stream",
     "text": [
      "['rf at 0.0000s', 'gz at 0.0020s', 'adc at 0.0025s']\n"
     ]
    },
    {
     "name": "stderr",
     "output_type": "stream",
     "text": [
      "BMCTool simulation: 100%|██████████| 43/43 [03:28<00:00,  4.84s/it]\n"
     ]
    },
    {
     "name": "stdout",
     "output_type": "stream",
     "text": [
      "['rf at 0.0000s', 'gz at 0.0020s', 'adc at 0.0025s']\n"
     ]
    },
    {
     "name": "stderr",
     "output_type": "stream",
     "text": [
      "BMCTool simulation: 100%|██████████| 43/43 [03:29<00:00,  4.87s/it]\n"
     ]
    },
    {
     "name": "stdout",
     "output_type": "stream",
     "text": [
      "['rf at 0.0000s', 'gz at 0.0020s', 'adc at 0.0025s']\n"
     ]
    },
    {
     "name": "stderr",
     "output_type": "stream",
     "text": [
      "BMCTool simulation: 100%|██████████| 43/43 [03:31<00:00,  4.92s/it]\n"
     ]
    },
    {
     "name": "stdout",
     "output_type": "stream",
     "text": [
      "['rf at 0.0000s', 'gz at 0.0020s', 'adc at 0.0025s']\n"
     ]
    },
    {
     "name": "stderr",
     "output_type": "stream",
     "text": [
      "BMCTool simulation: 100%|██████████| 43/43 [03:33<00:00,  4.96s/it]\n"
     ]
    },
    {
     "name": "stdout",
     "output_type": "stream",
     "text": [
      "['rf at 0.0000s', 'gz at 0.0020s', 'adc at 0.0025s']\n"
     ]
    },
    {
     "name": "stderr",
     "output_type": "stream",
     "text": [
      "BMCTool simulation: 100%|██████████| 43/43 [03:34<00:00,  4.98s/it]\n"
     ]
    },
    {
     "name": "stdout",
     "output_type": "stream",
     "text": [
      "['rf at 0.0000s', 'gz at 0.0020s', 'adc at 0.0025s']\n"
     ]
    },
    {
     "name": "stderr",
     "output_type": "stream",
     "text": [
      "BMCTool simulation: 100%|██████████| 43/43 [03:35<00:00,  5.01s/it]\n"
     ]
    },
    {
     "name": "stdout",
     "output_type": "stream",
     "text": [
      "['rf at 0.0000s', 'gz at 0.0020s', 'adc at 0.0025s']\n"
     ]
    },
    {
     "name": "stderr",
     "output_type": "stream",
     "text": [
      "BMCTool simulation: 100%|██████████| 43/43 [03:36<00:00,  5.03s/it]\n"
     ]
    },
    {
     "name": "stdout",
     "output_type": "stream",
     "text": [
      "['rf at 0.0000s', 'gz at 0.0020s', 'adc at 0.0025s']\n"
     ]
    },
    {
     "name": "stderr",
     "output_type": "stream",
     "text": [
      "BMCTool simulation: 100%|██████████| 43/43 [03:37<00:00,  5.06s/it]\n"
     ]
    },
    {
     "name": "stdout",
     "output_type": "stream",
     "text": [
      "['rf at 0.0000s', 'gz at 0.0020s', 'adc at 0.0025s']\n"
     ]
    },
    {
     "name": "stderr",
     "output_type": "stream",
     "text": [
      "BMCTool simulation: 100%|██████████| 43/43 [03:38<00:00,  5.08s/it]\n"
     ]
    },
    {
     "name": "stdout",
     "output_type": "stream",
     "text": [
      "['rf at 0.0000s', 'gz at 0.0020s', 'adc at 0.0025s']\n"
     ]
    },
    {
     "name": "stderr",
     "output_type": "stream",
     "text": [
      "BMCTool simulation: 100%|██████████| 43/43 [03:38<00:00,  5.08s/it]\n"
     ]
    },
    {
     "name": "stdout",
     "output_type": "stream",
     "text": [
      "['rf at 0.0000s', 'gz at 0.0020s', 'adc at 0.0025s']\n"
     ]
    },
    {
     "name": "stderr",
     "output_type": "stream",
     "text": [
      "BMCTool simulation: 100%|██████████| 43/43 [03:39<00:00,  5.10s/it]\n"
     ]
    },
    {
     "name": "stdout",
     "output_type": "stream",
     "text": [
      "['rf at 0.0000s', 'gz at 0.0020s', 'adc at 0.0025s']\n"
     ]
    },
    {
     "name": "stderr",
     "output_type": "stream",
     "text": [
      "BMCTool simulation: 100%|██████████| 43/43 [03:41<00:00,  5.15s/it]\n"
     ]
    },
    {
     "name": "stdout",
     "output_type": "stream",
     "text": [
      "['rf at 0.0000s', 'gz at 0.0020s', 'adc at 0.0025s']\n"
     ]
    },
    {
     "name": "stderr",
     "output_type": "stream",
     "text": [
      "BMCTool simulation: 100%|██████████| 43/43 [03:41<00:00,  5.16s/it]\n"
     ]
    },
    {
     "name": "stdout",
     "output_type": "stream",
     "text": [
      "['rf at 0.0000s', 'gz at 0.0020s', 'adc at 0.0025s']\n"
     ]
    },
    {
     "name": "stderr",
     "output_type": "stream",
     "text": [
      "BMCTool simulation: 100%|██████████| 43/43 [03:42<00:00,  5.17s/it]\n"
     ]
    },
    {
     "name": "stdout",
     "output_type": "stream",
     "text": [
      "['rf at 0.0000s', 'gz at 0.0020s', 'adc at 0.0025s']\n"
     ]
    },
    {
     "name": "stderr",
     "output_type": "stream",
     "text": [
      "BMCTool simulation: 100%|██████████| 43/43 [03:42<00:00,  5.18s/it]\n"
     ]
    },
    {
     "name": "stdout",
     "output_type": "stream",
     "text": [
      "['rf at 0.0000s', 'gz at 0.0020s', 'adc at 0.0025s']\n"
     ]
    },
    {
     "name": "stderr",
     "output_type": "stream",
     "text": [
      "BMCTool simulation: 100%|██████████| 43/43 [03:43<00:00,  5.19s/it]\n"
     ]
    },
    {
     "name": "stdout",
     "output_type": "stream",
     "text": [
      "['rf at 0.0000s', 'gz at 0.0020s', 'adc at 0.0025s']\n"
     ]
    },
    {
     "name": "stderr",
     "output_type": "stream",
     "text": [
      "BMCTool simulation: 100%|██████████| 43/43 [03:43<00:00,  5.21s/it]\n"
     ]
    },
    {
     "name": "stdout",
     "output_type": "stream",
     "text": [
      "['rf at 0.0000s', 'gz at 0.0020s', 'adc at 0.0025s']\n"
     ]
    },
    {
     "name": "stderr",
     "output_type": "stream",
     "text": [
      "BMCTool simulation: 100%|██████████| 43/43 [03:44<00:00,  5.22s/it]\n"
     ]
    },
    {
     "name": "stdout",
     "output_type": "stream",
     "text": [
      "['rf at 0.0000s', 'gz at 0.0020s', 'adc at 0.0025s']\n"
     ]
    },
    {
     "name": "stderr",
     "output_type": "stream",
     "text": [
      "BMCTool simulation: 100%|██████████| 43/43 [03:45<00:00,  5.24s/it]\n"
     ]
    },
    {
     "name": "stdout",
     "output_type": "stream",
     "text": [
      "['rf at 0.0000s', 'gz at 0.0020s', 'adc at 0.0025s']\n"
     ]
    },
    {
     "name": "stderr",
     "output_type": "stream",
     "text": [
      "BMCTool simulation: 100%|██████████| 43/43 [03:46<00:00,  5.26s/it]\n"
     ]
    },
    {
     "name": "stdout",
     "output_type": "stream",
     "text": [
      "['rf at 0.0000s', 'gz at 0.0020s', 'adc at 0.0025s']\n"
     ]
    },
    {
     "name": "stderr",
     "output_type": "stream",
     "text": [
      "BMCTool simulation: 100%|██████████| 43/43 [03:46<00:00,  5.27s/it]\n"
     ]
    },
    {
     "name": "stdout",
     "output_type": "stream",
     "text": [
      "['rf at 0.0000s', 'gz at 0.0020s', 'adc at 0.0025s']\n"
     ]
    },
    {
     "name": "stderr",
     "output_type": "stream",
     "text": [
      "BMCTool simulation: 100%|██████████| 43/43 [03:51<00:00,  5.39s/it]\n"
     ]
    },
    {
     "name": "stdout",
     "output_type": "stream",
     "text": [
      "['rf at 0.0000s', 'gz at 0.0020s', 'adc at 0.0025s']\n"
     ]
    },
    {
     "name": "stderr",
     "output_type": "stream",
     "text": [
      "BMCTool simulation: 100%|██████████| 43/43 [03:40<00:00,  5.13s/it]\n"
     ]
    },
    {
     "name": "stdout",
     "output_type": "stream",
     "text": [
      "['rf at 0.0000s', 'gz at 0.0020s', 'adc at 0.0025s']\n"
     ]
    },
    {
     "name": "stderr",
     "output_type": "stream",
     "text": [
      "BMCTool simulation: 100%|██████████| 43/43 [03:30<00:00,  4.90s/it]\n"
     ]
    },
    {
     "name": "stdout",
     "output_type": "stream",
     "text": [
      "['rf at 0.0000s', 'gz at 0.0020s', 'adc at 0.0025s']\n",
      "Result processed: (202, np.float64(0.0017482668641410097)) | Total entries: 51\n"
     ]
    },
    {
     "name": "stderr",
     "output_type": "stream",
     "text": [
      "BMCTool simulation: 100%|██████████| 43/43 [03:39<00:00,  5.11s/it]\n"
     ]
    },
    {
     "name": "stdout",
     "output_type": "stream",
     "text": [
      "['rf at 0.0000s', 'gz at 0.0020s', 'adc at 0.0025s']\n"
     ]
    },
    {
     "name": "stderr",
     "output_type": "stream",
     "text": [
      "BMCTool simulation: 100%|██████████| 43/43 [03:37<00:00,  5.06s/it]\n"
     ]
    },
    {
     "name": "stdout",
     "output_type": "stream",
     "text": [
      "['rf at 0.0000s', 'gz at 0.0020s', 'adc at 0.0025s']\n"
     ]
    },
    {
     "name": "stderr",
     "output_type": "stream",
     "text": [
      "BMCTool simulation: 100%|██████████| 43/43 [03:38<00:00,  5.07s/it]\n"
     ]
    },
    {
     "name": "stdout",
     "output_type": "stream",
     "text": [
      "['rf at 0.0000s', 'gz at 0.0020s', 'adc at 0.0025s']\n"
     ]
    },
    {
     "name": "stderr",
     "output_type": "stream",
     "text": [
      "BMCTool simulation: 100%|██████████| 43/43 [03:35<00:00,  5.00s/it]\n"
     ]
    },
    {
     "name": "stdout",
     "output_type": "stream",
     "text": [
      "['rf at 0.0000s', 'gz at 0.0020s', 'adc at 0.0025s']\n"
     ]
    },
    {
     "name": "stderr",
     "output_type": "stream",
     "text": [
      "BMCTool simulation: 100%|██████████| 43/43 [03:35<00:00,  5.01s/it]\n"
     ]
    },
    {
     "name": "stdout",
     "output_type": "stream",
     "text": [
      "['rf at 0.0000s', 'gz at 0.0020s', 'adc at 0.0025s']\n"
     ]
    },
    {
     "name": "stderr",
     "output_type": "stream",
     "text": [
      "BMCTool simulation: 100%|██████████| 43/43 [03:51<00:00,  5.38s/it]\n"
     ]
    },
    {
     "name": "stdout",
     "output_type": "stream",
     "text": [
      "['rf at 0.0000s', 'gz at 0.0020s', 'adc at 0.0025s']\n"
     ]
    },
    {
     "name": "stderr",
     "output_type": "stream",
     "text": [
      "BMCTool simulation: 100%|██████████| 43/43 [03:47<00:00,  5.29s/it]\n"
     ]
    },
    {
     "name": "stdout",
     "output_type": "stream",
     "text": [
      "['rf at 0.0000s', 'gz at 0.0020s', 'adc at 0.0025s']\n"
     ]
    },
    {
     "name": "stderr",
     "output_type": "stream",
     "text": [
      "BMCTool simulation: 100%|██████████| 43/43 [03:41<00:00,  5.15s/it]\n"
     ]
    },
    {
     "name": "stdout",
     "output_type": "stream",
     "text": [
      "['rf at 0.0000s', 'gz at 0.0020s', 'adc at 0.0025s']\n"
     ]
    },
    {
     "name": "stderr",
     "output_type": "stream",
     "text": [
      "BMCTool simulation: 100%|██████████| 43/43 [03:41<00:00,  5.15s/it]\n"
     ]
    },
    {
     "name": "stdout",
     "output_type": "stream",
     "text": [
      "['rf at 0.0000s', 'gz at 0.0020s', 'adc at 0.0025s']\n"
     ]
    },
    {
     "name": "stderr",
     "output_type": "stream",
     "text": [
      "BMCTool simulation: 100%|██████████| 43/43 [03:37<00:00,  5.06s/it]\n"
     ]
    },
    {
     "name": "stdout",
     "output_type": "stream",
     "text": [
      "['rf at 0.0000s', 'gz at 0.0020s', 'adc at 0.0025s']\n"
     ]
    },
    {
     "name": "stderr",
     "output_type": "stream",
     "text": [
      "BMCTool simulation: 100%|██████████| 43/43 [03:44<00:00,  5.22s/it]\n"
     ]
    },
    {
     "name": "stdout",
     "output_type": "stream",
     "text": [
      "['rf at 0.0000s', 'gz at 0.0020s', 'adc at 0.0025s']\n"
     ]
    },
    {
     "name": "stderr",
     "output_type": "stream",
     "text": [
      "BMCTool simulation: 100%|██████████| 43/43 [03:37<00:00,  5.07s/it]\n"
     ]
    },
    {
     "name": "stdout",
     "output_type": "stream",
     "text": [
      "['rf at 0.0000s', 'gz at 0.0020s', 'adc at 0.0025s']\n"
     ]
    },
    {
     "name": "stderr",
     "output_type": "stream",
     "text": [
      "BMCTool simulation: 100%|██████████| 43/43 [03:36<00:00,  5.03s/it]\n"
     ]
    },
    {
     "name": "stdout",
     "output_type": "stream",
     "text": [
      "['rf at 0.0000s', 'gz at 0.0020s', 'adc at 0.0025s']\n"
     ]
    },
    {
     "name": "stderr",
     "output_type": "stream",
     "text": [
      "BMCTool simulation: 100%|██████████| 43/43 [03:46<00:00,  5.26s/it]\n"
     ]
    },
    {
     "name": "stdout",
     "output_type": "stream",
     "text": [
      "['rf at 0.0000s', 'gz at 0.0020s', 'adc at 0.0025s']\n"
     ]
    },
    {
     "name": "stderr",
     "output_type": "stream",
     "text": [
      "BMCTool simulation: 100%|██████████| 43/43 [03:34<00:00,  4.98s/it]\n"
     ]
    },
    {
     "name": "stdout",
     "output_type": "stream",
     "text": [
      "['rf at 0.0000s', 'gz at 0.0020s', 'adc at 0.0025s']\n"
     ]
    },
    {
     "name": "stderr",
     "output_type": "stream",
     "text": [
      "BMCTool simulation: 100%|██████████| 43/43 [03:41<00:00,  5.15s/it]\n"
     ]
    },
    {
     "name": "stdout",
     "output_type": "stream",
     "text": [
      "['rf at 0.0000s', 'gz at 0.0020s', 'adc at 0.0025s']\n"
     ]
    },
    {
     "name": "stderr",
     "output_type": "stream",
     "text": [
      "BMCTool simulation: 100%|██████████| 43/43 [03:39<00:00,  5.11s/it]\n"
     ]
    },
    {
     "name": "stdout",
     "output_type": "stream",
     "text": [
      "['rf at 0.0000s', 'gz at 0.0020s', 'adc at 0.0025s']\n"
     ]
    },
    {
     "name": "stderr",
     "output_type": "stream",
     "text": [
      "BMCTool simulation: 100%|██████████| 43/43 [03:41<00:00,  5.15s/it]\n"
     ]
    },
    {
     "name": "stdout",
     "output_type": "stream",
     "text": [
      "['rf at 0.0000s', 'gz at 0.0020s', 'adc at 0.0025s']\n"
     ]
    },
    {
     "name": "stderr",
     "output_type": "stream",
     "text": [
      "BMCTool simulation: 100%|██████████| 43/43 [03:41<00:00,  5.15s/it]\n"
     ]
    },
    {
     "name": "stdout",
     "output_type": "stream",
     "text": [
      "['rf at 0.0000s', 'gz at 0.0020s', 'adc at 0.0025s']\n"
     ]
    },
    {
     "name": "stderr",
     "output_type": "stream",
     "text": [
      "BMCTool simulation: 100%|██████████| 43/43 [03:46<00:00,  5.26s/it]\n"
     ]
    },
    {
     "name": "stdout",
     "output_type": "stream",
     "text": [
      "['rf at 0.0000s', 'gz at 0.0020s', 'adc at 0.0025s']\n"
     ]
    },
    {
     "name": "stderr",
     "output_type": "stream",
     "text": [
      "BMCTool simulation: 100%|██████████| 43/43 [03:39<00:00,  5.11s/it]\n"
     ]
    },
    {
     "name": "stdout",
     "output_type": "stream",
     "text": [
      "['rf at 0.0000s', 'gz at 0.0020s', 'adc at 0.0025s']\n"
     ]
    },
    {
     "name": "stderr",
     "output_type": "stream",
     "text": [
      "BMCTool simulation: 100%|██████████| 43/43 [03:40<00:00,  5.13s/it]\n"
     ]
    },
    {
     "name": "stdout",
     "output_type": "stream",
     "text": [
      "['rf at 0.0000s', 'gz at 0.0020s', 'adc at 0.0025s']\n"
     ]
    },
    {
     "name": "stderr",
     "output_type": "stream",
     "text": [
      "BMCTool simulation: 100%|██████████| 43/43 [03:36<00:00,  5.03s/it]\n"
     ]
    },
    {
     "name": "stdout",
     "output_type": "stream",
     "text": [
      "['rf at 0.0000s', 'gz at 0.0020s', 'adc at 0.0025s']\n",
      "Result processed: (206, np.float64(0.0017346399752892596)) | Total entries: 52\n",
      "Result processed: (210, np.float64(0.0017211494483121068)) | Total entries: 53\n",
      "Result processed: (214, np.float64(0.0017077943952542218)) | Total entries: 54\n",
      "Result processed: (218, np.float64(0.0016945737641136571)) | Total entries: 55\n",
      "Result processed: (222, np.float64(0.0016814864386923637)) | Total entries: 56\n",
      "Result processed: (226, np.float64(0.0016685312054375058)) | Total entries: 57\n",
      "Result processed: (230, np.float64(0.0016557068141838844)) | Total entries: 58\n",
      "Result processed: (234, np.float64(0.0016430119592228988)) | Total entries: 59\n",
      "Result processed: (238, np.float64(0.0016304453141679869)) | Total entries: 60\n",
      "Result processed: (242, np.float64(0.0016180055242204466)) | Total entries: 61\n",
      "Result processed: (246, np.float64(0.0016056912274270729)) | Total entries: 62\n",
      "Result processed: (250, np.float64(0.0015935010492670954)) | Total entries: 63\n",
      "Result processed: (254, np.float64(0.0015814336151644761)) | Total entries: 64\n",
      "Result processed: (258, np.float64(0.00156948755263619)) | Total entries: 65\n",
      "Result processed: (262, np.float64(0.0015576614904232078)) | Total entries: 66\n",
      "Result processed: (266, np.float64(0.0015459540673589721)) | Total entries: 67\n",
      "Result processed: (270, np.float64(0.0015343639285655528)) | Total entries: 68\n",
      "Result processed: (274, np.float64(0.0015228897306205167)) | Total entries: 69\n",
      "Result processed: (278, np.float64(0.0015115301405016217)) | Total entries: 70\n",
      "Result processed: (282, np.float64(0.001500283837996553)) | Total entries: 71\n",
      "Result processed: (286, np.float64(0.0014891495160407385)) | Total entries: 72\n",
      "Result processed: (290, np.float64(0.0014781258818931592)) | Total entries: 73\n",
      "Result processed: (294, np.float64(0.001467211654707455)) | Total entries: 74\n",
      "Result processed: (298, np.float64(0.001456405569880795)) | Total entries: 75\n"
     ]
    },
    {
     "name": "stderr",
     "output_type": "stream",
     "text": [
      "BMCTool simulation: 100%|██████████| 43/43 [03:20<00:00,  4.66s/it]\n"
     ]
    },
    {
     "name": "stdout",
     "output_type": "stream",
     "text": [
      "['rf at 0.0000s', 'gz at 0.0020s', 'adc at 0.0025s']\n"
     ]
    },
    {
     "name": "stderr",
     "output_type": "stream",
     "text": [
      "BMCTool simulation: 100%|██████████| 43/43 [03:21<00:00,  4.68s/it]\n"
     ]
    },
    {
     "name": "stdout",
     "output_type": "stream",
     "text": [
      "['rf at 0.0000s', 'gz at 0.0020s', 'adc at 0.0025s']\n"
     ]
    },
    {
     "name": "stderr",
     "output_type": "stream",
     "text": [
      "BMCTool simulation: 100%|██████████| 43/43 [03:25<00:00,  4.77s/it]\n"
     ]
    },
    {
     "name": "stdout",
     "output_type": "stream",
     "text": [
      "['rf at 0.0000s', 'gz at 0.0020s', 'adc at 0.0025s']\n"
     ]
    },
    {
     "name": "stderr",
     "output_type": "stream",
     "text": [
      "BMCTool simulation: 100%|██████████| 43/43 [03:29<00:00,  4.88s/it]\n"
     ]
    },
    {
     "name": "stdout",
     "output_type": "stream",
     "text": [
      "['rf at 0.0000s', 'gz at 0.0020s', 'adc at 0.0025s']\n"
     ]
    },
    {
     "name": "stderr",
     "output_type": "stream",
     "text": [
      "BMCTool simulation: 100%|██████████| 43/43 [03:30<00:00,  4.90s/it]\n"
     ]
    },
    {
     "name": "stdout",
     "output_type": "stream",
     "text": [
      "['rf at 0.0000s', 'gz at 0.0020s', 'adc at 0.0025s']\n"
     ]
    },
    {
     "name": "stderr",
     "output_type": "stream",
     "text": [
      "BMCTool simulation: 100%|██████████| 43/43 [03:31<00:00,  4.93s/it]\n"
     ]
    },
    {
     "name": "stdout",
     "output_type": "stream",
     "text": [
      "['rf at 0.0000s', 'gz at 0.0020s', 'adc at 0.0025s']\n"
     ]
    },
    {
     "name": "stderr",
     "output_type": "stream",
     "text": [
      "BMCTool simulation: 100%|██████████| 43/43 [03:31<00:00,  4.93s/it]\n"
     ]
    },
    {
     "name": "stdout",
     "output_type": "stream",
     "text": [
      "['rf at 0.0000s', 'gz at 0.0020s', 'adc at 0.0025s']\n"
     ]
    },
    {
     "name": "stderr",
     "output_type": "stream",
     "text": [
      "BMCTool simulation: 100%|██████████| 43/43 [03:35<00:00,  5.02s/it]\n"
     ]
    },
    {
     "name": "stdout",
     "output_type": "stream",
     "text": [
      "['rf at 0.0000s', 'gz at 0.0020s', 'adc at 0.0025s']\n"
     ]
    },
    {
     "name": "stderr",
     "output_type": "stream",
     "text": [
      "BMCTool simulation: 100%|██████████| 43/43 [03:36<00:00,  5.04s/it]\n"
     ]
    },
    {
     "name": "stdout",
     "output_type": "stream",
     "text": [
      "['rf at 0.0000s', 'gz at 0.0020s', 'adc at 0.0025s']\n"
     ]
    },
    {
     "name": "stderr",
     "output_type": "stream",
     "text": [
      "BMCTool simulation: 100%|██████████| 43/43 [03:37<00:00,  5.06s/it]\n"
     ]
    },
    {
     "name": "stdout",
     "output_type": "stream",
     "text": [
      "['rf at 0.0000s', 'gz at 0.0020s', 'adc at 0.0025s']\n"
     ]
    },
    {
     "name": "stderr",
     "output_type": "stream",
     "text": [
      "BMCTool simulation: 100%|██████████| 43/43 [03:38<00:00,  5.07s/it]\n"
     ]
    },
    {
     "name": "stdout",
     "output_type": "stream",
     "text": [
      "['rf at 0.0000s', 'gz at 0.0020s', 'adc at 0.0025s']\n"
     ]
    },
    {
     "name": "stderr",
     "output_type": "stream",
     "text": [
      "BMCTool simulation: 100%|██████████| 43/43 [03:38<00:00,  5.08s/it]\n"
     ]
    },
    {
     "name": "stdout",
     "output_type": "stream",
     "text": [
      "['rf at 0.0000s', 'gz at 0.0020s', 'adc at 0.0025s']\n"
     ]
    },
    {
     "name": "stderr",
     "output_type": "stream",
     "text": [
      "BMCTool simulation: 100%|██████████| 43/43 [03:39<00:00,  5.09s/it]\n"
     ]
    },
    {
     "name": "stdout",
     "output_type": "stream",
     "text": [
      "['rf at 0.0000s', 'gz at 0.0020s', 'adc at 0.0025s']\n"
     ]
    },
    {
     "name": "stderr",
     "output_type": "stream",
     "text": [
      "BMCTool simulation: 100%|██████████| 43/43 [03:39<00:00,  5.11s/it]\n"
     ]
    },
    {
     "name": "stdout",
     "output_type": "stream",
     "text": [
      "['rf at 0.0000s', 'gz at 0.0020s', 'adc at 0.0025s']\n"
     ]
    },
    {
     "name": "stderr",
     "output_type": "stream",
     "text": [
      "BMCTool simulation: 100%|██████████| 43/43 [03:40<00:00,  5.12s/it]\n"
     ]
    },
    {
     "name": "stdout",
     "output_type": "stream",
     "text": [
      "['rf at 0.0000s', 'gz at 0.0020s', 'adc at 0.0025s']\n"
     ]
    },
    {
     "name": "stderr",
     "output_type": "stream",
     "text": [
      "BMCTool simulation: 100%|██████████| 43/43 [03:40<00:00,  5.13s/it]\n"
     ]
    },
    {
     "name": "stdout",
     "output_type": "stream",
     "text": [
      "['rf at 0.0000s', 'gz at 0.0020s', 'adc at 0.0025s']\n"
     ]
    },
    {
     "name": "stderr",
     "output_type": "stream",
     "text": [
      "BMCTool simulation: 100%|██████████| 43/43 [03:40<00:00,  5.13s/it]\n"
     ]
    },
    {
     "name": "stdout",
     "output_type": "stream",
     "text": [
      "['rf at 0.0000s', 'gz at 0.0020s', 'adc at 0.0025s']\n"
     ]
    },
    {
     "name": "stderr",
     "output_type": "stream",
     "text": [
      "BMCTool simulation: 100%|██████████| 43/43 [03:41<00:00,  5.16s/it]\n"
     ]
    },
    {
     "name": "stdout",
     "output_type": "stream",
     "text": [
      "['rf at 0.0000s', 'gz at 0.0020s', 'adc at 0.0025s']\n"
     ]
    },
    {
     "name": "stderr",
     "output_type": "stream",
     "text": [
      "BMCTool simulation: 100%|██████████| 43/43 [03:42<00:00,  5.17s/it]\n"
     ]
    },
    {
     "name": "stdout",
     "output_type": "stream",
     "text": [
      "['rf at 0.0000s', 'gz at 0.0020s', 'adc at 0.0025s']\n"
     ]
    },
    {
     "name": "stderr",
     "output_type": "stream",
     "text": [
      "BMCTool simulation: 100%|██████████| 43/43 [03:43<00:00,  5.20s/it]\n"
     ]
    },
    {
     "name": "stdout",
     "output_type": "stream",
     "text": [
      "['rf at 0.0000s', 'gz at 0.0020s', 'adc at 0.0025s']\n"
     ]
    },
    {
     "name": "stderr",
     "output_type": "stream",
     "text": [
      "BMCTool simulation: 100%|██████████| 43/43 [03:44<00:00,  5.21s/it]\n"
     ]
    },
    {
     "name": "stdout",
     "output_type": "stream",
     "text": [
      "['rf at 0.0000s', 'gz at 0.0020s', 'adc at 0.0025s']\n"
     ]
    },
    {
     "name": "stderr",
     "output_type": "stream",
     "text": [
      "BMCTool simulation: 100%|██████████| 43/43 [03:44<00:00,  5.21s/it]\n"
     ]
    },
    {
     "name": "stdout",
     "output_type": "stream",
     "text": [
      "['rf at 0.0000s', 'gz at 0.0020s', 'adc at 0.0025s']\n"
     ]
    },
    {
     "name": "stderr",
     "output_type": "stream",
     "text": [
      "BMCTool simulation: 100%|██████████| 43/43 [03:44<00:00,  5.22s/it]\n"
     ]
    },
    {
     "name": "stdout",
     "output_type": "stream",
     "text": [
      "['rf at 0.0000s', 'gz at 0.0020s', 'adc at 0.0025s']\n"
     ]
    },
    {
     "name": "stderr",
     "output_type": "stream",
     "text": [
      "BMCTool simulation: 100%|██████████| 43/43 [03:46<00:00,  5.27s/it]\n"
     ]
    },
    {
     "name": "stdout",
     "output_type": "stream",
     "text": [
      "['rf at 0.0000s', 'gz at 0.0020s', 'adc at 0.0025s']\n"
     ]
    },
    {
     "name": "stderr",
     "output_type": "stream",
     "text": [
      "BMCTool simulation: 100%|██████████| 43/43 [03:49<00:00,  5.34s/it]\n"
     ]
    },
    {
     "name": "stdout",
     "output_type": "stream",
     "text": [
      "['rf at 0.0000s', 'gz at 0.0020s', 'adc at 0.0025s']\n"
     ]
    },
    {
     "name": "stderr",
     "output_type": "stream",
     "text": [
      "BMCTool simulation: 100%|██████████| 43/43 [03:34<00:00,  4.98s/it]\n"
     ]
    },
    {
     "name": "stdout",
     "output_type": "stream",
     "text": [
      "['rf at 0.0000s', 'gz at 0.0020s', 'adc at 0.0025s']\n"
     ]
    },
    {
     "name": "stderr",
     "output_type": "stream",
     "text": [
      "BMCTool simulation: 100%|██████████| 43/43 [03:44<00:00,  5.23s/it]\n"
     ]
    },
    {
     "name": "stdout",
     "output_type": "stream",
     "text": [
      "['rf at 0.0000s', 'gz at 0.0020s', 'adc at 0.0025s']\n"
     ]
    },
    {
     "name": "stderr",
     "output_type": "stream",
     "text": [
      "BMCTool simulation:  88%|████████▊ | 38/43 [03:22<00:24,  4.86s/it]"
     ]
    },
    {
     "name": "stdout",
     "output_type": "stream",
     "text": [
      "Result processed: (302, np.float64(0.0014457063763433327)) | Total entries: 76\n"
     ]
    },
    {
     "name": "stderr",
     "output_type": "stream",
     "text": [
      "BMCTool simulation: 100%|██████████| 43/43 [03:37<00:00,  5.07s/it]\n"
     ]
    },
    {
     "name": "stdout",
     "output_type": "stream",
     "text": [
      "['rf at 0.0000s', 'gz at 0.0020s', 'adc at 0.0025s']\n"
     ]
    },
    {
     "name": "stderr",
     "output_type": "stream",
     "text": [
      "BMCTool simulation: 100%|██████████| 43/43 [03:43<00:00,  5.19s/it]\n"
     ]
    },
    {
     "name": "stdout",
     "output_type": "stream",
     "text": [
      "['rf at 0.0000s', 'gz at 0.0020s', 'adc at 0.0025s']\n"
     ]
    },
    {
     "name": "stderr",
     "output_type": "stream",
     "text": [
      "BMCTool simulation: 100%|██████████| 43/43 [03:24<00:00,  4.76s/it]\n"
     ]
    },
    {
     "name": "stdout",
     "output_type": "stream",
     "text": [
      "['rf at 0.0000s', 'gz at 0.0020s', 'adc at 0.0025s']\n"
     ]
    },
    {
     "name": "stderr",
     "output_type": "stream",
     "text": [
      "BMCTool simulation: 100%|██████████| 43/43 [03:51<00:00,  5.37s/it]\n"
     ]
    },
    {
     "name": "stdout",
     "output_type": "stream",
     "text": [
      "['rf at 0.0000s', 'gz at 0.0020s', 'adc at 0.0025s']\n"
     ]
    },
    {
     "name": "stderr",
     "output_type": "stream",
     "text": [
      "BMCTool simulation: 100%|██████████| 43/43 [03:33<00:00,  4.97s/it]\n"
     ]
    },
    {
     "name": "stdout",
     "output_type": "stream",
     "text": [
      "['rf at 0.0000s', 'gz at 0.0020s', 'adc at 0.0025s']\n"
     ]
    },
    {
     "name": "stderr",
     "output_type": "stream",
     "text": [
      "BMCTool simulation: 100%|██████████| 43/43 [03:42<00:00,  5.16s/it]\n"
     ]
    },
    {
     "name": "stdout",
     "output_type": "stream",
     "text": [
      "['rf at 0.0000s', 'gz at 0.0020s', 'adc at 0.0025s']\n"
     ]
    },
    {
     "name": "stderr",
     "output_type": "stream",
     "text": [
      "BMCTool simulation: 100%|██████████| 43/43 [03:34<00:00,  4.98s/it]\n"
     ]
    },
    {
     "name": "stdout",
     "output_type": "stream",
     "text": [
      "['rf at 0.0000s', 'gz at 0.0020s', 'adc at 0.0025s']\n"
     ]
    },
    {
     "name": "stderr",
     "output_type": "stream",
     "text": [
      "BMCTool simulation: 100%|██████████| 43/43 [03:37<00:00,  5.06s/it]\n"
     ]
    },
    {
     "name": "stdout",
     "output_type": "stream",
     "text": [
      "['rf at 0.0000s', 'gz at 0.0020s', 'adc at 0.0025s']\n"
     ]
    },
    {
     "name": "stderr",
     "output_type": "stream",
     "text": [
      "BMCTool simulation: 100%|██████████| 43/43 [03:37<00:00,  5.06s/it]\n"
     ]
    },
    {
     "name": "stdout",
     "output_type": "stream",
     "text": [
      "['rf at 0.0000s', 'gz at 0.0020s', 'adc at 0.0025s']\n"
     ]
    },
    {
     "name": "stderr",
     "output_type": "stream",
     "text": [
      "BMCTool simulation: 100%|██████████| 43/43 [03:39<00:00,  5.11s/it]\n"
     ]
    },
    {
     "name": "stdout",
     "output_type": "stream",
     "text": [
      "['rf at 0.0000s', 'gz at 0.0020s', 'adc at 0.0025s']\n"
     ]
    },
    {
     "name": "stderr",
     "output_type": "stream",
     "text": [
      "BMCTool simulation: 100%|██████████| 43/43 [03:40<00:00,  5.13s/it]\n"
     ]
    },
    {
     "name": "stdout",
     "output_type": "stream",
     "text": [
      "['rf at 0.0000s', 'gz at 0.0020s', 'adc at 0.0025s']\n"
     ]
    },
    {
     "name": "stderr",
     "output_type": "stream",
     "text": [
      "BMCTool simulation: 100%|██████████| 43/43 [03:41<00:00,  5.16s/it]\n"
     ]
    },
    {
     "name": "stdout",
     "output_type": "stream",
     "text": [
      "['rf at 0.0000s', 'gz at 0.0020s', 'adc at 0.0025s']\n"
     ]
    },
    {
     "name": "stderr",
     "output_type": "stream",
     "text": [
      "BMCTool simulation: 100%|██████████| 43/43 [03:35<00:00,  5.00s/it]\n"
     ]
    },
    {
     "name": "stdout",
     "output_type": "stream",
     "text": [
      "['rf at 0.0000s', 'gz at 0.0020s', 'adc at 0.0025s']\n"
     ]
    },
    {
     "name": "stderr",
     "output_type": "stream",
     "text": [
      "BMCTool simulation: 100%|██████████| 43/43 [03:48<00:00,  5.32s/it]\n"
     ]
    },
    {
     "name": "stdout",
     "output_type": "stream",
     "text": [
      "['rf at 0.0000s', 'gz at 0.0020s', 'adc at 0.0025s']\n"
     ]
    },
    {
     "name": "stderr",
     "output_type": "stream",
     "text": [
      "BMCTool simulation: 100%|██████████| 43/43 [03:37<00:00,  5.07s/it]\n"
     ]
    },
    {
     "name": "stdout",
     "output_type": "stream",
     "text": [
      "['rf at 0.0000s', 'gz at 0.0020s', 'adc at 0.0025s']\n"
     ]
    },
    {
     "name": "stderr",
     "output_type": "stream",
     "text": [
      "BMCTool simulation: 100%|██████████| 43/43 [03:35<00:00,  5.01s/it]\n"
     ]
    },
    {
     "name": "stdout",
     "output_type": "stream",
     "text": [
      "['rf at 0.0000s', 'gz at 0.0020s', 'adc at 0.0025s']\n"
     ]
    },
    {
     "name": "stderr",
     "output_type": "stream",
     "text": [
      "BMCTool simulation:  98%|█████████▊| 42/43 [03:40<00:03,  3.84s/it]\n"
     ]
    },
    {
     "name": "stdout",
     "output_type": "stream",
     "text": [
      "['rf at 0.0000s', 'gz at 0.0020s', 'adc at 0.0025s']\n",
      "Result processed: (306, np.float64(0.0014351128376926896)) | Total entries: 77\n"
     ]
    },
    {
     "name": "stderr",
     "output_type": "stream",
     "text": [
      "BMCTool simulation: 100%|██████████| 43/43 [03:42<00:00,  5.19s/it]\n"
     ]
    },
    {
     "name": "stdout",
     "output_type": "stream",
     "text": [
      "['rf at 0.0000s', 'gz at 0.0020s', 'adc at 0.0025s']\n"
     ]
    },
    {
     "name": "stderr",
     "output_type": "stream",
     "text": [
      "BMCTool simulation: 100%|██████████| 43/43 [03:45<00:00,  5.25s/it]\n"
     ]
    },
    {
     "name": "stdout",
     "output_type": "stream",
     "text": [
      "['rf at 0.0000s', 'gz at 0.0020s', 'adc at 0.0025s']\n"
     ]
    },
    {
     "name": "stderr",
     "output_type": "stream",
     "text": [
      "BMCTool simulation: 100%|██████████| 43/43 [03:41<00:00,  5.14s/it]\n"
     ]
    },
    {
     "name": "stdout",
     "output_type": "stream",
     "text": [
      "['rf at 0.0000s', 'gz at 0.0020s', 'adc at 0.0025s']\n"
     ]
    },
    {
     "name": "stderr",
     "output_type": "stream",
     "text": [
      "BMCTool simulation: 100%|██████████| 43/43 [03:43<00:00,  5.21s/it]\n"
     ]
    },
    {
     "name": "stdout",
     "output_type": "stream",
     "text": [
      "['rf at 0.0000s', 'gz at 0.0020s', 'adc at 0.0025s']\n"
     ]
    },
    {
     "name": "stderr",
     "output_type": "stream",
     "text": [
      "BMCTool simulation: 100%|██████████| 43/43 [03:43<00:00,  5.20s/it]\n"
     ]
    },
    {
     "name": "stdout",
     "output_type": "stream",
     "text": [
      "['rf at 0.0000s', 'gz at 0.0020s', 'adc at 0.0025s']\n"
     ]
    },
    {
     "name": "stderr",
     "output_type": "stream",
     "text": [
      "BMCTool simulation: 100%|██████████| 43/43 [03:43<00:00,  5.21s/it]\n"
     ]
    },
    {
     "name": "stdout",
     "output_type": "stream",
     "text": [
      "['rf at 0.0000s', 'gz at 0.0020s', 'adc at 0.0025s']\n",
      "Result processed: (310, np.float64(0.0014246237310334435)) | Total entries: 78\n",
      "Result processed: (314, np.float64(0.0014142378524052927)) | Total entries: 79\n",
      "Result processed: (318, np.float64(0.0014039540078802715)) | Total entries: 80\n",
      "Result processed: (322, np.float64(0.0013937710174511423)) | Total entries: 81\n",
      "Result processed: (326, np.float64(0.0013836877205166413)) | Total entries: 82\n",
      "Result processed: (330, np.float64(0.0013737029653960397)) | Total entries: 83\n",
      "Result processed: (334, np.float64(0.0013638156184975275)) | Total entries: 84\n",
      "Result processed: (338, np.float64(0.001354024557654174)) | Total entries: 85\n",
      "Result processed: (342, np.float64(0.0013443286785430695)) | Total entries: 86\n",
      "Result processed: (346, np.float64(0.0013347268860047646)) | Total entries: 87\n",
      "Result processed: (350, np.float64(0.0013252180997350967)) | Total entries: 88\n",
      "Result processed: (354, np.float64(0.0013158012554563229)) | Total entries: 89\n",
      "Result processed: (358, np.float64(0.001306475299276215)) | Total entries: 90\n",
      "Result processed: (362, np.float64(0.0012972391914248015)) | Total entries: 91\n",
      "Result processed: (366, np.float64(0.0012880919054515454)) | Total entries: 92\n",
      "Result processed: (370, np.float64(0.00127903242954909)) | Total entries: 93\n",
      "Result processed: (374, np.float64(0.0012700597593243137)) | Total entries: 94\n",
      "Result processed: (378, np.float64(0.0012611729082036376)) | Total entries: 95\n",
      "Result processed: (382, np.float64(0.001252370901050124)) | Total entries: 96\n",
      "Result processed: (386, np.float64(0.001243652771066065)) | Total entries: 97\n",
      "Result processed: (390, np.float64(0.001235017567139697)) | Total entries: 98\n",
      "Result processed: (394, np.float64(0.0012264643501849132)) | Total entries: 99\n",
      "Result processed: (398, np.float64(0.0012179921917412951)) | Total entries: 100\n"
     ]
    },
    {
     "name": "stderr",
     "output_type": "stream",
     "text": [
      "BMCTool simulation: 100%|██████████| 43/43 [03:30<00:00,  4.89s/it]\n"
     ]
    },
    {
     "name": "stdout",
     "output_type": "stream",
     "text": [
      "['rf at 0.0000s', 'gz at 0.0020s', 'adc at 0.0025s']\n"
     ]
    },
    {
     "name": "stderr",
     "output_type": "stream",
     "text": [
      "BMCTool simulation: 100%|██████████| 43/43 [03:30<00:00,  4.90s/it]\n"
     ]
    },
    {
     "name": "stdout",
     "output_type": "stream",
     "text": [
      "['rf at 0.0000s', 'gz at 0.0020s', 'adc at 0.0025s']\n"
     ]
    },
    {
     "name": "stderr",
     "output_type": "stream",
     "text": [
      "BMCTool simulation: 100%|██████████| 43/43 [03:30<00:00,  4.90s/it]\n"
     ]
    },
    {
     "name": "stdout",
     "output_type": "stream",
     "text": [
      "['rf at 0.0000s', 'gz at 0.0020s', 'adc at 0.0025s']\n"
     ]
    },
    {
     "name": "stderr",
     "output_type": "stream",
     "text": [
      "BMCTool simulation: 100%|██████████| 43/43 [03:31<00:00,  4.92s/it]\n"
     ]
    },
    {
     "name": "stdout",
     "output_type": "stream",
     "text": [
      "['rf at 0.0000s', 'gz at 0.0020s', 'adc at 0.0025s']\n"
     ]
    },
    {
     "name": "stderr",
     "output_type": "stream",
     "text": [
      "BMCTool simulation: 100%|██████████| 43/43 [03:31<00:00,  4.92s/it]\n"
     ]
    },
    {
     "name": "stdout",
     "output_type": "stream",
     "text": [
      "['rf at 0.0000s', 'gz at 0.0020s', 'adc at 0.0025s']\n"
     ]
    },
    {
     "name": "stderr",
     "output_type": "stream",
     "text": [
      "BMCTool simulation: 100%|██████████| 43/43 [03:32<00:00,  4.93s/it]\n"
     ]
    },
    {
     "name": "stdout",
     "output_type": "stream",
     "text": [
      "['rf at 0.0000s', 'gz at 0.0020s', 'adc at 0.0025s']\n"
     ]
    },
    {
     "name": "stderr",
     "output_type": "stream",
     "text": [
      "BMCTool simulation: 100%|██████████| 43/43 [03:32<00:00,  4.94s/it]\n"
     ]
    },
    {
     "name": "stdout",
     "output_type": "stream",
     "text": [
      "['rf at 0.0000s', 'gz at 0.0020s', 'adc at 0.0025s']\n"
     ]
    },
    {
     "name": "stderr",
     "output_type": "stream",
     "text": [
      "BMCTool simulation: 100%|██████████| 43/43 [03:32<00:00,  4.95s/it]\n"
     ]
    },
    {
     "name": "stdout",
     "output_type": "stream",
     "text": [
      "['rf at 0.0000s', 'gz at 0.0020s', 'adc at 0.0025s']\n"
     ]
    },
    {
     "name": "stderr",
     "output_type": "stream",
     "text": [
      "BMCTool simulation: 100%|██████████| 43/43 [03:33<00:00,  4.96s/it]\n"
     ]
    },
    {
     "name": "stdout",
     "output_type": "stream",
     "text": [
      "['rf at 0.0000s', 'gz at 0.0020s', 'adc at 0.0025s']\n"
     ]
    },
    {
     "name": "stderr",
     "output_type": "stream",
     "text": [
      "BMCTool simulation: 100%|██████████| 43/43 [03:34<00:00,  4.99s/it]\n"
     ]
    },
    {
     "name": "stdout",
     "output_type": "stream",
     "text": [
      "['rf at 0.0000s', 'gz at 0.0020s', 'adc at 0.0025s']\n"
     ]
    },
    {
     "name": "stderr",
     "output_type": "stream",
     "text": [
      "BMCTool simulation: 100%|██████████| 43/43 [03:35<00:00,  5.00s/it]\n"
     ]
    },
    {
     "name": "stdout",
     "output_type": "stream",
     "text": [
      "['rf at 0.0000s', 'gz at 0.0020s', 'adc at 0.0025s']\n"
     ]
    },
    {
     "name": "stderr",
     "output_type": "stream",
     "text": [
      "BMCTool simulation: 100%|██████████| 43/43 [03:36<00:00,  5.04s/it]\n"
     ]
    },
    {
     "name": "stdout",
     "output_type": "stream",
     "text": [
      "['rf at 0.0000s', 'gz at 0.0020s', 'adc at 0.0025s']\n"
     ]
    },
    {
     "name": "stderr",
     "output_type": "stream",
     "text": [
      "BMCTool simulation: 100%|██████████| 43/43 [03:37<00:00,  5.05s/it]\n"
     ]
    },
    {
     "name": "stdout",
     "output_type": "stream",
     "text": [
      "['rf at 0.0000s', 'gz at 0.0020s', 'adc at 0.0025s']\n"
     ]
    },
    {
     "name": "stderr",
     "output_type": "stream",
     "text": [
      "BMCTool simulation: 100%|██████████| 43/43 [03:37<00:00,  5.06s/it]\n"
     ]
    },
    {
     "name": "stdout",
     "output_type": "stream",
     "text": [
      "['rf at 0.0000s', 'gz at 0.0020s', 'adc at 0.0025s']\n"
     ]
    },
    {
     "name": "stderr",
     "output_type": "stream",
     "text": [
      "BMCTool simulation: 100%|██████████| 43/43 [03:37<00:00,  5.06s/it]\n"
     ]
    },
    {
     "name": "stdout",
     "output_type": "stream",
     "text": [
      "['rf at 0.0000s', 'gz at 0.0020s', 'adc at 0.0025s']\n"
     ]
    },
    {
     "name": "stderr",
     "output_type": "stream",
     "text": [
      "BMCTool simulation: 100%|██████████| 43/43 [03:38<00:00,  5.09s/it]\n"
     ]
    },
    {
     "name": "stdout",
     "output_type": "stream",
     "text": [
      "['rf at 0.0000s', 'gz at 0.0020s', 'adc at 0.0025s']\n"
     ]
    },
    {
     "name": "stderr",
     "output_type": "stream",
     "text": [
      "BMCTool simulation: 100%|██████████| 43/43 [03:38<00:00,  5.09s/it]\n"
     ]
    },
    {
     "name": "stdout",
     "output_type": "stream",
     "text": [
      "['rf at 0.0000s', 'gz at 0.0020s', 'adc at 0.0025s']\n"
     ]
    },
    {
     "name": "stderr",
     "output_type": "stream",
     "text": [
      "BMCTool simulation: 100%|██████████| 43/43 [03:39<00:00,  5.10s/it]\n"
     ]
    },
    {
     "name": "stdout",
     "output_type": "stream",
     "text": [
      "['rf at 0.0000s', 'gz at 0.0020s', 'adc at 0.0025s']\n"
     ]
    },
    {
     "name": "stderr",
     "output_type": "stream",
     "text": [
      "BMCTool simulation:  95%|█████████▌| 41/43 [03:41<00:09,  4.93s/it]\n"
     ]
    },
    {
     "name": "stdout",
     "output_type": "stream",
     "text": [
      "['rf at 0.0000s', 'gz at 0.0020s', 'adc at 0.0025s']\n"
     ]
    },
    {
     "name": "stderr",
     "output_type": "stream",
     "text": [
      "BMCTool simulation: 100%|██████████| 43/43 [03:44<00:00,  5.21s/it]\n"
     ]
    },
    {
     "name": "stdout",
     "output_type": "stream",
     "text": [
      "['rf at 0.0000s', 'gz at 0.0020s', 'adc at 0.0025s']\n"
     ]
    },
    {
     "name": "stderr",
     "output_type": "stream",
     "text": [
      "BMCTool simulation: 100%|██████████| 43/43 [03:46<00:00,  5.27s/it]\n"
     ]
    },
    {
     "name": "stdout",
     "output_type": "stream",
     "text": [
      "['rf at 0.0000s', 'gz at 0.0020s', 'adc at 0.0025s']\n"
     ]
    },
    {
     "name": "stderr",
     "output_type": "stream",
     "text": [
      "BMCTool simulation: 100%|██████████| 43/43 [03:46<00:00,  5.27s/it]\n"
     ]
    },
    {
     "name": "stdout",
     "output_type": "stream",
     "text": [
      "['rf at 0.0000s', 'gz at 0.0020s', 'adc at 0.0025s']\n"
     ]
    },
    {
     "name": "stderr",
     "output_type": "stream",
     "text": [
      "BMCTool simulation: 100%|██████████| 43/43 [03:50<00:00,  5.36s/it]\n"
     ]
    },
    {
     "name": "stdout",
     "output_type": "stream",
     "text": [
      "['rf at 0.0000s', 'gz at 0.0020s', 'adc at 0.0025s']\n"
     ]
    },
    {
     "name": "stderr",
     "output_type": "stream",
     "text": [
      "BMCTool simulation: 100%|██████████| 43/43 [03:50<00:00,  5.37s/it]\n"
     ]
    },
    {
     "name": "stdout",
     "output_type": "stream",
     "text": [
      "['rf at 0.0000s', 'gz at 0.0020s', 'adc at 0.0025s']\n"
     ]
    },
    {
     "name": "stderr",
     "output_type": "stream",
     "text": [
      "BMCTool simulation: 100%|██████████| 43/43 [03:53<00:00,  5.43s/it]\n"
     ]
    },
    {
     "name": "stdout",
     "output_type": "stream",
     "text": [
      "['rf at 0.0000s', 'gz at 0.0020s', 'adc at 0.0025s']\n"
     ]
    },
    {
     "name": "stderr",
     "output_type": "stream",
     "text": [
      "BMCTool simulation: 100%|██████████| 43/43 [03:33<00:00,  4.97s/it]\n"
     ]
    },
    {
     "name": "stdout",
     "output_type": "stream",
     "text": [
      "['rf at 0.0000s', 'gz at 0.0020s', 'adc at 0.0025s']\n"
     ]
    },
    {
     "name": "stderr",
     "output_type": "stream",
     "text": [
      "BMCTool simulation: 100%|██████████| 43/43 [03:35<00:00,  5.00s/it]\n"
     ]
    },
    {
     "name": "stdout",
     "output_type": "stream",
     "text": [
      "['rf at 0.0000s', 'gz at 0.0020s', 'adc at 0.0025s']\n"
     ]
    },
    {
     "name": "stderr",
     "output_type": "stream",
     "text": [
      "BMCTool simulation: 100%|██████████| 43/43 [03:38<00:00,  5.09s/it]\n"
     ]
    },
    {
     "name": "stdout",
     "output_type": "stream",
     "text": [
      "['rf at 0.0000s', 'gz at 0.0020s', 'adc at 0.0025s']\n"
     ]
    },
    {
     "name": "stderr",
     "output_type": "stream",
     "text": [
      "BMCTool simulation: 100%|██████████| 43/43 [03:33<00:00,  4.96s/it]\n"
     ]
    },
    {
     "name": "stdout",
     "output_type": "stream",
     "text": [
      "['rf at 0.0000s', 'gz at 0.0020s', 'adc at 0.0025s']\n"
     ]
    },
    {
     "name": "stderr",
     "output_type": "stream",
     "text": [
      "BMCTool simulation: 100%|██████████| 43/43 [03:43<00:00,  5.19s/it]\n"
     ]
    },
    {
     "name": "stdout",
     "output_type": "stream",
     "text": [
      "['rf at 0.0000s', 'gz at 0.0020s', 'adc at 0.0025s']\n"
     ]
    },
    {
     "name": "stderr",
     "output_type": "stream",
     "text": [
      "BMCTool simulation: 100%|██████████| 43/43 [03:49<00:00,  5.33s/it]\n"
     ]
    },
    {
     "name": "stdout",
     "output_type": "stream",
     "text": [
      "['rf at 0.0000s', 'gz at 0.0020s', 'adc at 0.0025s']\n"
     ]
    },
    {
     "name": "stderr",
     "output_type": "stream",
     "text": [
      "BMCTool simulation: 100%|██████████| 43/43 [03:42<00:00,  5.18s/it]\n"
     ]
    },
    {
     "name": "stdout",
     "output_type": "stream",
     "text": [
      "['rf at 0.0000s', 'gz at 0.0020s', 'adc at 0.0025s']\n"
     ]
    },
    {
     "name": "stderr",
     "output_type": "stream",
     "text": [
      "BMCTool simulation: 100%|██████████| 43/43 [03:42<00:00,  5.17s/it]\n"
     ]
    },
    {
     "name": "stdout",
     "output_type": "stream",
     "text": [
      "['rf at 0.0000s', 'gz at 0.0020s', 'adc at 0.0025s']\n"
     ]
    },
    {
     "name": "stderr",
     "output_type": "stream",
     "text": [
      "BMCTool simulation: 100%|██████████| 43/43 [03:48<00:00,  5.31s/it]\n"
     ]
    },
    {
     "name": "stdout",
     "output_type": "stream",
     "text": [
      "['rf at 0.0000s', 'gz at 0.0020s', 'adc at 0.0025s']\n",
      "Result processed: (402, np.float64(0.0012096001745243782)) | Total entries: 101\n"
     ]
    },
    {
     "name": "stderr",
     "output_type": "stream",
     "text": [
      "BMCTool simulation: 100%|██████████| 43/43 [03:47<00:00,  5.30s/it]\n"
     ]
    },
    {
     "name": "stdout",
     "output_type": "stream",
     "text": [
      "['rf at 0.0000s', 'gz at 0.0020s', 'adc at 0.0025s']\n"
     ]
    },
    {
     "name": "stderr",
     "output_type": "stream",
     "text": [
      "BMCTool simulation: 100%|██████████| 43/43 [03:47<00:00,  5.30s/it]\n"
     ]
    },
    {
     "name": "stdout",
     "output_type": "stream",
     "text": [
      "['rf at 0.0000s', 'gz at 0.0020s', 'adc at 0.0025s']\n"
     ]
    },
    {
     "name": "stderr",
     "output_type": "stream",
     "text": [
      "BMCTool simulation: 100%|██████████| 43/43 [03:34<00:00,  5.00s/it]\n"
     ]
    },
    {
     "name": "stdout",
     "output_type": "stream",
     "text": [
      "['rf at 0.0000s', 'gz at 0.0020s', 'adc at 0.0025s']\n"
     ]
    },
    {
     "name": "stderr",
     "output_type": "stream",
     "text": [
      "BMCTool simulation: 100%|██████████| 43/43 [03:50<00:00,  5.35s/it]\n"
     ]
    },
    {
     "name": "stdout",
     "output_type": "stream",
     "text": [
      "['rf at 0.0000s', 'gz at 0.0020s', 'adc at 0.0025s']\n"
     ]
    },
    {
     "name": "stderr",
     "output_type": "stream",
     "text": [
      "BMCTool simulation: 100%|██████████| 43/43 [03:41<00:00,  5.14s/it]\n"
     ]
    },
    {
     "name": "stdout",
     "output_type": "stream",
     "text": [
      "['rf at 0.0000s', 'gz at 0.0020s', 'adc at 0.0025s']\n"
     ]
    },
    {
     "name": "stderr",
     "output_type": "stream",
     "text": [
      "BMCTool simulation: 100%|██████████| 43/43 [03:44<00:00,  5.22s/it]\n"
     ]
    },
    {
     "name": "stdout",
     "output_type": "stream",
     "text": [
      "['rf at 0.0000s', 'gz at 0.0020s', 'adc at 0.0025s']\n",
      "Result processed: (406, np.float64(0.0012012873917549688)) | Total entries: 102\n"
     ]
    },
    {
     "name": "stderr",
     "output_type": "stream",
     "text": [
      "BMCTool simulation: 100%|██████████| 43/43 [03:33<00:00,  4.96s/it]\n"
     ]
    },
    {
     "name": "stdout",
     "output_type": "stream",
     "text": [
      "['rf at 0.0000s', 'gz at 0.0020s', 'adc at 0.0025s']\n"
     ]
    },
    {
     "name": "stderr",
     "output_type": "stream",
     "text": [
      "BMCTool simulation: 100%|██████████| 43/43 [03:53<00:00,  5.44s/it]\n"
     ]
    },
    {
     "name": "stdout",
     "output_type": "stream",
     "text": [
      "['rf at 0.0000s', 'gz at 0.0020s', 'adc at 0.0025s']\n"
     ]
    },
    {
     "name": "stderr",
     "output_type": "stream",
     "text": [
      "BMCTool simulation: 100%|██████████| 43/43 [03:45<00:00,  5.24s/it]\n"
     ]
    },
    {
     "name": "stdout",
     "output_type": "stream",
     "text": [
      "['rf at 0.0000s', 'gz at 0.0020s', 'adc at 0.0025s']\n"
     ]
    },
    {
     "name": "stderr",
     "output_type": "stream",
     "text": [
      "BMCTool simulation: 100%|██████████| 43/43 [03:38<00:00,  5.08s/it]\n"
     ]
    },
    {
     "name": "stdout",
     "output_type": "stream",
     "text": [
      "['rf at 0.0000s', 'gz at 0.0020s', 'adc at 0.0025s']\n"
     ]
    },
    {
     "name": "stderr",
     "output_type": "stream",
     "text": [
      "BMCTool simulation: 100%|██████████| 43/43 [03:45<00:00,  5.25s/it]\n"
     ]
    },
    {
     "name": "stdout",
     "output_type": "stream",
     "text": [
      "['rf at 0.0000s', 'gz at 0.0020s', 'adc at 0.0025s']\n"
     ]
    },
    {
     "name": "stderr",
     "output_type": "stream",
     "text": [
      "BMCTool simulation: 100%|██████████| 43/43 [03:50<00:00,  5.36s/it]\n"
     ]
    },
    {
     "name": "stdout",
     "output_type": "stream",
     "text": [
      "['rf at 0.0000s', 'gz at 0.0020s', 'adc at 0.0025s']\n"
     ]
    },
    {
     "name": "stderr",
     "output_type": "stream",
     "text": [
      "BMCTool simulation: 100%|██████████| 43/43 [03:49<00:00,  5.34s/it]\n"
     ]
    },
    {
     "name": "stdout",
     "output_type": "stream",
     "text": [
      "['rf at 0.0000s', 'gz at 0.0020s', 'adc at 0.0025s']\n"
     ]
    },
    {
     "name": "stderr",
     "output_type": "stream",
     "text": [
      "BMCTool simulation: 100%|██████████| 43/43 [03:38<00:00,  5.08s/it]\n"
     ]
    },
    {
     "name": "stdout",
     "output_type": "stream",
     "text": [
      "['rf at 0.0000s', 'gz at 0.0020s', 'adc at 0.0025s']\n"
     ]
    },
    {
     "name": "stderr",
     "output_type": "stream",
     "text": [
      "BMCTool simulation: 100%|██████████| 43/43 [03:52<00:00,  5.41s/it]\n"
     ]
    },
    {
     "name": "stdout",
     "output_type": "stream",
     "text": [
      "['rf at 0.0000s', 'gz at 0.0020s', 'adc at 0.0025s']\n",
      "Result processed: (410, np.float64(0.0011930529533201108)) | Total entries: 103\n",
      "Result processed: (414, np.float64(0.0011848959712315397)) | Total entries: 104\n",
      "Result processed: (418, np.float64(0.0011768155778764825)) | Total entries: 105\n",
      "Result processed: (422, np.float64(0.0011688109080191566)) | Total entries: 106\n",
      "Result processed: (426, np.float64(0.0011608811145953565)) | Total entries: 107\n",
      "Result processed: (430, np.float64(0.0011530253557249348)) | Total entries: 108\n",
      "Result processed: (434, np.float64(0.001145242802783088)) | Total entries: 109\n",
      "Result processed: (438, np.float64(0.0011375326355279143)) | Total entries: 110\n",
      "Result processed: (442, np.float64(0.0011298940454682728)) | Total entries: 111\n",
      "Result processed: (446, np.float64(0.0011223262334464233)) | Total entries: 112\n",
      "Result processed: (450, np.float64(0.0011148284104352108)) | Total entries: 113\n",
      "Result processed: (454, np.float64(0.0011073997956599733)) | Total entries: 114\n",
      "Result processed: (458, np.float64(0.001100039621152014)) | Total entries: 115\n",
      "Result processed: (462, np.float64(0.0010927471257810863)) | Total entries: 116\n",
      "Result processed: (466, np.float64(0.001085521558097527)) | Total entries: 117\n",
      "Result processed: (470, np.float64(0.0010783621764879924)) | Total entries: 118\n",
      "Result processed: (474, np.float64(0.0010712682483638774)) | Total entries: 119\n",
      "Result processed: (478, np.float64(0.001064239050031337)) | Total entries: 120\n"
     ]
    },
    {
     "name": "stderr",
     "output_type": "stream",
     "text": [
      "BMCTool simulation: 100%|██████████| 43/43 [03:38<00:00,  5.07s/it]\n"
     ]
    },
    {
     "name": "stdout",
     "output_type": "stream",
     "text": [
      "['rf at 0.0000s', 'gz at 0.0020s', 'adc at 0.0025s']\n",
      "Result processed: (482, np.float64(0.0010572738676443835)) | Total entries: 121\n",
      "Result processed: (486, np.float64(0.0010503719931522282)) | Total entries: 122\n",
      "Result processed: (490, np.float64(0.0010435327311605872)) | Total entries: 123\n",
      "Result processed: (494, np.float64(0.0010367553908868913)) | Total entries: 124\n",
      "Result processed: (498, np.float64(0.0010300392948827586)) | Total entries: 125\n"
     ]
    }
   ],
   "source": [
    "t_ex, signal_50Hz = run_variation(seq_path_on,\n",
    "                             seq_path_off,\n",
    "                             config_path,\n",
    "                             adc_time,\n",
    "                             z_pos,\n",
    "                             webhook,\n",
    "                             num_points = len(seq_path_on),\n",
    "                             batch_size=25,\n",
    "                             max_processes=25,\n",
    "                             save_to_file=False)"
   ]
  },
  {
   "cell_type": "code",
   "execution_count": 5,
   "id": "ecb9bc95",
   "metadata": {},
   "outputs": [
    {
     "data": {
      "image/png": "[encoded data removed]",
      "text/plain": [
       "<Figure size 640x480 with 1 Axes>"
      ]
     },
     "metadata": {},
     "output_type": "display_data"
    }
   ],
   "source": [
    "fig, ax = plt.subplots(dpi=100)\n",
    "\n",
    "# print(t_ex)\n",
    "\n",
    "signal_150Hz = np.array([0.00013354, 0.00044124, 0.00066779, 0.00078715, 0.00084597,\n",
    "                  0.00087244, 0.0008787,  0.00087796, 0.00087633, 0.00087088,\n",
    "                  0.00086204, 0.00083122, 0.00079111, 0.0007186,  0.00065583,\n",
    "                  0.00060029, 0.00048881, 0.00040469, 0.00034043])\n",
    "\n",
    "signal_250Hz = np.array([0.00017487, 0.00044258, 0.00056329, 0.00059603, 0.00060117,\n",
    "       0.00059853, 0.00059204, 0.00058523, 0.00057833, 0.00057129,\n",
    "       0.00056425, 0.00054425, 0.00051907, 0.0004732 , 0.00043265,\n",
    "       0.00039669, 0.00032401, 0.00026891, 0.00022631])\n",
    "\n",
    "signal_350Hz = np.array([0.000173  , 0.00034654, 0.00039254, 0.00039635, 0.00039344,\n",
    "       0.00038971, 0.00038494, 0.00038026, 0.00037563, 0.00037113,\n",
    "       0.00036674, 0.00035399, 0.0003379 , 0.00030856, 0.00028257,\n",
    "       0.00025948, 0.00021209, 0.00017603, 0.00014835])\n",
    "\n",
    "signal_50Hz = np.array([5.66542009e-05, 1.98969945e-04, 3.62091850e-04, 5.00945400e-04,\n",
    "       6.14694640e-04, 7.07435456e-04, 7.58401808e-04, 8.06872603e-04,\n",
    "       9.02773680e-04, 1.00214488e-03, 1.06985044e-03, 1.14501373e-03,\n",
    "       1.16525459e-03, 1.08563643e-03, 9.88359694e-04, 9.01324668e-04,\n",
    "       7.29315178e-04, 6.02169542e-04, 5.05260895e-04])\n",
    "\n",
    "signal_20Hz = np.array([2.75940477e-05, 7.72515028e-05, 1.43693457e-04, 2.06212526e-04,\n",
    "       2.62757835e-04, 3.13587768e-04, 3.12774208e-04, 3.43220123e-04,\n",
    "       4.26720933e-04, 5.17532855e-04, 5.80934248e-04, 7.10313971e-04,\n",
    "       8.64310649e-04, 1.00765066e-03, 1.01971302e-03, 9.73195778e-04,\n",
    "       8.09800468e-04, 6.70428667e-04, 5.62610974e-04])\n",
    "\n",
    "t_exc = np.array([0.002, 0.004, 0.008, 0.012, 0.016, 0.02, 0.025, 0.03, 0.035, 0.04, 0.045, 0.06, 0.08, 0.12, 0.16, 0.2, 0.3, 0.4, 0.5])\n",
    "\n",
    "plt.plot(t_exc * 1000, signal_150Hz, 'o--', c='blue', linewidth=1, markersize=5, label='150 Hz')\n",
    "plt.plot(t_exc * 1000, signal_250Hz, 'o--', c='red', linewidth=1, markersize=5, label='250 Hz')\n",
    "plt.plot(t_exc * 1000, signal_350Hz, 'o--', c='green', linewidth=1, markersize=5, label='250 Hz')\n",
    "plt.plot(t_exc * 1000, signal_50Hz, 'o--', c='fuchsia', linewidth=1, markersize=5, label='50 Hz')\n",
    "plt.plot(t_exc * 1000, signal_20Hz, 'o--', c='gold', linewidth=1, markersize=5, label='20 Hz')\n",
    "# plt.plot(t_exc * 1000, signal_350Hz, 'o--', c='green', linewidth=1, markersize=5, label='250 Hz')\n",
    "# plt.axhline(torch.max(signal).item(), color='blue', linewidth=.8)\n",
    "# plt.axvline(30, color='blue', linewidth=.8)\n",
    "# plt.text(30, plt.ylim()[0] - 0.0001, f\"{30} ms\",\n",
    "#          color='blue', ha='center', va='top', fontsize=8)\n",
    "ax.set_ylabel('signal intensity')\n",
    "ax.set_xlabel(r'$t_{ex}$ [ms]')\n",
    "ax.legend()\n",
    "# plt.xlim(0, 65)\n",
    "# plt.ylim(0.0, 0.0082)\n",
    "\n",
    "\n",
    "# plt.savefig(\"signal_plot_kex.png\", dpi=300, bbox_inches='tight')\n"
   ]
  },
  {
   "cell_type": "code",
   "execution_count": 48,
   "id": "09219039",
   "metadata": {},
   "outputs": [
    {
     "data": {
      "image/png": "[encoded data removed]",
      "text/plain": [
       "<Figure size 1280x960 with 1 Axes>"
      ]
     },
     "metadata": {},
     "output_type": "display_data"
    }
   ],
   "source": [
    "fig, ax = plt.subplots(dpi=200)\n",
    "\n",
    "t_ex_epg = np.load(\"results/data_50Hz/t_ex_EPG_50Hz.npy\", allow_pickle=True)\n",
    "t_ex_bmc = np.load(\"results/data_50Hz/t_ex.npy\", allow_pickle=True)\n",
    "signal_50Hz_EPG = np.load(\"results/data_50Hz/signal_50Hz_EPG.npy\", allow_pickle=True)\n",
    "signal_50Hz_BMC = np.load(\"results/data_50Hz/tex_var_50Hz.npy\", allow_pickle=True)\n",
    "\n",
    "plt.plot(t_ex_epg[::2] * 1000, signal_50Hz_EPG[::2], 'o--', c='red', linewidth=1, markersize=2, label='EPG (50Hz)')\n",
    "plt.plot(t_ex_bmc, signal_50Hz_BMC, 'o--', c='blue', linewidth=1, markersize=2, label='BMC (50Hz)')\n",
    "plt.title('Variation of exchange time for EPG and BMC simulations')\n",
    "\n",
    "ax.set_ylabel(r'signal intensity [$S_i/M_0$]')\n",
    "ax.set_xlabel(r'$t_{ex}$ [ms]')\n",
    "ax.legend()\n",
    "\n",
    "plt.savefig(\"tex_var_epg_bmc.png\", dpi=300, bbox_inches='tight')"
   ]
  },
  {
   "cell_type": "code",
   "execution_count": 44,
   "id": "03a2b62c",
   "metadata": {},
   "outputs": [],
   "source": [
    "low = -20e-6\n",
    "high = 20e-6 \n",
    "n_iso = 1000\n",
    "z_pos = np.linspace(low, high, n_iso)\n",
    "z_pos = np.append(z_pos, 0)\n",
    "z_pos = np.sort(z_pos)"
   ]
  },
  {
   "cell_type": "code",
   "execution_count": 45,
   "id": "d1aa61e6",
   "metadata": {},
   "outputs": [],
   "source": [
    "seq_path_gauss = 'seq_lib/10_ETM.seq'\n",
    "config_path = 'sim_lib/config_1pool.yaml'\n",
    "\n",
    "adc_time = 20e-3\n",
    "retun_zmag = False\n",
    "show_plot = False\n",
    "n_backlog = 'ALL'\n",
    "webhook = False\n",
    "plt_range = [0, 4]\n",
    "iso_select = [-5,0,5]"
   ]
  },
  {
   "cell_type": "code",
   "execution_count": 46,
   "id": "756b4c6a",
   "metadata": {},
   "outputs": [
    {
     "name": "stderr",
     "output_type": "stream",
     "text": [
      "BMCTool simulation:   0%|          | 0/7 [00:00<?, ?it/s]"
     ]
    },
    {
     "name": "stderr",
     "output_type": "stream",
     "text": [
      "BMCTool simulation: 100%|██████████| 7/7 [00:23<00:00,  3.32s/it]"
     ]
    },
    {
     "name": "stdout",
     "output_type": "stream",
     "text": [
      "['rf at 0.0000s', 'gz at 0.0020s', 'rf at 0.0025s', 'delay at 0.0045s', 'rf at 0.0845s', 'gz at 0.0865s', 'adc at 0.0870s']\n"
     ]
    },
    {
     "name": "stderr",
     "output_type": "stream",
     "text": [
      "\n"
     ]
    }
   ],
   "source": [
    "sim = simulate(config_file=config_path, \n",
    "                   seq_file=seq_path_gauss, \n",
    "                   adc_time=adc_time,\n",
    "                   z_positions=z_pos,\n",
    "                   return_zmag=retun_zmag,\n",
    "                   iso_select=iso_select,\n",
    "                   show_plot=show_plot,\n",
    "                   n_backlog=n_backlog,\n",
    "                   webhook=webhook,\n",
    "                   plt_range=plt_range)  # simulation mac"
   ]
  },
  {
   "cell_type": "code",
   "execution_count": 47,
   "id": "da6ecff9",
   "metadata": {},
   "outputs": [
    {
     "name": "stdout",
     "output_type": "stream",
     "text": [
      "\n",
      " Current parameter settings:\n",
      "\t water pool:\n",
      " {'r1': 0.4, 'r2': 14.084507042253522, 'f': 1}\n",
      "\t CEST pools: \n",
      " [{'r1': 0.7692307692307692, 'r2': 10.0, 'k': 50, 'f': 0.00064865, 'dw': 100}]\n",
      "\t MT pool:\n",
      " {}\n",
      "\t Scanner:\n",
      " {'b0': 17, 'gamma': 267.5153, 'b0_inhomogeneity': 0.0, 'rel_b1': 1}\n",
      "\t Options:\n",
      " {'verbose': False, 'reset_init_mag': True, 'scale': 1, 'max_pulse_samples': 300, 'par_calc': False}\n"
     ]
    }
   ],
   "source": [
    "sim.print_params()"
   ]
  }
 ],
 "metadata": {
  "kernelspec": {
   "display_name": "src",
   "language": "python",
   "name": "python3"
  },
  "language_info": {
   "codemirror_mode": {
    "name": "ipython",
    "version": 3
   },
   "file_extension": ".py",
   "mimetype": "text/x-python",
   "name": "python",
   "nbconvert_exporter": "python",
   "pygments_lexer": "ipython3",
   "version": "3.11.10"
  }
 },
 "nbformat": 4,
 "nbformat_minor": 5
}

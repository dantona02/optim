{
 "cells": [
  {
   "cell_type": "markdown",
   "id": "ccfcca9b",
   "metadata": {},
   "source": [
    "### Simulation"
   ]
  },
  {
   "cell_type": "code",
   "execution_count": 1,
   "id": "bbcb1b2f",
   "metadata": {},
   "outputs": [],
   "source": [
    "from bmc.simulate import simulate\n",
    "import numpy as np\n",
    "import matplotlib.pyplot as plt"
   ]
  },
  {
   "cell_type": "code",
   "execution_count": 2,
   "id": "6ed76624",
   "metadata": {},
   "outputs": [],
   "source": [
    "low = -20e-6\n",
    "high = 20e-6 \n",
    "n_iso = 1000\n",
    "\n",
    "z_pos = np.linspace(low, high, n_iso)\n",
    "z_pos = np.append(z_pos, 0)\n",
    "z_pos = np.clip(z_pos, low, high)\n",
    "z_pos = np.sort(z_pos)"
   ]
  },
  {
   "cell_type": "code",
   "execution_count": 3,
   "id": "50b07372",
   "metadata": {},
   "outputs": [],
   "source": [
    "seq_path_on = ['seq_lib/exchange_variation/tex_2ms.seq',\n",
    "               'seq_lib/exchange_variation/tex_8ms.seq',\n",
    "               'seq_lib/exchange_variation/tex_16ms.seq',\n",
    "               'seq_lib/exchange_variation/tex_25ms.seq',\n",
    "               'seq_lib/exchange_variation/tex_35ms.seq',\n",
    "               'seq_lib/exchange_variation/tex_45ms.seq',\n",
    "               'seq_lib/exchange_variation/tex_80ms.seq',\n",
    "               'seq_lib/exchange_variation/tex_160ms.seq',\n",
    "               'seq_lib/exchange_variation/tex_200ms.seq',\n",
    "               'seq_lib/exchange_variation/tex_300ms.seq',\n",
    "               ]\n",
    "seq_path_off = ['seq_lib/exchange_variation/tex_2ms_minus.seq',\n",
    "               'seq_lib/exchange_variation/tex_8ms_minus.seq',\n",
    "               'seq_lib/exchange_variation/tex_16ms_minus.seq',\n",
    "               'seq_lib/exchange_variation/tex_25ms_minus.seq',\n",
    "               'seq_lib/exchange_variation/tex_35ms_minus.seq',\n",
    "               'seq_lib/exchange_variation/tex_45ms_minus.seq',\n",
    "               'seq_lib/exchange_variation/tex_80ms_minus.seq',\n",
    "               'seq_lib/exchange_variation/tex_160ms_minus.seq',\n",
    "               'seq_lib/exchange_variation/tex_200ms_minus.seq',\n",
    "               'seq_lib/exchange_variation/tex_300ms_minus.seq',\n",
    "               ]\n",
    "config_path = 'sim_lib/config_1pool.yaml'\n",
    "\n",
    "adc_time = 6e-3\n",
    "retun_zmag = False\n",
    "write_all_mag = True\n",
    "webhook = False\n",
    "plt_range = [0, 4]\n",
    "iso_select = [-5,0,5]\n"
   ]
  },
  {
   "cell_type": "code",
   "execution_count": 4,
   "id": "55d6353f",
   "metadata": {},
   "outputs": [],
   "source": [
    "from bmc.utils.tex_variation import run_variation"
   ]
  },
  {
   "cell_type": "code",
   "execution_count": 5,
   "id": "de36765c",
   "metadata": {},
   "outputs": [
    {
     "name": "stderr",
     "output_type": "stream",
     "text": [
      "BMCTool simulation: 100%|██████████| 63/63 [01:37<00:00,  1.55s/it]\n",
      "BMCTool simulation:   0%|          | 0/63 [00:00<?, ?it/s]"
     ]
    },
    {
     "name": "stdout",
     "output_type": "stream",
     "text": [
      "['rf at 0.0000s', 'delay at 0.0020s', 'gz at 0.0025s', 'delay at 0.0030s', 'rf at 0.0035s', 'delay at 0.0055s', 'rf at 0.0505s', 'delay at 0.0525s', 'gz at 0.0530s', 'delay at 0.0535s', 'rf at 0.0540s', 'delay at 0.0560s', 'rf at 0.1010s', 'delay at 0.1030s', 'gz at 0.1035s', 'delay at 0.1040s', 'rf at 0.1045s', 'delay at 0.1065s', 'rf at 0.1515s', 'delay at 0.1535s', 'gz at 0.1540s', 'delay at 0.1545s', 'rf at 0.1550s', 'delay at 0.1570s', 'rf at 0.2020s', 'delay at 0.2040s', 'gz at 0.2045s', 'delay at 0.2050s', 'rf at 0.2055s', 'delay at 0.2075s', 'rf at 0.2525s', 'delay at 0.2545s', 'gz at 0.2550s', 'delay at 0.2555s', 'rf at 0.2560s', 'delay at 0.2580s', 'rf at 0.3030s', 'delay at 0.3050s', 'gz at 0.3055s', 'delay at 0.3060s', 'rf at 0.3065s', 'delay at 0.3085s', 'rf at 0.3535s', 'delay at 0.3555s', 'gz at 0.3560s', 'delay at 0.3565s', 'rf at 0.3570s', 'delay at 0.3590s', 'rf at 0.4040s', 'delay at 0.4060s', 'gz at 0.4065s', 'delay at 0.4070s', 'rf at 0.4075s', 'delay at 0.4095s', 'rf at 0.4545s', 'delay at 0.4565s', 'gz at 0.4570s', 'delay at 0.4575s', 'rf at 0.4580s', 'delay at 0.4600s', 'rf at 0.5050s', 'gz at 0.5070s', 'adc at 0.5075s']\n",
      "[]\n"
     ]
    },
    {
     "name": "stderr",
     "output_type": "stream",
     "text": [
      "BMCTool simulation: 100%|██████████| 63/63 [01:37<00:00,  1.55s/it]\n",
      "BMCTool simulation: 100%|██████████| 63/63 [01:37<00:00,  1.55s/it]\n",
      "BMCTool simulation:   0%|          | 0/63 [00:00<?, ?it/s]"
     ]
    },
    {
     "name": "stdout",
     "output_type": "stream",
     "text": [
      "['rf at 0.0000s', 'delay at 0.0020s', 'gz at 0.0025s', 'delay at 0.0030s', 'rf at 0.0035s', 'delay at 0.0055s', 'rf at 0.3055s', 'delay at 0.3075s', 'gz at 0.3080s', 'delay at 0.3085s', 'rf at 0.3090s', 'delay at 0.3110s', 'rf at 0.6110s', 'delay at 0.6130s', 'gz at 0.6135s', 'delay at 0.6140s', 'rf at 0.6145s', 'delay at 0.6165s', 'rf at 0.9165s', 'delay at 0.9185s', 'gz at 0.9190s', 'delay at 0.9195s', 'rf at 0.9200s', 'delay at 0.9220s', 'rf at 1.2220s', 'delay at 1.2240s', 'gz at 1.2245s', 'delay at 1.2250s', 'rf at 1.2255s', 'delay at 1.2275s', 'rf at 1.5275s', 'delay at 1.5295s', 'gz at 1.5300s', 'delay at 1.5305s', 'rf at 1.5310s', 'delay at 1.5330s', 'rf at 1.8330s', 'delay at 1.8350s', 'gz at 1.8355s', 'delay at 1.8360s', 'rf at 1.8365s', 'delay at 1.8385s', 'rf at 2.1385s', 'delay at 2.1405s', 'gz at 2.1410s', 'delay at 2.1415s', 'rf at 2.1420s', 'delay at 2.1440s', 'rf at 2.4440s', 'delay at 2.4460s', 'gz at 2.4465s', 'delay at 2.4470s', 'rf at 2.4475s', 'delay at 2.4495s', 'rf at 2.7495s', 'delay at 2.7515s', 'gz at 2.7520s', 'delay at 2.7525s', 'rf at 2.7530s', 'delay at 2.7550s', 'rf at 3.0550s', 'gz at 3.0570s', 'adc at 3.0575s']\n",
      "[]\n",
      "['rf at 0.0000s', 'delay at 0.0020s', 'gz at 0.0025s', 'delay at 0.0030s', 'rf at 0.0035s', 'delay at 0.0055s', 'rf at 0.0075s', 'delay at 0.0095s', 'gz at 0.0100s', 'delay at 0.0105s', 'rf at 0.0110s', 'delay at 0.0130s', 'rf at 0.0150s', 'delay at 0.0170s', 'gz at 0.0175s', 'delay at 0.0180s', 'rf at 0.0185s', 'delay at 0.0205s', 'rf at 0.0225s', 'delay at 0.0245s', 'gz at 0.0250s', 'delay at 0.0255s', 'rf at 0.0260s', 'delay at 0.0280s', 'rf at 0.0300s', 'delay at 0.0320s', 'gz at 0.0325s', 'delay at 0.0330s', 'rf at 0.0335s', 'delay at 0.0355s', 'rf at 0.0375s', 'delay at 0.0395s', 'gz at 0.0400s', 'delay at 0.0405s', 'rf at 0.0410s', 'delay at 0.0430s', 'rf at 0.0450s', 'delay at 0.0470s', 'gz at 0.0475s', 'delay at 0.0480s', 'rf at 0.0485s', 'delay at 0.0505s', 'rf at 0.0525s', 'delay at 0.0545s', 'gz at 0.0550s', 'delay at 0.0555s', 'rf at 0.0560s', 'delay at 0.0580s', 'rf at 0.0600s', 'delay at 0.0620s', 'gz at 0.0625s', 'delay at 0.0630s', 'rf at 0.0635s', 'delay at 0.0655s', 'rf at 0.0675s', 'delay at 0.0695s', 'gz at 0.0700s', 'delay at 0.0705s', 'rf at 0.0710s', 'delay at 0.0730s', 'rf at 0.0750s', 'gz at 0.0770s', 'adc at 0.0775s']\n",
      "[]\n"
     ]
    },
    {
     "name": "stderr",
     "output_type": "stream",
     "text": [
      "BMCTool simulation: 100%|██████████| 63/63 [01:37<00:00,  1.56s/it]\n",
      "BMCTool simulation: 100%|██████████| 63/63 [01:38<00:00,  1.56s/it]\n",
      "BMCTool simulation: 100%|██████████| 63/63 [01:38<00:00,  1.56s/it]\n",
      "BMCTool simulation: 100%|██████████| 63/63 [01:37<00:00,  1.56s/it]\n",
      "BMCTool simulation: 100%|██████████| 63/63 [01:38<00:00,  1.56s/it]\n",
      "BMCTool simulation:   0%|          | 0/63 [00:00<?, ?it/s]"
     ]
    },
    {
     "name": "stdout",
     "output_type": "stream",
     "text": [
      "['rf at 0.0000s', 'delay at 0.0020s', 'gz at 0.0025s', 'delay at 0.0030s', 'rf at 0.0035s', 'delay at 0.0055s', 'rf at 0.0135s', 'delay at 0.0155s', 'gz at 0.0160s', 'delay at 0.0165s', 'rf at 0.0170s', 'delay at 0.0190s', 'rf at 0.0270s', 'delay at 0.0290s', 'gz at 0.0295s', 'delay at 0.0300s', 'rf at 0.0305s', 'delay at 0.0325s', 'rf at 0.0405s', 'delay at 0.0425s', 'gz at 0.0430s', 'delay at 0.0435s', 'rf at 0.0440s', 'delay at 0.0460s', 'rf at 0.0540s', 'delay at 0.0560s', 'gz at 0.0565s', 'delay at 0.0570s', 'rf at 0.0575s', 'delay at 0.0595s', 'rf at 0.0675s', 'delay at 0.0695s', 'gz at 0.0700s', 'delay at 0.0705s', 'rf at 0.0710s', 'delay at 0.0730s', 'rf at 0.0810s', 'delay at 0.0830s', 'gz at 0.0835s', 'delay at 0.0840s', 'rf at 0.0845s', 'delay at 0.0865s', 'rf at 0.0945s', 'delay at 0.0965s', 'gz at 0.0970s', 'delay at 0.0975s', 'rf at 0.0980s', 'delay at 0.1000s', 'rf at 0.1080s', 'delay at 0.1100s', 'gz at 0.1105s', 'delay at 0.1110s', 'rf at 0.1115s', 'delay at 0.1135s', 'rf at 0.1215s', 'delay at 0.1235s', 'gz at 0.1240s', 'delay at 0.1245s', 'rf at 0.1250s', 'delay at 0.1270s', 'rf at 0.1350s', 'gz at 0.1370s', 'adc at 0.1375s']\n",
      "[]\n",
      "['rf at 0.0000s', 'delay at 0.0020s', 'gz at 0.0025s', 'delay at 0.0030s', 'rf at 0.0035s', 'delay at 0.0055s', 'rf at 0.0855s', 'delay at 0.0875s', 'gz at 0.0880s', 'delay at 0.0885s', 'rf at 0.0890s', 'delay at 0.0910s', 'rf at 0.1710s', 'delay at 0.1730s', 'gz at 0.1735s', 'delay at 0.1740s', 'rf at 0.1745s', 'delay at 0.1765s', 'rf at 0.2565s', 'delay at 0.2585s', 'gz at 0.2590s', 'delay at 0.2595s', 'rf at 0.2600s', 'delay at 0.2620s', 'rf at 0.3420s', 'delay at 0.3440s', 'gz at 0.3445s', 'delay at 0.3450s', 'rf at 0.3455s', 'delay at 0.3475s', 'rf at 0.4275s', 'delay at 0.4295s', 'gz at 0.4300s', 'delay at 0.4305s', 'rf at 0.4310s', 'delay at 0.4330s', 'rf at 0.5130s', 'delay at 0.5150s', 'gz at 0.5155s', 'delay at 0.5160s', 'rf at 0.5165s', 'delay at 0.5185s', 'rf at 0.5985s', 'delay at 0.6005s', 'gz at 0.6010s', 'delay at 0.6015s', 'rf at 0.6020s', 'delay at 0.6040s', 'rf at 0.6840s', 'delay at 0.6860s', 'gz at 0.6865s', 'delay at 0.6870s', 'rf at 0.6875s', 'delay at 0.6895s', 'rf at 0.7695s', 'delay at 0.7715s', 'gz at 0.7720s', 'delay at 0.7725s', 'rf at 0.7730s', 'delay at 0.7750s', 'rf at 0.8550s', 'gz at 0.8570s', 'adc at 0.8575s']\n",
      "[]\n",
      "['rf at 0.0000s', 'delay at 0.0020s', 'gz at 0.0025s', 'delay at 0.0030s', 'rf at 0.0035s', 'delay at 0.0055s', 'rf at 0.0305s', 'delay at 0.0325s', 'gz at 0.0330s', 'delay at 0.0335s', 'rf at 0.0340s', 'delay at 0.0360s', 'rf at 0.0610s', 'delay at 0.0630s', 'gz at 0.0635s', 'delay at 0.0640s', 'rf at 0.0645s', 'delay at 0.0665s', 'rf at 0.0915s', 'delay at 0.0935s', 'gz at 0.0940s', 'delay at 0.0945s', 'rf at 0.0950s', 'delay at 0.0970s', 'rf at 0.1220s', 'delay at 0.1240s', 'gz at 0.1245s', 'delay at 0.1250s', 'rf at 0.1255s', 'delay at 0.1275s', 'rf at 0.1525s', 'delay at 0.1545s', 'gz at 0.1550s', 'delay at 0.1555s', 'rf at 0.1560s', 'delay at 0.1580s', 'rf at 0.1830s', 'delay at 0.1850s', 'gz at 0.1855s', 'delay at 0.1860s', 'rf at 0.1865s', 'delay at 0.1885s', 'rf at 0.2135s', 'delay at 0.2155s', 'gz at 0.2160s', 'delay at 0.2165s', 'rf at 0.2170s', 'delay at 0.2190s', 'rf at 0.2440s', 'delay at 0.2460s', 'gz at 0.2465s', 'delay at 0.2470s', 'rf at 0.2475s', 'delay at 0.2495s', 'rf at 0.2745s', 'delay at 0.2765s', 'gz at 0.2770s', 'delay at 0.2775s', 'rf at 0.2780s', 'delay at 0.2800s', 'rf at 0.3050s', 'gz at 0.3070s', 'adc at 0.3075s']\n",
      "[]\n",
      "['rf at 0.0000s', 'delay at 0.0020s', 'gz at 0.0025s', 'delay at 0.0030s', 'rf at 0.0035s', 'delay at 0.0055s', 'rf at 0.1655s', 'delay at 0.1675s', 'gz at 0.1680s', 'delay at 0.1685s', 'rf at 0.1690s', 'delay at 0.1710s', 'rf at 0.3310s', 'delay at 0.3330s', 'gz at 0.3335s', 'delay at 0.3340s', 'rf at 0.3345s', 'delay at 0.3365s', 'rf at 0.4965s', 'delay at 0.4985s', 'gz at 0.4990s', 'delay at 0.4995s', 'rf at 0.5000s', 'delay at 0.5020s', 'rf at 0.6620s', 'delay at 0.6640s', 'gz at 0.6645s', 'delay at 0.6650s', 'rf at 0.6655s', 'delay at 0.6675s', 'rf at 0.8275s', 'delay at 0.8295s', 'gz at 0.8300s', 'delay at 0.8305s', 'rf at 0.8310s', 'delay at 0.8330s', 'rf at 0.9930s', 'delay at 0.9950s', 'gz at 0.9955s', 'delay at 0.9960s', 'rf at 0.9965s', 'delay at 0.9985s', 'rf at 1.1585s', 'delay at 1.1605s', 'gz at 1.1610s', 'delay at 1.1615s', 'rf at 1.1620s', 'delay at 1.1640s', 'rf at 1.3240s', 'delay at 1.3260s', 'gz at 1.3265s', 'delay at 1.3270s', 'rf at 1.3275s', 'delay at 1.3295s', 'rf at 1.4895s', 'delay at 1.4915s', 'gz at 1.4920s', 'delay at 1.4925s', 'rf at 1.4930s', 'delay at 1.4950s', 'rf at 1.6550s', 'gz at 1.6570s', 'adc at 1.6575s']\n",
      "[]\n",
      "['rf at 0.0000s', 'delay at 0.0020s', 'gz at 0.0025s', 'delay at 0.0030s', 'rf at 0.0035s', 'delay at 0.0055s', 'rf at 0.0215s', 'delay at 0.0235s', 'gz at 0.0240s', 'delay at 0.0245s', 'rf at 0.0250s', 'delay at 0.0270s', 'rf at 0.0430s', 'delay at 0.0450s', 'gz at 0.0455s', 'delay at 0.0460s', 'rf at 0.0465s', 'delay at 0.0485s', 'rf at 0.0645s', 'delay at 0.0665s', 'gz at 0.0670s', 'delay at 0.0675s', 'rf at 0.0680s', 'delay at 0.0700s', 'rf at 0.0860s', 'delay at 0.0880s', 'gz at 0.0885s', 'delay at 0.0890s', 'rf at 0.0895s', 'delay at 0.0915s', 'rf at 0.1075s', 'delay at 0.1095s', 'gz at 0.1100s', 'delay at 0.1105s', 'rf at 0.1110s', 'delay at 0.1130s', 'rf at 0.1290s', 'delay at 0.1310s', 'gz at 0.1315s', 'delay at 0.1320s', 'rf at 0.1325s', 'delay at 0.1345s', 'rf at 0.1505s', 'delay at 0.1525s', 'gz at 0.1530s', 'delay at 0.1535s', 'rf at 0.1540s', 'delay at 0.1560s', 'rf at 0.1720s', 'delay at 0.1740s', 'gz at 0.1745s', 'delay at 0.1750s', 'rf at 0.1755s', 'delay at 0.1775s', 'rf at 0.1935s', 'delay at 0.1955s', 'gz at 0.1960s', 'delay at 0.1965s', 'rf at 0.1970s', 'delay at 0.1990s', 'rf at 0.2150s', 'gz at 0.2170s', 'adc at 0.2175s']\n",
      "[]\n"
     ]
    },
    {
     "name": "stderr",
     "output_type": "stream",
     "text": [
      "BMCTool simulation: 100%|██████████| 63/63 [01:38<00:00,  1.56s/it]\n",
      "BMCTool simulation:   0%|          | 0/63 [00:00<?, ?it/s]"
     ]
    },
    {
     "name": "stdout",
     "output_type": "stream",
     "text": [
      "['rf at 0.0000s', 'delay at 0.0020s', 'gz at 0.0025s', 'delay at 0.0030s', 'rf at 0.0035s', 'delay at 0.0055s', 'rf at 0.0405s', 'delay at 0.0425s', 'gz at 0.0430s', 'delay at 0.0435s', 'rf at 0.0440s', 'delay at 0.0460s', 'rf at 0.0810s', 'delay at 0.0830s', 'gz at 0.0835s', 'delay at 0.0840s', 'rf at 0.0845s', 'delay at 0.0865s', 'rf at 0.1215s', 'delay at 0.1235s', 'gz at 0.1240s', 'delay at 0.1245s', 'rf at 0.1250s', 'delay at 0.1270s', 'rf at 0.1620s', 'delay at 0.1640s', 'gz at 0.1645s', 'delay at 0.1650s', 'rf at 0.1655s', 'delay at 0.1675s', 'rf at 0.2025s', 'delay at 0.2045s', 'gz at 0.2050s', 'delay at 0.2055s', 'rf at 0.2060s', 'delay at 0.2080s', 'rf at 0.2430s', 'delay at 0.2450s', 'gz at 0.2455s', 'delay at 0.2460s', 'rf at 0.2465s', 'delay at 0.2485s', 'rf at 0.2835s', 'delay at 0.2855s', 'gz at 0.2860s', 'delay at 0.2865s', 'rf at 0.2870s', 'delay at 0.2890s', 'rf at 0.3240s', 'delay at 0.3260s', 'gz at 0.3265s', 'delay at 0.3270s', 'rf at 0.3275s', 'delay at 0.3295s', 'rf at 0.3645s', 'delay at 0.3665s', 'gz at 0.3670s', 'delay at 0.3675s', 'rf at 0.3680s', 'delay at 0.3700s', 'rf at 0.4050s', 'gz at 0.4070s', 'adc at 0.4075s']\n",
      "[]\n"
     ]
    },
    {
     "name": "stderr",
     "output_type": "stream",
     "text": [
      "BMCTool simulation: 100%|██████████| 63/63 [01:38<00:00,  1.57s/it]\n",
      "BMCTool simulation:   0%|          | 0/63 [00:00<?, ?it/s]"
     ]
    },
    {
     "name": "stdout",
     "output_type": "stream",
     "text": [
      "['rf at 0.0000s', 'delay at 0.0020s', 'gz at 0.0025s', 'delay at 0.0030s', 'rf at 0.0035s', 'delay at 0.0055s', 'rf at 0.2055s', 'delay at 0.2075s', 'gz at 0.2080s', 'delay at 0.2085s', 'rf at 0.2090s', 'delay at 0.2110s', 'rf at 0.4110s', 'delay at 0.4130s', 'gz at 0.4135s', 'delay at 0.4140s', 'rf at 0.4145s', 'delay at 0.4165s', 'rf at 0.6165s', 'delay at 0.6185s', 'gz at 0.6190s', 'delay at 0.6195s', 'rf at 0.6200s', 'delay at 0.6220s', 'rf at 0.8220s', 'delay at 0.8240s', 'gz at 0.8245s', 'delay at 0.8250s', 'rf at 0.8255s', 'delay at 0.8275s', 'rf at 1.0275s', 'delay at 1.0295s', 'gz at 1.0300s', 'delay at 1.0305s', 'rf at 1.0310s', 'delay at 1.0330s', 'rf at 1.2330s', 'delay at 1.2350s', 'gz at 1.2355s', 'delay at 1.2360s', 'rf at 1.2365s', 'delay at 1.2385s', 'rf at 1.4385s', 'delay at 1.4405s', 'gz at 1.4410s', 'delay at 1.4415s', 'rf at 1.4420s', 'delay at 1.4440s', 'rf at 1.6440s', 'delay at 1.6460s', 'gz at 1.6465s', 'delay at 1.6470s', 'rf at 1.6475s', 'delay at 1.6495s', 'rf at 1.8495s', 'delay at 1.8515s', 'gz at 1.8520s', 'delay at 1.8525s', 'rf at 1.8530s', 'delay at 1.8550s', 'rf at 2.0550s', 'gz at 2.0570s', 'adc at 2.0575s']\n",
      "[]\n"
     ]
    },
    {
     "name": "stderr",
     "output_type": "stream",
     "text": [
      "BMCTool simulation: 100%|██████████| 63/63 [01:43<00:00,  1.64s/it]\n",
      "BMCTool simulation: 100%|██████████| 63/63 [01:43<00:00,  1.65s/it]\n",
      "BMCTool simulation:  98%|█████████▊| 62/63 [01:43<00:02,  2.12s/it]"
     ]
    },
    {
     "name": "stdout",
     "output_type": "stream",
     "text": [
      "['rf at 0.0000s', 'delay at 0.0020s', 'gz at 0.0025s', 'delay at 0.0030s', 'rf at 0.0035s', 'delay at 0.0055s', 'rf at 0.0075s', 'delay at 0.0095s', 'gz at 0.0100s', 'delay at 0.0105s', 'rf at 0.0110s', 'delay at 0.0130s', 'rf at 0.0150s', 'delay at 0.0170s', 'gz at 0.0175s', 'delay at 0.0180s', 'rf at 0.0185s', 'delay at 0.0205s', 'rf at 0.0225s', 'delay at 0.0245s', 'gz at 0.0250s', 'delay at 0.0255s', 'rf at 0.0260s', 'delay at 0.0280s', 'rf at 0.0300s', 'delay at 0.0320s', 'gz at 0.0325s', 'delay at 0.0330s', 'rf at 0.0335s', 'delay at 0.0355s', 'rf at 0.0375s', 'delay at 0.0395s', 'gz at 0.0400s', 'delay at 0.0405s', 'rf at 0.0410s', 'delay at 0.0430s', 'rf at 0.0450s', 'delay at 0.0470s', 'gz at 0.0475s', 'delay at 0.0480s', 'rf at 0.0485s', 'delay at 0.0505s', 'rf at 0.0525s', 'delay at 0.0545s', 'gz at 0.0550s', 'delay at 0.0555s', 'rf at 0.0560s', 'delay at 0.0580s', 'rf at 0.0600s', 'delay at 0.0620s', 'gz at 0.0625s', 'delay at 0.0630s', 'rf at 0.0635s', 'delay at 0.0655s', 'rf at 0.0675s', 'delay at 0.0695s', 'gz at 0.0700s', 'delay at 0.0705s', 'rf at 0.0710s', 'delay at 0.0730s', 'rf at 0.0750s', 'gz at 0.0770s', 'adc at 0.0775s']\n",
      "[]\n",
      "['rf at 0.0000s', 'delay at 0.0020s', 'gz at 0.0025s', 'delay at 0.0030s', 'rf at 0.0035s', 'delay at 0.0055s', 'rf at 0.0505s', 'delay at 0.0525s', 'gz at 0.0530s', 'delay at 0.0535s', 'rf at 0.0540s', 'delay at 0.0560s', 'rf at 0.1010s', 'delay at 0.1030s', 'gz at 0.1035s', 'delay at 0.1040s', 'rf at 0.1045s', 'delay at 0.1065s', 'rf at 0.1515s', 'delay at 0.1535s', 'gz at 0.1540s', 'delay at 0.1545s', 'rf at 0.1550s', 'delay at 0.1570s', 'rf at 0.2020s', 'delay at 0.2040s', 'gz at 0.2045s', 'delay at 0.2050s', 'rf at 0.2055s', 'delay at 0.2075s', 'rf at 0.2525s', 'delay at 0.2545s', 'gz at 0.2550s', 'delay at 0.2555s', 'rf at 0.2560s', 'delay at 0.2580s', 'rf at 0.3030s', 'delay at 0.3050s', 'gz at 0.3055s', 'delay at 0.3060s', 'rf at 0.3065s', 'delay at 0.3085s', 'rf at 0.3535s', 'delay at 0.3555s', 'gz at 0.3560s', 'delay at 0.3565s', 'rf at 0.3570s', 'delay at 0.3590s', 'rf at 0.4040s', 'delay at 0.4060s', 'gz at 0.4065s', 'delay at 0.4070s', 'rf at 0.4075s', 'delay at 0.4095s', 'rf at 0.4545s', 'delay at 0.4565s', 'gz at 0.4570s', 'delay at 0.4575s', 'rf at 0.4580s', 'delay at 0.4600s', 'rf at 0.5050s', 'gz at 0.5070s', 'adc at 0.5075s']\n",
      "[]\n"
     ]
    },
    {
     "name": "stderr",
     "output_type": "stream",
     "text": [
      "BMCTool simulation: 100%|██████████| 63/63 [01:43<00:00,  1.65s/it]\n"
     ]
    },
    {
     "name": "stdout",
     "output_type": "stream",
     "text": [
      "['rf at 0.0000s', 'delay at 0.0020s', 'gz at 0.0025s', 'delay at 0.0030s', 'rf at 0.0035s', 'delay at 0.0055s', 'rf at 0.0135s', 'delay at 0.0155s', 'gz at 0.0160s', 'delay at 0.0165s', 'rf at 0.0170s', 'delay at 0.0190s', 'rf at 0.0270s', 'delay at 0.0290s', 'gz at 0.0295s', 'delay at 0.0300s', 'rf at 0.0305s', 'delay at 0.0325s', 'rf at 0.0405s', 'delay at 0.0425s', 'gz at 0.0430s', 'delay at 0.0435s', 'rf at 0.0440s', 'delay at 0.0460s', 'rf at 0.0540s', 'delay at 0.0560s', 'gz at 0.0565s', 'delay at 0.0570s', 'rf at 0.0575s', 'delay at 0.0595s', 'rf at 0.0675s', 'delay at 0.0695s', 'gz at 0.0700s', 'delay at 0.0705s', 'rf at 0.0710s', 'delay at 0.0730s', 'rf at 0.0810s', 'delay at 0.0830s', 'gz at 0.0835s', 'delay at 0.0840s', 'rf at 0.0845s', 'delay at 0.0865s', 'rf at 0.0945s', 'delay at 0.0965s', 'gz at 0.0970s', 'delay at 0.0975s', 'rf at 0.0980s', 'delay at 0.1000s', 'rf at 0.1080s', 'delay at 0.1100s', 'gz at 0.1105s', 'delay at 0.1110s', 'rf at 0.1115s', 'delay at 0.1135s', 'rf at 0.1215s', 'delay at 0.1235s', 'gz at 0.1240s', 'delay at 0.1245s', 'rf at 0.1250s', 'delay at 0.1270s', 'rf at 0.1350s', 'gz at 0.1370s', 'adc at 0.1375s']\n",
      "[]\n"
     ]
    },
    {
     "name": "stderr",
     "output_type": "stream",
     "text": [
      "BMCTool simulation: 100%|██████████| 63/63 [01:43<00:00,  1.65s/it]\n"
     ]
    },
    {
     "name": "stdout",
     "output_type": "stream",
     "text": [
      "['rf at 0.0000s', 'delay at 0.0020s', 'gz at 0.0025s', 'delay at 0.0030s', 'rf at 0.0035s', 'delay at 0.0055s', 'rf at 0.0305s', 'delay at 0.0325s', 'gz at 0.0330s', 'delay at 0.0335s', 'rf at 0.0340s', 'delay at 0.0360s', 'rf at 0.0610s', 'delay at 0.0630s', 'gz at 0.0635s', 'delay at 0.0640s', 'rf at 0.0645s', 'delay at 0.0665s', 'rf at 0.0915s', 'delay at 0.0935s', 'gz at 0.0940s', 'delay at 0.0945s', 'rf at 0.0950s', 'delay at 0.0970s', 'rf at 0.1220s', 'delay at 0.1240s', 'gz at 0.1245s', 'delay at 0.1250s', 'rf at 0.1255s', 'delay at 0.1275s', 'rf at 0.1525s', 'delay at 0.1545s', 'gz at 0.1550s', 'delay at 0.1555s', 'rf at 0.1560s', 'delay at 0.1580s', 'rf at 0.1830s', 'delay at 0.1850s', 'gz at 0.1855s', 'delay at 0.1860s', 'rf at 0.1865s', 'delay at 0.1885s', 'rf at 0.2135s', 'delay at 0.2155s', 'gz at 0.2160s', 'delay at 0.2165s', 'rf at 0.2170s', 'delay at 0.2190s', 'rf at 0.2440s', 'delay at 0.2460s', 'gz at 0.2465s', 'delay at 0.2470s', 'rf at 0.2475s', 'delay at 0.2495s', 'rf at 0.2745s', 'delay at 0.2765s', 'gz at 0.2770s', 'delay at 0.2775s', 'rf at 0.2780s', 'delay at 0.2800s', 'rf at 0.3050s', 'gz at 0.3070s', 'adc at 0.3075s']\n",
      "[]\n"
     ]
    },
    {
     "name": "stderr",
     "output_type": "stream",
     "text": [
      "BMCTool simulation: 100%|██████████| 63/63 [01:44<00:00,  1.66s/it]\n"
     ]
    },
    {
     "name": "stdout",
     "output_type": "stream",
     "text": [
      "['rf at 0.0000s', 'delay at 0.0020s', 'gz at 0.0025s', 'delay at 0.0030s', 'rf at 0.0035s', 'delay at 0.0055s', 'rf at 0.3055s', 'delay at 0.3075s', 'gz at 0.3080s', 'delay at 0.3085s', 'rf at 0.3090s', 'delay at 0.3110s', 'rf at 0.6110s', 'delay at 0.6130s', 'gz at 0.6135s', 'delay at 0.6140s', 'rf at 0.6145s', 'delay at 0.6165s', 'rf at 0.9165s', 'delay at 0.9185s', 'gz at 0.9190s', 'delay at 0.9195s', 'rf at 0.9200s', 'delay at 0.9220s', 'rf at 1.2220s', 'delay at 1.2240s', 'gz at 1.2245s', 'delay at 1.2250s', 'rf at 1.2255s', 'delay at 1.2275s', 'rf at 1.5275s', 'delay at 1.5295s', 'gz at 1.5300s', 'delay at 1.5305s', 'rf at 1.5310s', 'delay at 1.5330s', 'rf at 1.8330s', 'delay at 1.8350s', 'gz at 1.8355s', 'delay at 1.8360s', 'rf at 1.8365s', 'delay at 1.8385s', 'rf at 2.1385s', 'delay at 2.1405s', 'gz at 2.1410s', 'delay at 2.1415s', 'rf at 2.1420s', 'delay at 2.1440s', 'rf at 2.4440s', 'delay at 2.4460s', 'gz at 2.4465s', 'delay at 2.4470s', 'rf at 2.4475s', 'delay at 2.4495s', 'rf at 2.7495s', 'delay at 2.7515s', 'gz at 2.7520s', 'delay at 2.7525s', 'rf at 2.7530s', 'delay at 2.7550s', 'rf at 3.0550s', 'gz at 3.0570s', 'adc at 3.0575s']\n",
      "[]\n"
     ]
    },
    {
     "name": "stderr",
     "output_type": "stream",
     "text": [
      "BMCTool simulation: 100%|██████████| 63/63 [01:44<00:00,  1.66s/it]\n",
      "BMCTool simulation: 100%|██████████| 63/63 [01:44<00:00,  1.65s/it]\n",
      "BMCTool simulation: 100%|██████████| 63/63 [01:44<00:00,  1.66s/it]\n"
     ]
    },
    {
     "name": "stdout",
     "output_type": "stream",
     "text": [
      "['rf at 0.0000s', 'delay at 0.0020s', 'gz at 0.0025s', 'delay at 0.0030s', 'rf at 0.0035s', 'delay at 0.0055s', 'rf at 0.0215s', 'delay at 0.0235s', 'gz at 0.0240s', 'delay at 0.0245s', 'rf at 0.0250s', 'delay at 0.0270s', 'rf at 0.0430s', 'delay at 0.0450s', 'gz at 0.0455s', 'delay at 0.0460s', 'rf at 0.0465s', 'delay at 0.0485s', 'rf at 0.0645s', 'delay at 0.0665s', 'gz at 0.0670s', 'delay at 0.0675s', 'rf at 0.0680s', 'delay at 0.0700s', 'rf at 0.0860s', 'delay at 0.0880s', 'gz at 0.0885s', 'delay at 0.0890s', 'rf at 0.0895s', 'delay at 0.0915s', 'rf at 0.1075s', 'delay at 0.1095s', 'gz at 0.1100s', 'delay at 0.1105s', 'rf at 0.1110s', 'delay at 0.1130s', 'rf at 0.1290s', 'delay at 0.1310s', 'gz at 0.1315s', 'delay at 0.1320s', 'rf at 0.1325s', 'delay at 0.1345s', 'rf at 0.1505s', 'delay at 0.1525s', 'gz at 0.1530s', 'delay at 0.1535s', 'rf at 0.1540s', 'delay at 0.1560s', 'rf at 0.1720s', 'delay at 0.1740s', 'gz at 0.1745s', 'delay at 0.1750s', 'rf at 0.1755s', 'delay at 0.1775s', 'rf at 0.1935s', 'delay at 0.1955s', 'gz at 0.1960s', 'delay at 0.1965s', 'rf at 0.1970s', 'delay at 0.1990s', 'rf at 0.2150s', 'gz at 0.2170s', 'adc at 0.2175s']\n",
      "[]\n",
      "['rf at 0.0000s', 'delay at 0.0020s', 'gz at 0.0025s', 'delay at 0.0030s', 'rf at 0.0035s', 'delay at 0.0055s', 'rf at 0.2055s', 'delay at 0.2075s', 'gz at 0.2080s', 'delay at 0.2085s', 'rf at 0.2090s', 'delay at 0.2110s', 'rf at 0.4110s', 'delay at 0.4130s', 'gz at 0.4135s', 'delay at 0.4140s', 'rf at 0.4145s', 'delay at 0.4165s', 'rf at 0.6165s', 'delay at 0.6185s', 'gz at 0.6190s', 'delay at 0.6195s', 'rf at 0.6200s', 'delay at 0.6220s', 'rf at 0.8220s', 'delay at 0.8240s', 'gz at 0.8245s', 'delay at 0.8250s', 'rf at 0.8255s', 'delay at 0.8275s', 'rf at 1.0275s', 'delay at 1.0295s', 'gz at 1.0300s', 'delay at 1.0305s', 'rf at 1.0310s', 'delay at 1.0330s', 'rf at 1.2330s', 'delay at 1.2350s', 'gz at 1.2355s', 'delay at 1.2360s', 'rf at 1.2365s', 'delay at 1.2385s', 'rf at 1.4385s', 'delay at 1.4405s', 'gz at 1.4410s', 'delay at 1.4415s', 'rf at 1.4420s', 'delay at 1.4440s', 'rf at 1.6440s', 'delay at 1.6460s', 'gz at 1.6465s', 'delay at 1.6470s', 'rf at 1.6475s', 'delay at 1.6495s', 'rf at 1.8495s', 'delay at 1.8515s', 'gz at 1.8520s', 'delay at 1.8525s', 'rf at 1.8530s', 'delay at 1.8550s', 'rf at 2.0550s', 'gz at 2.0570s', 'adc at 2.0575s']\n",
      "[]\n",
      "['rf at 0.0000s', 'delay at 0.0020s', 'gz at 0.0025s', 'delay at 0.0030s', 'rf at 0.0035s', 'delay at 0.0055s', 'rf at 0.1655s', 'delay at 0.1675s', 'gz at 0.1680s', 'delay at 0.1685s', 'rf at 0.1690s', 'delay at 0.1710s', 'rf at 0.3310s', 'delay at 0.3330s', 'gz at 0.3335s', 'delay at 0.3340s', 'rf at 0.3345s', 'delay at 0.3365s', 'rf at 0.4965s', 'delay at 0.4985s', 'gz at 0.4990s', 'delay at 0.4995s', 'rf at 0.5000s', 'delay at 0.5020s', 'rf at 0.6620s', 'delay at 0.6640s', 'gz at 0.6645s', 'delay at 0.6650s', 'rf at 0.6655s', 'delay at 0.6675s', 'rf at 0.8275s', 'delay at 0.8295s', 'gz at 0.8300s', 'delay at 0.8305s', 'rf at 0.8310s', 'delay at 0.8330s', 'rf at 0.9930s', 'delay at 0.9950s', 'gz at 0.9955s', 'delay at 0.9960s', 'rf at 0.9965s', 'delay at 0.9985s', 'rf at 1.1585s', 'delay at 1.1605s', 'gz at 1.1610s', 'delay at 1.1615s', 'rf at 1.1620s', 'delay at 1.1640s', 'rf at 1.3240s', 'delay at 1.3260s', 'gz at 1.3265s', 'delay at 1.3270s', 'rf at 1.3275s', 'delay at 1.3295s', 'rf at 1.4895s', 'delay at 1.4915s', 'gz at 1.4920s', 'delay at 1.4925s', 'rf at 1.4930s', 'delay at 1.4950s', 'rf at 1.6550s', 'gz at 1.6570s', 'adc at 1.6575s']\n",
      "[]\n"
     ]
    },
    {
     "name": "stderr",
     "output_type": "stream",
     "text": [
      "BMCTool simulation: 100%|██████████| 63/63 [01:45<00:00,  1.67s/it]\n"
     ]
    },
    {
     "name": "stdout",
     "output_type": "stream",
     "text": [
      "['rf at 0.0000s', 'delay at 0.0020s', 'gz at 0.0025s', 'delay at 0.0030s', 'rf at 0.0035s', 'delay at 0.0055s', 'rf at 0.0855s', 'delay at 0.0875s', 'gz at 0.0880s', 'delay at 0.0885s', 'rf at 0.0890s', 'delay at 0.0910s', 'rf at 0.1710s', 'delay at 0.1730s', 'gz at 0.1735s', 'delay at 0.1740s', 'rf at 0.1745s', 'delay at 0.1765s', 'rf at 0.2565s', 'delay at 0.2585s', 'gz at 0.2590s', 'delay at 0.2595s', 'rf at 0.2600s', 'delay at 0.2620s', 'rf at 0.3420s', 'delay at 0.3440s', 'gz at 0.3445s', 'delay at 0.3450s', 'rf at 0.3455s', 'delay at 0.3475s', 'rf at 0.4275s', 'delay at 0.4295s', 'gz at 0.4300s', 'delay at 0.4305s', 'rf at 0.4310s', 'delay at 0.4330s', 'rf at 0.5130s', 'delay at 0.5150s', 'gz at 0.5155s', 'delay at 0.5160s', 'rf at 0.5165s', 'delay at 0.5185s', 'rf at 0.5985s', 'delay at 0.6005s', 'gz at 0.6010s', 'delay at 0.6015s', 'rf at 0.6020s', 'delay at 0.6040s', 'rf at 0.6840s', 'delay at 0.6860s', 'gz at 0.6865s', 'delay at 0.6870s', 'rf at 0.6875s', 'delay at 0.6895s', 'rf at 0.7695s', 'delay at 0.7715s', 'gz at 0.7720s', 'delay at 0.7725s', 'rf at 0.7730s', 'delay at 0.7750s', 'rf at 0.8550s', 'gz at 0.8570s', 'adc at 0.8575s']\n",
      "[]\n"
     ]
    },
    {
     "name": "stderr",
     "output_type": "stream",
     "text": [
      "BMCTool simulation: 100%|██████████| 63/63 [01:45<00:00,  1.67s/it]\n"
     ]
    },
    {
     "name": "stdout",
     "output_type": "stream",
     "text": [
      "['rf at 0.0000s', 'delay at 0.0020s', 'gz at 0.0025s', 'delay at 0.0030s', 'rf at 0.0035s', 'delay at 0.0055s', 'rf at 0.0405s', 'delay at 0.0425s', 'gz at 0.0430s', 'delay at 0.0435s', 'rf at 0.0440s', 'delay at 0.0460s', 'rf at 0.0810s', 'delay at 0.0830s', 'gz at 0.0835s', 'delay at 0.0840s', 'rf at 0.0845s', 'delay at 0.0865s', 'rf at 0.1215s', 'delay at 0.1235s', 'gz at 0.1240s', 'delay at 0.1245s', 'rf at 0.1250s', 'delay at 0.1270s', 'rf at 0.1620s', 'delay at 0.1640s', 'gz at 0.1645s', 'delay at 0.1650s', 'rf at 0.1655s', 'delay at 0.1675s', 'rf at 0.2025s', 'delay at 0.2045s', 'gz at 0.2050s', 'delay at 0.2055s', 'rf at 0.2060s', 'delay at 0.2080s', 'rf at 0.2430s', 'delay at 0.2450s', 'gz at 0.2455s', 'delay at 0.2460s', 'rf at 0.2465s', 'delay at 0.2485s', 'rf at 0.2835s', 'delay at 0.2855s', 'gz at 0.2860s', 'delay at 0.2865s', 'rf at 0.2870s', 'delay at 0.2890s', 'rf at 0.3240s', 'delay at 0.3260s', 'gz at 0.3265s', 'delay at 0.3270s', 'rf at 0.3275s', 'delay at 0.3295s', 'rf at 0.3645s', 'delay at 0.3665s', 'gz at 0.3670s', 'delay at 0.3675s', 'rf at 0.3680s', 'delay at 0.3700s', 'rf at 0.4050s', 'gz at 0.4070s', 'adc at 0.4075s']\n",
      "[]\n"
     ]
    }
   ],
   "source": [
    "t_ex, signal = run_variation(seq_path_on,\n",
    "                             seq_path_off,\n",
    "                             config_path,\n",
    "                             adc_time,\n",
    "                             z_pos,\n",
    "                             webhook,\n",
    "                             num_points = 10)"
   ]
  },
  {
   "cell_type": "code",
   "execution_count": 8,
   "id": "ecb9bc95",
   "metadata": {},
   "outputs": [
    {
     "data": {
      "text/plain": [
       "Text(0.5, 0, '$t_{ex}$ [ms]')"
      ]
     },
     "execution_count": 8,
     "metadata": {},
     "output_type": "execute_result"
    },
    {
     "data": {
      "image/png": "[encoded data removed]",
      "text/plain": [
       "<Figure size 640x480 with 1 Axes>"
      ]
     },
     "metadata": {},
     "output_type": "display_data"
    }
   ],
   "source": [
    "fig, ax = plt.subplots(dpi=100)\n",
    "\n",
    "plt.plot(t_ex, signal, 'o--')\n",
    "ax.set_ylabel('signal intensity')\n",
    "ax.set_xlabel(r'$t_{ex}$ [ms]')"
   ]
  }
 ],
 "metadata": {
  "kernelspec": {
   "display_name": "src",
   "language": "python",
   "name": "python3"
  },
  "language_info": {
   "codemirror_mode": {
    "name": "ipython",
    "version": 3
   },
   "file_extension": ".py",
   "mimetype": "text/x-python",
   "name": "python",
   "nbconvert_exporter": "python",
   "pygments_lexer": "ipython3",
   "version": "3.11.10"
  }
 },
 "nbformat": 4,
 "nbformat_minor": 5
}

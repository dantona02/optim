{
 "cells": [
  {
   "cell_type": "markdown",
   "id": "ccfcca9b",
   "metadata": {},
   "source": [
    "### Simulation"
   ]
  },
  {
   "cell_type": "code",
   "execution_count": 1,
   "id": "bbcb1b2f",
   "metadata": {},
   "outputs": [],
   "source": [
    "from bmc.simulate import simulate\n",
    "import numpy as np\n",
    "import matplotlib.pyplot as plt"
   ]
  },
  {
   "cell_type": "code",
   "execution_count": 44,
   "id": "6ed76624",
   "metadata": {},
   "outputs": [],
   "source": [
    "low = -20e-6\n",
    "high = 20e-6\n",
    "n_iso = 1000\n",
    "\n",
    "z_pos = np.linspace(low, high, n_iso)\n",
    "z_pos = np.append(z_pos, 0.)\n",
    "z_pos = np.sort(z_pos)  "
   ]
  },
  {
   "cell_type": "code",
   "execution_count": 45,
   "id": "50b07372",
   "metadata": {},
   "outputs": [],
   "source": [
    "seq_path_on = [\n",
    "    'seq_lib/exchange_variation/tex_2ms.seq',\n",
    "    'seq_lib/exchange_variation/tex_4ms.seq',\n",
    "    'seq_lib/exchange_variation/tex_8ms.seq',\n",
    "    'seq_lib/exchange_variation/tex_12ms.seq',\n",
    "    'seq_lib/exchange_variation/tex_16ms.seq',\n",
    "    'seq_lib/exchange_variation/tex_20ms.seq',\n",
    "    'seq_lib/exchange_variation/tex_25ms.seq',\n",
    "    'seq_lib/exchange_variation/tex_30ms.seq',\n",
    "    'seq_lib/exchange_variation/tex_35ms.seq',\n",
    "    'seq_lib/exchange_variation/tex_40ms.seq',\n",
    "    'seq_lib/exchange_variation/tex_45ms.seq',\n",
    "    'seq_lib/exchange_variation/tex_60ms.seq',\n",
    "    'seq_lib/exchange_variation/tex_80ms.seq',\n",
    "    'seq_lib/exchange_variation/tex_120ms.seq',\n",
    "    'seq_lib/exchange_variation/tex_160ms.seq',\n",
    "    'seq_lib/exchange_variation/tex_200ms.seq',\n",
    "    'seq_lib/exchange_variation/tex_300ms.seq',\n",
    "    'seq_lib/exchange_variation/tex_400ms.seq',\n",
    "    'seq_lib/exchange_variation/tex_500ms.seq'\n",
    "]\n",
    "\n",
    "seq_path_off = [\n",
    "    'seq_lib/exchange_variation/tex_2ms_minus.seq',\n",
    "    'seq_lib/exchange_variation/tex_4ms_minus.seq',\n",
    "    'seq_lib/exchange_variation/tex_8ms_minus.seq',\n",
    "    'seq_lib/exchange_variation/tex_12ms_minus.seq',\n",
    "    'seq_lib/exchange_variation/tex_16ms_minus.seq',\n",
    "    'seq_lib/exchange_variation/tex_20ms_minus.seq',\n",
    "    'seq_lib/exchange_variation/tex_25ms_minus.seq',\n",
    "    'seq_lib/exchange_variation/tex_30ms_minus.seq',\n",
    "    'seq_lib/exchange_variation/tex_35ms_minus.seq',\n",
    "    'seq_lib/exchange_variation/tex_40ms_minus.seq',\n",
    "    'seq_lib/exchange_variation/tex_45ms_minus.seq',\n",
    "    'seq_lib/exchange_variation/tex_60ms_minus.seq',\n",
    "    'seq_lib/exchange_variation/tex_80ms_minus.seq',\n",
    "    'seq_lib/exchange_variation/tex_120ms_minus.seq',\n",
    "    'seq_lib/exchange_variation/tex_160ms_minus.seq',\n",
    "    'seq_lib/exchange_variation/tex_200ms_minus.seq',\n",
    "    'seq_lib/exchange_variation/tex_300ms_minus.seq',\n",
    "    'seq_lib/exchange_variation/tex_400ms_minus.seq',\n",
    "    'seq_lib/exchange_variation/tex_500ms_minus.seq'\n",
    "]\n",
    "\n",
    "config_path = 'sim_lib/config_1pool.yaml'"
   ]
  },
  {
   "cell_type": "code",
   "execution_count": 46,
   "id": "73789ef4",
   "metadata": {},
   "outputs": [
    {
     "data": {
      "text/plain": [
       "19"
      ]
     },
     "execution_count": 46,
     "metadata": {},
     "output_type": "execute_result"
    }
   ],
   "source": [
    "adc_time = 6e-3\n",
    "retun_zmag = False\n",
    "write_all_mag = True\n",
    "webhook = False\n",
    "plt_range = [0, 4]\n",
    "iso_select = [-5,0,5]\n",
    "\n",
    "len(seq_path_on)"
   ]
  },
  {
   "cell_type": "code",
   "execution_count": 47,
   "id": "55d6353f",
   "metadata": {},
   "outputs": [],
   "source": [
    "from bmc.utils.tex_variation import run_variation"
   ]
  },
  {
   "cell_type": "code",
   "execution_count": 48,
   "id": "de36765c",
   "metadata": {},
   "outputs": [
    {
     "name": "stderr",
     "output_type": "stream",
     "text": [
      "BMCTool simulation: 100%|██████████| 63/63 [02:32<00:00,  2.42s/it]\n"
     ]
    },
    {
     "name": "stdout",
     "output_type": "stream",
     "text": [
      "['rf at 0.0000s', 'delay at 0.0020s', 'gz at 0.0025s', 'delay at 0.0030s', 'rf at 0.0035s', 'delay at 0.0055s', 'rf at 0.0135s', 'delay at 0.0155s', 'gz at 0.0160s', 'delay at 0.0165s', 'rf at 0.0170s', 'delay at 0.0190s', 'rf at 0.0270s', 'delay at 0.0290s', 'gz at 0.0295s', 'delay at 0.0300s', 'rf at 0.0305s', 'delay at 0.0325s', 'rf at 0.0405s', 'delay at 0.0425s', 'gz at 0.0430s', 'delay at 0.0435s', 'rf at 0.0440s', 'delay at 0.0460s', 'rf at 0.0540s', 'delay at 0.0560s', 'gz at 0.0565s', 'delay at 0.0570s', 'rf at 0.0575s', 'delay at 0.0595s', 'rf at 0.0675s', 'delay at 0.0695s', 'gz at 0.0700s', 'delay at 0.0705s', 'rf at 0.0710s', 'delay at 0.0730s', 'rf at 0.0810s', 'delay at 0.0830s', 'gz at 0.0835s', 'delay at 0.0840s', 'rf at 0.0845s', 'delay at 0.0865s', 'rf at 0.0945s', 'delay at 0.0965s', 'gz at 0.0970s', 'delay at 0.0975s', 'rf at 0.0980s', 'delay at 0.1000s', 'rf at 0.1080s', 'delay at 0.1100s', 'gz at 0.1105s', 'delay at 0.1110s', 'rf at 0.1115s', 'delay at 0.1135s', 'rf at 0.1215s', 'delay at 0.1235s', 'gz at 0.1240s', 'delay at 0.1245s', 'rf at 0.1250s', 'delay at 0.1270s', 'rf at 0.1350s', 'gz at 0.1370s', 'adc at 0.1375s']\n",
      "[]\n"
     ]
    },
    {
     "name": "stderr",
     "output_type": "stream",
     "text": [
      "BMCTool simulation: 100%|██████████| 63/63 [02:44<00:00,  2.61s/it]\n"
     ]
    },
    {
     "name": "stdout",
     "output_type": "stream",
     "text": [
      "['rf at 0.0000s', 'delay at 0.0020s', 'gz at 0.0025s', 'delay at 0.0030s', 'rf at 0.0035s', 'delay at 0.0055s', 'rf at 0.1655s', 'delay at 0.1675s', 'gz at 0.1680s', 'delay at 0.1685s', 'rf at 0.1690s', 'delay at 0.1710s', 'rf at 0.3310s', 'delay at 0.3330s', 'gz at 0.3335s', 'delay at 0.3340s', 'rf at 0.3345s', 'delay at 0.3365s', 'rf at 0.4965s', 'delay at 0.4985s', 'gz at 0.4990s', 'delay at 0.4995s', 'rf at 0.5000s', 'delay at 0.5020s', 'rf at 0.6620s', 'delay at 0.6640s', 'gz at 0.6645s', 'delay at 0.6650s', 'rf at 0.6655s', 'delay at 0.6675s', 'rf at 0.8275s', 'delay at 0.8295s', 'gz at 0.8300s', 'delay at 0.8305s', 'rf at 0.8310s', 'delay at 0.8330s', 'rf at 0.9930s', 'delay at 0.9950s', 'gz at 0.9955s', 'delay at 0.9960s', 'rf at 0.9965s', 'delay at 0.9985s', 'rf at 1.1585s', 'delay at 1.1605s', 'gz at 1.1610s', 'delay at 1.1615s', 'rf at 1.1620s', 'delay at 1.1640s', 'rf at 1.3240s', 'delay at 1.3260s', 'gz at 1.3265s', 'delay at 1.3270s', 'rf at 1.3275s', 'delay at 1.3295s', 'rf at 1.4895s', 'delay at 1.4915s', 'gz at 1.4920s', 'delay at 1.4925s', 'rf at 1.4930s', 'delay at 1.4950s', 'rf at 1.6550s', 'gz at 1.6570s', 'adc at 1.6575s']\n",
      "[]\n"
     ]
    },
    {
     "name": "stderr",
     "output_type": "stream",
     "text": [
      "BMCTool simulation: 100%|██████████| 63/63 [02:45<00:00,  2.63s/it]\n"
     ]
    },
    {
     "name": "stdout",
     "output_type": "stream",
     "text": [
      "['rf at 0.0000s', 'delay at 0.0020s', 'gz at 0.0025s', 'delay at 0.0030s', 'rf at 0.0035s', 'delay at 0.0055s', 'rf at 0.2055s', 'delay at 0.2075s', 'gz at 0.2080s', 'delay at 0.2085s', 'rf at 0.2090s', 'delay at 0.2110s', 'rf at 0.4110s', 'delay at 0.4130s', 'gz at 0.4135s', 'delay at 0.4140s', 'rf at 0.4145s', 'delay at 0.4165s', 'rf at 0.6165s', 'delay at 0.6185s', 'gz at 0.6190s', 'delay at 0.6195s', 'rf at 0.6200s', 'delay at 0.6220s', 'rf at 0.8220s', 'delay at 0.8240s', 'gz at 0.8245s', 'delay at 0.8250s', 'rf at 0.8255s', 'delay at 0.8275s', 'rf at 1.0275s', 'delay at 1.0295s', 'gz at 1.0300s', 'delay at 1.0305s', 'rf at 1.0310s', 'delay at 1.0330s', 'rf at 1.2330s', 'delay at 1.2350s', 'gz at 1.2355s', 'delay at 1.2360s', 'rf at 1.2365s', 'delay at 1.2385s', 'rf at 1.4385s', 'delay at 1.4405s', 'gz at 1.4410s', 'delay at 1.4415s', 'rf at 1.4420s', 'delay at 1.4440s', 'rf at 1.6440s', 'delay at 1.6460s', 'gz at 1.6465s', 'delay at 1.6470s', 'rf at 1.6475s', 'delay at 1.6495s', 'rf at 1.8495s', 'delay at 1.8515s', 'gz at 1.8520s', 'delay at 1.8525s', 'rf at 1.8530s', 'delay at 1.8550s', 'rf at 2.0550s', 'gz at 2.0570s', 'adc at 2.0575s']\n",
      "[]\n"
     ]
    },
    {
     "name": "stderr",
     "output_type": "stream",
     "text": [
      "BMCTool simulation: 100%|██████████| 63/63 [02:48<00:00,  2.67s/it]\n"
     ]
    },
    {
     "name": "stdout",
     "output_type": "stream",
     "text": [
      "['rf at 0.0000s', 'delay at 0.0020s', 'gz at 0.0025s', 'delay at 0.0030s', 'rf at 0.0035s', 'delay at 0.0055s', 'rf at 0.0305s', 'delay at 0.0325s', 'gz at 0.0330s', 'delay at 0.0335s', 'rf at 0.0340s', 'delay at 0.0360s', 'rf at 0.0610s', 'delay at 0.0630s', 'gz at 0.0635s', 'delay at 0.0640s', 'rf at 0.0645s', 'delay at 0.0665s', 'rf at 0.0915s', 'delay at 0.0935s', 'gz at 0.0940s', 'delay at 0.0945s', 'rf at 0.0950s', 'delay at 0.0970s', 'rf at 0.1220s', 'delay at 0.1240s', 'gz at 0.1245s', 'delay at 0.1250s', 'rf at 0.1255s', 'delay at 0.1275s', 'rf at 0.1525s', 'delay at 0.1545s', 'gz at 0.1550s', 'delay at 0.1555s', 'rf at 0.1560s', 'delay at 0.1580s', 'rf at 0.1830s', 'delay at 0.1850s', 'gz at 0.1855s', 'delay at 0.1860s', 'rf at 0.1865s', 'delay at 0.1885s', 'rf at 0.2135s', 'delay at 0.2155s', 'gz at 0.2160s', 'delay at 0.2165s', 'rf at 0.2170s', 'delay at 0.2190s', 'rf at 0.2440s', 'delay at 0.2460s', 'gz at 0.2465s', 'delay at 0.2470s', 'rf at 0.2475s', 'delay at 0.2495s', 'rf at 0.2745s', 'delay at 0.2765s', 'gz at 0.2770s', 'delay at 0.2775s', 'rf at 0.2780s', 'delay at 0.2800s', 'rf at 0.3050s', 'gz at 0.3070s', 'adc at 0.3075s']\n",
      "[]\n"
     ]
    },
    {
     "name": "stderr",
     "output_type": "stream",
     "text": [
      "BMCTool simulation: 100%|██████████| 63/63 [02:50<00:00,  2.70s/it]\n"
     ]
    },
    {
     "name": "stdout",
     "output_type": "stream",
     "text": [
      "['rf at 0.0000s', 'delay at 0.0020s', 'gz at 0.0025s', 'delay at 0.0030s', 'rf at 0.0035s', 'delay at 0.0055s', 'rf at 0.0175s', 'delay at 0.0195s', 'gz at 0.0200s', 'delay at 0.0205s', 'rf at 0.0210s', 'delay at 0.0230s', 'rf at 0.0350s', 'delay at 0.0370s', 'gz at 0.0375s', 'delay at 0.0380s', 'rf at 0.0385s', 'delay at 0.0405s', 'rf at 0.0525s', 'delay at 0.0545s', 'gz at 0.0550s', 'delay at 0.0555s', 'rf at 0.0560s', 'delay at 0.0580s', 'rf at 0.0700s', 'delay at 0.0720s', 'gz at 0.0725s', 'delay at 0.0730s', 'rf at 0.0735s', 'delay at 0.0755s', 'rf at 0.0875s', 'delay at 0.0895s', 'gz at 0.0900s', 'delay at 0.0905s', 'rf at 0.0910s', 'delay at 0.0930s', 'rf at 0.1050s', 'delay at 0.1070s', 'gz at 0.1075s', 'delay at 0.1080s', 'rf at 0.1085s', 'delay at 0.1105s', 'rf at 0.1225s', 'delay at 0.1245s', 'gz at 0.1250s', 'delay at 0.1255s', 'rf at 0.1260s', 'delay at 0.1280s', 'rf at 0.1400s', 'delay at 0.1420s', 'gz at 0.1425s', 'delay at 0.1430s', 'rf at 0.1435s', 'delay at 0.1455s', 'rf at 0.1575s', 'delay at 0.1595s', 'gz at 0.1600s', 'delay at 0.1605s', 'rf at 0.1610s', 'delay at 0.1630s', 'rf at 0.1750s', 'gz at 0.1770s', 'adc at 0.1775s']\n",
      "[]\n"
     ]
    },
    {
     "name": "stderr",
     "output_type": "stream",
     "text": [
      "BMCTool simulation: 100%|██████████| 63/63 [02:51<00:00,  2.72s/it]\n"
     ]
    },
    {
     "name": "stdout",
     "output_type": "stream",
     "text": [
      "['rf at 0.0000s', 'delay at 0.0020s', 'gz at 0.0025s', 'delay at 0.0030s', 'rf at 0.0035s', 'delay at 0.0055s', 'rf at 0.1255s', 'delay at 0.1275s', 'gz at 0.1280s', 'delay at 0.1285s', 'rf at 0.1290s', 'delay at 0.1310s', 'rf at 0.2510s', 'delay at 0.2530s', 'gz at 0.2535s', 'delay at 0.2540s', 'rf at 0.2545s', 'delay at 0.2565s', 'rf at 0.3765s', 'delay at 0.3785s', 'gz at 0.3790s', 'delay at 0.3795s', 'rf at 0.3800s', 'delay at 0.3820s', 'rf at 0.5020s', 'delay at 0.5040s', 'gz at 0.5045s', 'delay at 0.5050s', 'rf at 0.5055s', 'delay at 0.5075s', 'rf at 0.6275s', 'delay at 0.6295s', 'gz at 0.6300s', 'delay at 0.6305s', 'rf at 0.6310s', 'delay at 0.6330s', 'rf at 0.7530s', 'delay at 0.7550s', 'gz at 0.7555s', 'delay at 0.7560s', 'rf at 0.7565s', 'delay at 0.7585s', 'rf at 0.8785s', 'delay at 0.8805s', 'gz at 0.8810s', 'delay at 0.8815s', 'rf at 0.8820s', 'delay at 0.8840s', 'rf at 1.0040s', 'delay at 1.0060s', 'gz at 1.0065s', 'delay at 1.0070s', 'rf at 1.0075s', 'delay at 1.0095s', 'rf at 1.1295s', 'delay at 1.1315s', 'gz at 1.1320s', 'delay at 1.1325s', 'rf at 1.1330s', 'delay at 1.1350s', 'rf at 1.2550s', 'gz at 1.2570s', 'adc at 1.2575s']\n",
      "[]\n"
     ]
    },
    {
     "name": "stderr",
     "output_type": "stream",
     "text": [
      "BMCTool simulation: 100%|██████████| 63/63 [02:54<00:00,  2.77s/it]\n"
     ]
    },
    {
     "name": "stdout",
     "output_type": "stream",
     "text": [
      "['rf at 0.0000s', 'delay at 0.0020s', 'gz at 0.0025s', 'delay at 0.0030s', 'rf at 0.0035s', 'delay at 0.0055s', 'rf at 0.0075s', 'delay at 0.0095s', 'gz at 0.0100s', 'delay at 0.0105s', 'rf at 0.0110s', 'delay at 0.0130s', 'rf at 0.0150s', 'delay at 0.0170s', 'gz at 0.0175s', 'delay at 0.0180s', 'rf at 0.0185s', 'delay at 0.0205s', 'rf at 0.0225s', 'delay at 0.0245s', 'gz at 0.0250s', 'delay at 0.0255s', 'rf at 0.0260s', 'delay at 0.0280s', 'rf at 0.0300s', 'delay at 0.0320s', 'gz at 0.0325s', 'delay at 0.0330s', 'rf at 0.0335s', 'delay at 0.0355s', 'rf at 0.0375s', 'delay at 0.0395s', 'gz at 0.0400s', 'delay at 0.0405s', 'rf at 0.0410s', 'delay at 0.0430s', 'rf at 0.0450s', 'delay at 0.0470s', 'gz at 0.0475s', 'delay at 0.0480s', 'rf at 0.0485s', 'delay at 0.0505s', 'rf at 0.0525s', 'delay at 0.0545s', 'gz at 0.0550s', 'delay at 0.0555s', 'rf at 0.0560s', 'delay at 0.0580s', 'rf at 0.0600s', 'delay at 0.0620s', 'gz at 0.0625s', 'delay at 0.0630s', 'rf at 0.0635s', 'delay at 0.0655s', 'rf at 0.0675s', 'delay at 0.0695s', 'gz at 0.0700s', 'delay at 0.0705s', 'rf at 0.0710s', 'delay at 0.0730s', 'rf at 0.0750s', 'gz at 0.0770s', 'adc at 0.0775s']\n",
      "[]\n"
     ]
    },
    {
     "name": "stderr",
     "output_type": "stream",
     "text": [
      "BMCTool simulation: 100%|██████████| 63/63 [02:56<00:00,  2.80s/it]\n"
     ]
    },
    {
     "name": "stdout",
     "output_type": "stream",
     "text": [
      "['rf at 0.0000s', 'delay at 0.0020s', 'gz at 0.0025s', 'delay at 0.0030s', 'rf at 0.0035s', 'delay at 0.0055s', 'rf at 0.0095s', 'delay at 0.0115s', 'gz at 0.0120s', 'delay at 0.0125s', 'rf at 0.0130s', 'delay at 0.0150s', 'rf at 0.0190s', 'delay at 0.0210s', 'gz at 0.0215s', 'delay at 0.0220s', 'rf at 0.0225s', 'delay at 0.0245s', 'rf at 0.0285s', 'delay at 0.0305s', 'gz at 0.0310s', 'delay at 0.0315s', 'rf at 0.0320s', 'delay at 0.0340s', 'rf at 0.0380s', 'delay at 0.0400s', 'gz at 0.0405s', 'delay at 0.0410s', 'rf at 0.0415s', 'delay at 0.0435s', 'rf at 0.0475s', 'delay at 0.0495s', 'gz at 0.0500s', 'delay at 0.0505s', 'rf at 0.0510s', 'delay at 0.0530s', 'rf at 0.0570s', 'delay at 0.0590s', 'gz at 0.0595s', 'delay at 0.0600s', 'rf at 0.0605s', 'delay at 0.0625s', 'rf at 0.0665s', 'delay at 0.0685s', 'gz at 0.0690s', 'delay at 0.0695s', 'rf at 0.0700s', 'delay at 0.0720s', 'rf at 0.0760s', 'delay at 0.0780s', 'gz at 0.0785s', 'delay at 0.0790s', 'rf at 0.0795s', 'delay at 0.0815s', 'rf at 0.0855s', 'delay at 0.0875s', 'gz at 0.0880s', 'delay at 0.0885s', 'rf at 0.0890s', 'delay at 0.0910s', 'rf at 0.0950s', 'gz at 0.0970s', 'adc at 0.0975s']\n",
      "[]\n"
     ]
    },
    {
     "name": "stderr",
     "output_type": "stream",
     "text": [
      "BMCTool simulation: 100%|██████████| 63/63 [02:58<00:00,  2.83s/it]\n"
     ]
    },
    {
     "name": "stdout",
     "output_type": "stream",
     "text": [
      "['rf at 0.0000s', 'delay at 0.0020s', 'gz at 0.0025s', 'delay at 0.0030s', 'rf at 0.0035s', 'delay at 0.0055s', 'rf at 0.0405s', 'delay at 0.0425s', 'gz at 0.0430s', 'delay at 0.0435s', 'rf at 0.0440s', 'delay at 0.0460s', 'rf at 0.0810s', 'delay at 0.0830s', 'gz at 0.0835s', 'delay at 0.0840s', 'rf at 0.0845s', 'delay at 0.0865s', 'rf at 0.1215s', 'delay at 0.1235s', 'gz at 0.1240s', 'delay at 0.1245s', 'rf at 0.1250s', 'delay at 0.1270s', 'rf at 0.1620s', 'delay at 0.1640s', 'gz at 0.1645s', 'delay at 0.1650s', 'rf at 0.1655s', 'delay at 0.1675s', 'rf at 0.2025s', 'delay at 0.2045s', 'gz at 0.2050s', 'delay at 0.2055s', 'rf at 0.2060s', 'delay at 0.2080s', 'rf at 0.2430s', 'delay at 0.2450s', 'gz at 0.2455s', 'delay at 0.2460s', 'rf at 0.2465s', 'delay at 0.2485s', 'rf at 0.2835s', 'delay at 0.2855s', 'gz at 0.2860s', 'delay at 0.2865s', 'rf at 0.2870s', 'delay at 0.2890s', 'rf at 0.3240s', 'delay at 0.3260s', 'gz at 0.3265s', 'delay at 0.3270s', 'rf at 0.3275s', 'delay at 0.3295s', 'rf at 0.3645s', 'delay at 0.3665s', 'gz at 0.3670s', 'delay at 0.3675s', 'rf at 0.3680s', 'delay at 0.3700s', 'rf at 0.4050s', 'gz at 0.4070s', 'adc at 0.4075s']\n",
      "[]\n"
     ]
    },
    {
     "name": "stderr",
     "output_type": "stream",
     "text": [
      "BMCTool simulation: 100%|██████████| 63/63 [02:58<00:00,  2.84s/it]\n"
     ]
    },
    {
     "name": "stdout",
     "output_type": "stream",
     "text": [
      "['rf at 0.0000s', 'delay at 0.0020s', 'gz at 0.0025s', 'delay at 0.0030s', 'rf at 0.0035s', 'delay at 0.0055s', 'rf at 0.0655s', 'delay at 0.0675s', 'gz at 0.0680s', 'delay at 0.0685s', 'rf at 0.0690s', 'delay at 0.0710s', 'rf at 0.1310s', 'delay at 0.1330s', 'gz at 0.1335s', 'delay at 0.1340s', 'rf at 0.1345s', 'delay at 0.1365s', 'rf at 0.1965s', 'delay at 0.1985s', 'gz at 0.1990s', 'delay at 0.1995s', 'rf at 0.2000s', 'delay at 0.2020s', 'rf at 0.2620s', 'delay at 0.2640s', 'gz at 0.2645s', 'delay at 0.2650s', 'rf at 0.2655s', 'delay at 0.2675s', 'rf at 0.3275s', 'delay at 0.3295s', 'gz at 0.3300s', 'delay at 0.3305s', 'rf at 0.3310s', 'delay at 0.3330s', 'rf at 0.3930s', 'delay at 0.3950s', 'gz at 0.3955s', 'delay at 0.3960s', 'rf at 0.3965s', 'delay at 0.3985s', 'rf at 0.4585s', 'delay at 0.4605s', 'gz at 0.4610s', 'delay at 0.4615s', 'rf at 0.4620s', 'delay at 0.4640s', 'rf at 0.5240s', 'delay at 0.5260s', 'gz at 0.5265s', 'delay at 0.5270s', 'rf at 0.5275s', 'delay at 0.5295s', 'rf at 0.5895s', 'delay at 0.5915s', 'gz at 0.5920s', 'delay at 0.5925s', 'rf at 0.5930s', 'delay at 0.5950s', 'rf at 0.6550s', 'gz at 0.6570s', 'adc at 0.6575s']\n",
      "[]\n"
     ]
    },
    {
     "name": "stderr",
     "output_type": "stream",
     "text": [
      "BMCTool simulation: 100%|██████████| 63/63 [02:59<00:00,  2.85s/it]\n"
     ]
    },
    {
     "name": "stdout",
     "output_type": "stream",
     "text": [
      "['rf at 0.0000s', 'delay at 0.0020s', 'gz at 0.0025s', 'delay at 0.0030s', 'rf at 0.0035s', 'delay at 0.0055s', 'rf at 0.5055s', 'delay at 0.5075s', 'gz at 0.5080s', 'delay at 0.5085s', 'rf at 0.5090s', 'delay at 0.5110s', 'rf at 1.0110s', 'delay at 1.0130s', 'gz at 1.0135s', 'delay at 1.0140s', 'rf at 1.0145s', 'delay at 1.0165s', 'rf at 1.5165s', 'delay at 1.5185s', 'gz at 1.5190s', 'delay at 1.5195s', 'rf at 1.5200s', 'delay at 1.5220s', 'rf at 2.0220s', 'delay at 2.0240s', 'gz at 2.0245s', 'delay at 2.0250s', 'rf at 2.0255s', 'delay at 2.0275s', 'rf at 2.5275s', 'delay at 2.5295s', 'gz at 2.5300s', 'delay at 2.5305s', 'rf at 2.5310s', 'delay at 2.5330s', 'rf at 3.0330s', 'delay at 3.0350s', 'gz at 3.0355s', 'delay at 3.0360s', 'rf at 3.0365s', 'delay at 3.0385s', 'rf at 3.5385s', 'delay at 3.5405s', 'gz at 3.5410s', 'delay at 3.5415s', 'rf at 3.5420s', 'delay at 3.5440s', 'rf at 4.0440s', 'delay at 4.0460s', 'gz at 4.0465s', 'delay at 4.0470s', 'rf at 4.0475s', 'delay at 4.0495s', 'rf at 4.5495s', 'delay at 4.5515s', 'gz at 4.5520s', 'delay at 4.5525s', 'rf at 4.5530s', 'delay at 4.5550s', 'rf at 5.0550s', 'gz at 5.0570s', 'adc at 5.0575s']\n",
      "[]\n"
     ]
    },
    {
     "name": "stderr",
     "output_type": "stream",
     "text": [
      "BMCTool simulation: 100%|██████████| 63/63 [03:07<00:00,  2.97s/it]\n"
     ]
    },
    {
     "name": "stdout",
     "output_type": "stream",
     "text": [
      "['rf at 0.0000s', 'delay at 0.0020s', 'gz at 0.0025s', 'delay at 0.0030s', 'rf at 0.0035s', 'delay at 0.0055s', 'rf at 0.4055s', 'delay at 0.4075s', 'gz at 0.4080s', 'delay at 0.4085s', 'rf at 0.4090s', 'delay at 0.4110s', 'rf at 0.8110s', 'delay at 0.8130s', 'gz at 0.8135s', 'delay at 0.8140s', 'rf at 0.8145s', 'delay at 0.8165s', 'rf at 1.2165s', 'delay at 1.2185s', 'gz at 1.2190s', 'delay at 1.2195s', 'rf at 1.2200s', 'delay at 1.2220s', 'rf at 1.6220s', 'delay at 1.6240s', 'gz at 1.6245s', 'delay at 1.6250s', 'rf at 1.6255s', 'delay at 1.6275s', 'rf at 2.0275s', 'delay at 2.0295s', 'gz at 2.0300s', 'delay at 2.0305s', 'rf at 2.0310s', 'delay at 2.0330s', 'rf at 2.4330s', 'delay at 2.4350s', 'gz at 2.4355s', 'delay at 2.4360s', 'rf at 2.4365s', 'delay at 2.4385s', 'rf at 2.8385s', 'delay at 2.8405s', 'gz at 2.8410s', 'delay at 2.8415s', 'rf at 2.8420s', 'delay at 2.8440s', 'rf at 3.2440s', 'delay at 3.2460s', 'gz at 3.2465s', 'delay at 3.2470s', 'rf at 3.2475s', 'delay at 3.2495s', 'rf at 3.6495s', 'delay at 3.6515s', 'gz at 3.6520s', 'delay at 3.6525s', 'rf at 3.6530s', 'delay at 3.6550s', 'rf at 4.0550s', 'gz at 4.0570s', 'adc at 4.0575s']\n",
      "[]\n"
     ]
    },
    {
     "name": "stderr",
     "output_type": "stream",
     "text": [
      "BMCTool simulation: 100%|██████████| 63/63 [03:10<00:00,  3.03s/it]\n"
     ]
    },
    {
     "name": "stdout",
     "output_type": "stream",
     "text": [
      "['rf at 0.0000s', 'delay at 0.0020s', 'gz at 0.0025s', 'delay at 0.0030s', 'rf at 0.0035s', 'delay at 0.0055s', 'rf at 0.0505s', 'delay at 0.0525s', 'gz at 0.0530s', 'delay at 0.0535s', 'rf at 0.0540s', 'delay at 0.0560s', 'rf at 0.1010s', 'delay at 0.1030s', 'gz at 0.1035s', 'delay at 0.1040s', 'rf at 0.1045s', 'delay at 0.1065s', 'rf at 0.1515s', 'delay at 0.1535s', 'gz at 0.1540s', 'delay at 0.1545s', 'rf at 0.1550s', 'delay at 0.1570s', 'rf at 0.2020s', 'delay at 0.2040s', 'gz at 0.2045s', 'delay at 0.2050s', 'rf at 0.2055s', 'delay at 0.2075s', 'rf at 0.2525s', 'delay at 0.2545s', 'gz at 0.2550s', 'delay at 0.2555s', 'rf at 0.2560s', 'delay at 0.2580s', 'rf at 0.3030s', 'delay at 0.3050s', 'gz at 0.3055s', 'delay at 0.3060s', 'rf at 0.3065s', 'delay at 0.3085s', 'rf at 0.3535s', 'delay at 0.3555s', 'gz at 0.3560s', 'delay at 0.3565s', 'rf at 0.3570s', 'delay at 0.3590s', 'rf at 0.4040s', 'delay at 0.4060s', 'gz at 0.4065s', 'delay at 0.4070s', 'rf at 0.4075s', 'delay at 0.4095s', 'rf at 0.4545s', 'delay at 0.4565s', 'gz at 0.4570s', 'delay at 0.4575s', 'rf at 0.4580s', 'delay at 0.4600s', 'rf at 0.5050s', 'gz at 0.5070s', 'adc at 0.5075s']\n",
      "[]\n"
     ]
    },
    {
     "name": "stderr",
     "output_type": "stream",
     "text": [
      "BMCTool simulation: 100%|██████████| 63/63 [03:13<00:00,  3.08s/it]\n"
     ]
    },
    {
     "name": "stdout",
     "output_type": "stream",
     "text": [
      "['rf at 0.0000s', 'delay at 0.0020s', 'gz at 0.0025s', 'delay at 0.0030s', 'rf at 0.0035s', 'delay at 0.0055s', 'rf at 0.0355s', 'delay at 0.0375s', 'gz at 0.0380s', 'delay at 0.0385s', 'rf at 0.0390s', 'delay at 0.0410s', 'rf at 0.0710s', 'delay at 0.0730s', 'gz at 0.0735s', 'delay at 0.0740s', 'rf at 0.0745s', 'delay at 0.0765s', 'rf at 0.1065s', 'delay at 0.1085s', 'gz at 0.1090s', 'delay at 0.1095s', 'rf at 0.1100s', 'delay at 0.1120s', 'rf at 0.1420s', 'delay at 0.1440s', 'gz at 0.1445s', 'delay at 0.1450s', 'rf at 0.1455s', 'delay at 0.1475s', 'rf at 0.1775s', 'delay at 0.1795s', 'gz at 0.1800s', 'delay at 0.1805s', 'rf at 0.1810s', 'delay at 0.1830s', 'rf at 0.2130s', 'delay at 0.2150s', 'gz at 0.2155s', 'delay at 0.2160s', 'rf at 0.2165s', 'delay at 0.2185s', 'rf at 0.2485s', 'delay at 0.2505s', 'gz at 0.2510s', 'delay at 0.2515s', 'rf at 0.2520s', 'delay at 0.2540s', 'rf at 0.2840s', 'delay at 0.2860s', 'gz at 0.2865s', 'delay at 0.2870s', 'rf at 0.2875s', 'delay at 0.2895s', 'rf at 0.3195s', 'delay at 0.3215s', 'gz at 0.3220s', 'delay at 0.3225s', 'rf at 0.3230s', 'delay at 0.3250s', 'rf at 0.3550s', 'gz at 0.3570s', 'adc at 0.3575s']\n",
      "[]\n"
     ]
    },
    {
     "name": "stderr",
     "output_type": "stream",
     "text": [
      "BMCTool simulation: 100%|██████████| 63/63 [03:15<00:00,  3.11s/it]\n"
     ]
    },
    {
     "name": "stdout",
     "output_type": "stream",
     "text": [
      "['rf at 0.0000s', 'delay at 0.0020s', 'gz at 0.0025s', 'delay at 0.0030s', 'rf at 0.0035s', 'delay at 0.0055s', 'rf at 0.0255s', 'delay at 0.0275s', 'gz at 0.0280s', 'delay at 0.0285s', 'rf at 0.0290s', 'delay at 0.0310s', 'rf at 0.0510s', 'delay at 0.0530s', 'gz at 0.0535s', 'delay at 0.0540s', 'rf at 0.0545s', 'delay at 0.0565s', 'rf at 0.0765s', 'delay at 0.0785s', 'gz at 0.0790s', 'delay at 0.0795s', 'rf at 0.0800s', 'delay at 0.0820s', 'rf at 0.1020s', 'delay at 0.1040s', 'gz at 0.1045s', 'delay at 0.1050s', 'rf at 0.1055s', 'delay at 0.1075s', 'rf at 0.1275s', 'delay at 0.1295s', 'gz at 0.1300s', 'delay at 0.1305s', 'rf at 0.1310s', 'delay at 0.1330s', 'rf at 0.1530s', 'delay at 0.1550s', 'gz at 0.1555s', 'delay at 0.1560s', 'rf at 0.1565s', 'delay at 0.1585s', 'rf at 0.1785s', 'delay at 0.1805s', 'gz at 0.1810s', 'delay at 0.1815s', 'rf at 0.1820s', 'delay at 0.1840s', 'rf at 0.2040s', 'delay at 0.2060s', 'gz at 0.2065s', 'delay at 0.2070s', 'rf at 0.2075s', 'delay at 0.2095s', 'rf at 0.2295s', 'delay at 0.2315s', 'gz at 0.2320s', 'delay at 0.2325s', 'rf at 0.2330s', 'delay at 0.2350s', 'rf at 0.2550s', 'gz at 0.2570s', 'adc at 0.2575s']\n",
      "[]\n"
     ]
    },
    {
     "name": "stderr",
     "output_type": "stream",
     "text": [
      "BMCTool simulation: 100%|██████████| 63/63 [03:16<00:00,  3.11s/it]\n"
     ]
    },
    {
     "name": "stdout",
     "output_type": "stream",
     "text": [
      "['rf at 0.0000s', 'delay at 0.0020s', 'gz at 0.0025s', 'delay at 0.0030s', 'rf at 0.0035s', 'delay at 0.0055s', 'rf at 0.3055s', 'delay at 0.3075s', 'gz at 0.3080s', 'delay at 0.3085s', 'rf at 0.3090s', 'delay at 0.3110s', 'rf at 0.6110s', 'delay at 0.6130s', 'gz at 0.6135s', 'delay at 0.6140s', 'rf at 0.6145s', 'delay at 0.6165s', 'rf at 0.9165s', 'delay at 0.9185s', 'gz at 0.9190s', 'delay at 0.9195s', 'rf at 0.9200s', 'delay at 0.9220s', 'rf at 1.2220s', 'delay at 1.2240s', 'gz at 1.2245s', 'delay at 1.2250s', 'rf at 1.2255s', 'delay at 1.2275s', 'rf at 1.5275s', 'delay at 1.5295s', 'gz at 1.5300s', 'delay at 1.5305s', 'rf at 1.5310s', 'delay at 1.5330s', 'rf at 1.8330s', 'delay at 1.8350s', 'gz at 1.8355s', 'delay at 1.8360s', 'rf at 1.8365s', 'delay at 1.8385s', 'rf at 2.1385s', 'delay at 2.1405s', 'gz at 2.1410s', 'delay at 2.1415s', 'rf at 2.1420s', 'delay at 2.1440s', 'rf at 2.4440s', 'delay at 2.4460s', 'gz at 2.4465s', 'delay at 2.4470s', 'rf at 2.4475s', 'delay at 2.4495s', 'rf at 2.7495s', 'delay at 2.7515s', 'gz at 2.7520s', 'delay at 2.7525s', 'rf at 2.7530s', 'delay at 2.7550s', 'rf at 3.0550s', 'gz at 3.0570s', 'adc at 3.0575s']\n",
      "[]\n"
     ]
    },
    {
     "name": "stderr",
     "output_type": "stream",
     "text": [
      "BMCTool simulation: 100%|██████████| 63/63 [03:22<00:00,  3.22s/it]\n"
     ]
    },
    {
     "name": "stdout",
     "output_type": "stream",
     "text": [
      "['rf at 0.0000s', 'delay at 0.0020s', 'gz at 0.0025s', 'delay at 0.0030s', 'rf at 0.0035s', 'delay at 0.0055s', 'rf at 0.0855s', 'delay at 0.0875s', 'gz at 0.0880s', 'delay at 0.0885s', 'rf at 0.0890s', 'delay at 0.0910s', 'rf at 0.1710s', 'delay at 0.1730s', 'gz at 0.1735s', 'delay at 0.1740s', 'rf at 0.1745s', 'delay at 0.1765s', 'rf at 0.2565s', 'delay at 0.2585s', 'gz at 0.2590s', 'delay at 0.2595s', 'rf at 0.2600s', 'delay at 0.2620s', 'rf at 0.3420s', 'delay at 0.3440s', 'gz at 0.3445s', 'delay at 0.3450s', 'rf at 0.3455s', 'delay at 0.3475s', 'rf at 0.4275s', 'delay at 0.4295s', 'gz at 0.4300s', 'delay at 0.4305s', 'rf at 0.4310s', 'delay at 0.4330s', 'rf at 0.5130s', 'delay at 0.5150s', 'gz at 0.5155s', 'delay at 0.5160s', 'rf at 0.5165s', 'delay at 0.5185s', 'rf at 0.5985s', 'delay at 0.6005s', 'gz at 0.6010s', 'delay at 0.6015s', 'rf at 0.6020s', 'delay at 0.6040s', 'rf at 0.6840s', 'delay at 0.6860s', 'gz at 0.6865s', 'delay at 0.6870s', 'rf at 0.6875s', 'delay at 0.6895s', 'rf at 0.7695s', 'delay at 0.7715s', 'gz at 0.7720s', 'delay at 0.7725s', 'rf at 0.7730s', 'delay at 0.7750s', 'rf at 0.8550s', 'gz at 0.8570s', 'adc at 0.8575s']\n",
      "[]\n"
     ]
    },
    {
     "name": "stderr",
     "output_type": "stream",
     "text": [
      "BMCTool simulation: 100%|██████████| 63/63 [03:26<00:00,  3.28s/it]\n"
     ]
    },
    {
     "name": "stdout",
     "output_type": "stream",
     "text": [
      "['rf at 0.0000s', 'delay at 0.0020s', 'gz at 0.0025s', 'delay at 0.0030s', 'rf at 0.0035s', 'delay at 0.0055s', 'rf at 0.0215s', 'delay at 0.0235s', 'gz at 0.0240s', 'delay at 0.0245s', 'rf at 0.0250s', 'delay at 0.0270s', 'rf at 0.0430s', 'delay at 0.0450s', 'gz at 0.0455s', 'delay at 0.0460s', 'rf at 0.0465s', 'delay at 0.0485s', 'rf at 0.0645s', 'delay at 0.0665s', 'gz at 0.0670s', 'delay at 0.0675s', 'rf at 0.0680s', 'delay at 0.0700s', 'rf at 0.0860s', 'delay at 0.0880s', 'gz at 0.0885s', 'delay at 0.0890s', 'rf at 0.0895s', 'delay at 0.0915s', 'rf at 0.1075s', 'delay at 0.1095s', 'gz at 0.1100s', 'delay at 0.1105s', 'rf at 0.1110s', 'delay at 0.1130s', 'rf at 0.1290s', 'delay at 0.1310s', 'gz at 0.1315s', 'delay at 0.1320s', 'rf at 0.1325s', 'delay at 0.1345s', 'rf at 0.1505s', 'delay at 0.1525s', 'gz at 0.1530s', 'delay at 0.1535s', 'rf at 0.1540s', 'delay at 0.1560s', 'rf at 0.1720s', 'delay at 0.1740s', 'gz at 0.1745s', 'delay at 0.1750s', 'rf at 0.1755s', 'delay at 0.1775s', 'rf at 0.1935s', 'delay at 0.1955s', 'gz at 0.1960s', 'delay at 0.1965s', 'rf at 0.1970s', 'delay at 0.1990s', 'rf at 0.2150s', 'gz at 0.2170s', 'adc at 0.2175s']\n",
      "[]\n"
     ]
    },
    {
     "name": "stderr",
     "output_type": "stream",
     "text": [
      "BMCTool simulation: 100%|██████████| 63/63 [03:31<00:00,  3.36s/it]\n"
     ]
    },
    {
     "name": "stdout",
     "output_type": "stream",
     "text": [
      "['rf at 0.0000s', 'delay at 0.0020s', 'gz at 0.0025s', 'delay at 0.0030s', 'rf at 0.0035s', 'delay at 0.0055s', 'rf at 0.0455s', 'delay at 0.0475s', 'gz at 0.0480s', 'delay at 0.0485s', 'rf at 0.0490s', 'delay at 0.0510s', 'rf at 0.0910s', 'delay at 0.0930s', 'gz at 0.0935s', 'delay at 0.0940s', 'rf at 0.0945s', 'delay at 0.0965s', 'rf at 0.1365s', 'delay at 0.1385s', 'gz at 0.1390s', 'delay at 0.1395s', 'rf at 0.1400s', 'delay at 0.1420s', 'rf at 0.1820s', 'delay at 0.1840s', 'gz at 0.1845s', 'delay at 0.1850s', 'rf at 0.1855s', 'delay at 0.1875s', 'rf at 0.2275s', 'delay at 0.2295s', 'gz at 0.2300s', 'delay at 0.2305s', 'rf at 0.2310s', 'delay at 0.2330s', 'rf at 0.2730s', 'delay at 0.2750s', 'gz at 0.2755s', 'delay at 0.2760s', 'rf at 0.2765s', 'delay at 0.2785s', 'rf at 0.3185s', 'delay at 0.3205s', 'gz at 0.3210s', 'delay at 0.3215s', 'rf at 0.3220s', 'delay at 0.3240s', 'rf at 0.3640s', 'delay at 0.3660s', 'gz at 0.3665s', 'delay at 0.3670s', 'rf at 0.3675s', 'delay at 0.3695s', 'rf at 0.4095s', 'delay at 0.4115s', 'gz at 0.4120s', 'delay at 0.4125s', 'rf at 0.4130s', 'delay at 0.4150s', 'rf at 0.4550s', 'gz at 0.4570s', 'adc at 0.4575s']\n",
      "[]\n"
     ]
    },
    {
     "name": "stderr",
     "output_type": "stream",
     "text": [
      "BMCTool simulation: 100%|██████████| 63/63 [02:46<00:00,  2.64s/it]\n"
     ]
    },
    {
     "name": "stdout",
     "output_type": "stream",
     "text": [
      "['rf at 0.0000s', 'delay at 0.0020s', 'gz at 0.0025s', 'delay at 0.0030s', 'rf at 0.0035s', 'delay at 0.0055s', 'rf at 0.1655s', 'delay at 0.1675s', 'gz at 0.1680s', 'delay at 0.1685s', 'rf at 0.1690s', 'delay at 0.1710s', 'rf at 0.3310s', 'delay at 0.3330s', 'gz at 0.3335s', 'delay at 0.3340s', 'rf at 0.3345s', 'delay at 0.3365s', 'rf at 0.4965s', 'delay at 0.4985s', 'gz at 0.4990s', 'delay at 0.4995s', 'rf at 0.5000s', 'delay at 0.5020s', 'rf at 0.6620s', 'delay at 0.6640s', 'gz at 0.6645s', 'delay at 0.6650s', 'rf at 0.6655s', 'delay at 0.6675s', 'rf at 0.8275s', 'delay at 0.8295s', 'gz at 0.8300s', 'delay at 0.8305s', 'rf at 0.8310s', 'delay at 0.8330s', 'rf at 0.9930s', 'delay at 0.9950s', 'gz at 0.9955s', 'delay at 0.9960s', 'rf at 0.9965s', 'delay at 0.9985s', 'rf at 1.1585s', 'delay at 1.1605s', 'gz at 1.1610s', 'delay at 1.1615s', 'rf at 1.1620s', 'delay at 1.1640s', 'rf at 1.3240s', 'delay at 1.3260s', 'gz at 1.3265s', 'delay at 1.3270s', 'rf at 1.3275s', 'delay at 1.3295s', 'rf at 1.4895s', 'delay at 1.4915s', 'gz at 1.4920s', 'delay at 1.4925s', 'rf at 1.4930s', 'delay at 1.4950s', 'rf at 1.6550s', 'gz at 1.6570s', 'adc at 1.6575s']\n",
      "[]\n"
     ]
    },
    {
     "name": "stderr",
     "output_type": "stream",
     "text": [
      "BMCTool simulation: 100%|██████████| 63/63 [02:44<00:00,  2.61s/it]\n"
     ]
    },
    {
     "name": "stdout",
     "output_type": "stream",
     "text": [
      "['rf at 0.0000s', 'delay at 0.0020s', 'gz at 0.0025s', 'delay at 0.0030s', 'rf at 0.0035s', 'delay at 0.0055s', 'rf at 0.0075s', 'delay at 0.0095s', 'gz at 0.0100s', 'delay at 0.0105s', 'rf at 0.0110s', 'delay at 0.0130s', 'rf at 0.0150s', 'delay at 0.0170s', 'gz at 0.0175s', 'delay at 0.0180s', 'rf at 0.0185s', 'delay at 0.0205s', 'rf at 0.0225s', 'delay at 0.0245s', 'gz at 0.0250s', 'delay at 0.0255s', 'rf at 0.0260s', 'delay at 0.0280s', 'rf at 0.0300s', 'delay at 0.0320s', 'gz at 0.0325s', 'delay at 0.0330s', 'rf at 0.0335s', 'delay at 0.0355s', 'rf at 0.0375s', 'delay at 0.0395s', 'gz at 0.0400s', 'delay at 0.0405s', 'rf at 0.0410s', 'delay at 0.0430s', 'rf at 0.0450s', 'delay at 0.0470s', 'gz at 0.0475s', 'delay at 0.0480s', 'rf at 0.0485s', 'delay at 0.0505s', 'rf at 0.0525s', 'delay at 0.0545s', 'gz at 0.0550s', 'delay at 0.0555s', 'rf at 0.0560s', 'delay at 0.0580s', 'rf at 0.0600s', 'delay at 0.0620s', 'gz at 0.0625s', 'delay at 0.0630s', 'rf at 0.0635s', 'delay at 0.0655s', 'rf at 0.0675s', 'delay at 0.0695s', 'gz at 0.0700s', 'delay at 0.0705s', 'rf at 0.0710s', 'delay at 0.0730s', 'rf at 0.0750s', 'gz at 0.0770s', 'adc at 0.0775s']\n",
      "[]\n"
     ]
    },
    {
     "name": "stderr",
     "output_type": "stream",
     "text": [
      "BMCTool simulation: 100%|██████████| 63/63 [03:06<00:00,  2.95s/it]\n"
     ]
    },
    {
     "name": "stdout",
     "output_type": "stream",
     "text": [
      "['rf at 0.0000s', 'delay at 0.0020s', 'gz at 0.0025s', 'delay at 0.0030s', 'rf at 0.0035s', 'delay at 0.0055s', 'rf at 0.0135s', 'delay at 0.0155s', 'gz at 0.0160s', 'delay at 0.0165s', 'rf at 0.0170s', 'delay at 0.0190s', 'rf at 0.0270s', 'delay at 0.0290s', 'gz at 0.0295s', 'delay at 0.0300s', 'rf at 0.0305s', 'delay at 0.0325s', 'rf at 0.0405s', 'delay at 0.0425s', 'gz at 0.0430s', 'delay at 0.0435s', 'rf at 0.0440s', 'delay at 0.0460s', 'rf at 0.0540s', 'delay at 0.0560s', 'gz at 0.0565s', 'delay at 0.0570s', 'rf at 0.0575s', 'delay at 0.0595s', 'rf at 0.0675s', 'delay at 0.0695s', 'gz at 0.0700s', 'delay at 0.0705s', 'rf at 0.0710s', 'delay at 0.0730s', 'rf at 0.0810s', 'delay at 0.0830s', 'gz at 0.0835s', 'delay at 0.0840s', 'rf at 0.0845s', 'delay at 0.0865s', 'rf at 0.0945s', 'delay at 0.0965s', 'gz at 0.0970s', 'delay at 0.0975s', 'rf at 0.0980s', 'delay at 0.1000s', 'rf at 0.1080s', 'delay at 0.1100s', 'gz at 0.1105s', 'delay at 0.1110s', 'rf at 0.1115s', 'delay at 0.1135s', 'rf at 0.1215s', 'delay at 0.1235s', 'gz at 0.1240s', 'delay at 0.1245s', 'rf at 0.1250s', 'delay at 0.1270s', 'rf at 0.1350s', 'gz at 0.1370s', 'adc at 0.1375s']\n",
      "[]\n"
     ]
    },
    {
     "name": "stderr",
     "output_type": "stream",
     "text": [
      "BMCTool simulation: 100%|██████████| 63/63 [03:01<00:00,  2.88s/it]\n"
     ]
    },
    {
     "name": "stdout",
     "output_type": "stream",
     "text": [
      "['rf at 0.0000s', 'delay at 0.0020s', 'gz at 0.0025s', 'delay at 0.0030s', 'rf at 0.0035s', 'delay at 0.0055s', 'rf at 0.0305s', 'delay at 0.0325s', 'gz at 0.0330s', 'delay at 0.0335s', 'rf at 0.0340s', 'delay at 0.0360s', 'rf at 0.0610s', 'delay at 0.0630s', 'gz at 0.0635s', 'delay at 0.0640s', 'rf at 0.0645s', 'delay at 0.0665s', 'rf at 0.0915s', 'delay at 0.0935s', 'gz at 0.0940s', 'delay at 0.0945s', 'rf at 0.0950s', 'delay at 0.0970s', 'rf at 0.1220s', 'delay at 0.1240s', 'gz at 0.1245s', 'delay at 0.1250s', 'rf at 0.1255s', 'delay at 0.1275s', 'rf at 0.1525s', 'delay at 0.1545s', 'gz at 0.1550s', 'delay at 0.1555s', 'rf at 0.1560s', 'delay at 0.1580s', 'rf at 0.1830s', 'delay at 0.1850s', 'gz at 0.1855s', 'delay at 0.1860s', 'rf at 0.1865s', 'delay at 0.1885s', 'rf at 0.2135s', 'delay at 0.2155s', 'gz at 0.2160s', 'delay at 0.2165s', 'rf at 0.2170s', 'delay at 0.2190s', 'rf at 0.2440s', 'delay at 0.2460s', 'gz at 0.2465s', 'delay at 0.2470s', 'rf at 0.2475s', 'delay at 0.2495s', 'rf at 0.2745s', 'delay at 0.2765s', 'gz at 0.2770s', 'delay at 0.2775s', 'rf at 0.2780s', 'delay at 0.2800s', 'rf at 0.3050s', 'gz at 0.3070s', 'adc at 0.3075s']\n",
      "[]\n"
     ]
    },
    {
     "name": "stderr",
     "output_type": "stream",
     "text": [
      "BMCTool simulation: 100%|██████████| 63/63 [03:07<00:00,  2.97s/it]\n"
     ]
    },
    {
     "name": "stdout",
     "output_type": "stream",
     "text": [
      "['rf at 0.0000s', 'delay at 0.0020s', 'gz at 0.0025s', 'delay at 0.0030s', 'rf at 0.0035s', 'delay at 0.0055s', 'rf at 0.2055s', 'delay at 0.2075s', 'gz at 0.2080s', 'delay at 0.2085s', 'rf at 0.2090s', 'delay at 0.2110s', 'rf at 0.4110s', 'delay at 0.4130s', 'gz at 0.4135s', 'delay at 0.4140s', 'rf at 0.4145s', 'delay at 0.4165s', 'rf at 0.6165s', 'delay at 0.6185s', 'gz at 0.6190s', 'delay at 0.6195s', 'rf at 0.6200s', 'delay at 0.6220s', 'rf at 0.8220s', 'delay at 0.8240s', 'gz at 0.8245s', 'delay at 0.8250s', 'rf at 0.8255s', 'delay at 0.8275s', 'rf at 1.0275s', 'delay at 1.0295s', 'gz at 1.0300s', 'delay at 1.0305s', 'rf at 1.0310s', 'delay at 1.0330s', 'rf at 1.2330s', 'delay at 1.2350s', 'gz at 1.2355s', 'delay at 1.2360s', 'rf at 1.2365s', 'delay at 1.2385s', 'rf at 1.4385s', 'delay at 1.4405s', 'gz at 1.4410s', 'delay at 1.4415s', 'rf at 1.4420s', 'delay at 1.4440s', 'rf at 1.6440s', 'delay at 1.6460s', 'gz at 1.6465s', 'delay at 1.6470s', 'rf at 1.6475s', 'delay at 1.6495s', 'rf at 1.8495s', 'delay at 1.8515s', 'gz at 1.8520s', 'delay at 1.8525s', 'rf at 1.8530s', 'delay at 1.8550s', 'rf at 2.0550s', 'gz at 2.0570s', 'adc at 2.0575s']\n",
      "[]\n"
     ]
    },
    {
     "name": "stderr",
     "output_type": "stream",
     "text": [
      "BMCTool simulation: 100%|██████████| 63/63 [03:02<00:00,  2.90s/it]\n"
     ]
    },
    {
     "name": "stdout",
     "output_type": "stream",
     "text": [
      "['rf at 0.0000s', 'delay at 0.0020s', 'gz at 0.0025s', 'delay at 0.0030s', 'rf at 0.0035s', 'delay at 0.0055s', 'rf at 0.0175s', 'delay at 0.0195s', 'gz at 0.0200s', 'delay at 0.0205s', 'rf at 0.0210s', 'delay at 0.0230s', 'rf at 0.0350s', 'delay at 0.0370s', 'gz at 0.0375s', 'delay at 0.0380s', 'rf at 0.0385s', 'delay at 0.0405s', 'rf at 0.0525s', 'delay at 0.0545s', 'gz at 0.0550s', 'delay at 0.0555s', 'rf at 0.0560s', 'delay at 0.0580s', 'rf at 0.0700s', 'delay at 0.0720s', 'gz at 0.0725s', 'delay at 0.0730s', 'rf at 0.0735s', 'delay at 0.0755s', 'rf at 0.0875s', 'delay at 0.0895s', 'gz at 0.0900s', 'delay at 0.0905s', 'rf at 0.0910s', 'delay at 0.0930s', 'rf at 0.1050s', 'delay at 0.1070s', 'gz at 0.1075s', 'delay at 0.1080s', 'rf at 0.1085s', 'delay at 0.1105s', 'rf at 0.1225s', 'delay at 0.1245s', 'gz at 0.1250s', 'delay at 0.1255s', 'rf at 0.1260s', 'delay at 0.1280s', 'rf at 0.1400s', 'delay at 0.1420s', 'gz at 0.1425s', 'delay at 0.1430s', 'rf at 0.1435s', 'delay at 0.1455s', 'rf at 0.1575s', 'delay at 0.1595s', 'gz at 0.1600s', 'delay at 0.1605s', 'rf at 0.1610s', 'delay at 0.1630s', 'rf at 0.1750s', 'gz at 0.1770s', 'adc at 0.1775s']\n",
      "[]\n"
     ]
    },
    {
     "name": "stderr",
     "output_type": "stream",
     "text": [
      "BMCTool simulation: 100%|██████████| 63/63 [02:57<00:00,  2.82s/it]\n"
     ]
    },
    {
     "name": "stdout",
     "output_type": "stream",
     "text": [
      "['rf at 0.0000s', 'delay at 0.0020s', 'gz at 0.0025s', 'delay at 0.0030s', 'rf at 0.0035s', 'delay at 0.0055s', 'rf at 0.0095s', 'delay at 0.0115s', 'gz at 0.0120s', 'delay at 0.0125s', 'rf at 0.0130s', 'delay at 0.0150s', 'rf at 0.0190s', 'delay at 0.0210s', 'gz at 0.0215s', 'delay at 0.0220s', 'rf at 0.0225s', 'delay at 0.0245s', 'rf at 0.0285s', 'delay at 0.0305s', 'gz at 0.0310s', 'delay at 0.0315s', 'rf at 0.0320s', 'delay at 0.0340s', 'rf at 0.0380s', 'delay at 0.0400s', 'gz at 0.0405s', 'delay at 0.0410s', 'rf at 0.0415s', 'delay at 0.0435s', 'rf at 0.0475s', 'delay at 0.0495s', 'gz at 0.0500s', 'delay at 0.0505s', 'rf at 0.0510s', 'delay at 0.0530s', 'rf at 0.0570s', 'delay at 0.0590s', 'gz at 0.0595s', 'delay at 0.0600s', 'rf at 0.0605s', 'delay at 0.0625s', 'rf at 0.0665s', 'delay at 0.0685s', 'gz at 0.0690s', 'delay at 0.0695s', 'rf at 0.0700s', 'delay at 0.0720s', 'rf at 0.0760s', 'delay at 0.0780s', 'gz at 0.0785s', 'delay at 0.0790s', 'rf at 0.0795s', 'delay at 0.0815s', 'rf at 0.0855s', 'delay at 0.0875s', 'gz at 0.0880s', 'delay at 0.0885s', 'rf at 0.0890s', 'delay at 0.0910s', 'rf at 0.0950s', 'gz at 0.0970s', 'adc at 0.0975s']\n",
      "[]\n"
     ]
    },
    {
     "name": "stderr",
     "output_type": "stream",
     "text": [
      "BMCTool simulation: 100%|██████████| 63/63 [02:56<00:00,  2.80s/it]\n"
     ]
    },
    {
     "name": "stdout",
     "output_type": "stream",
     "text": [
      "['rf at 0.0000s', 'delay at 0.0020s', 'gz at 0.0025s', 'delay at 0.0030s', 'rf at 0.0035s', 'delay at 0.0055s', 'rf at 0.0655s', 'delay at 0.0675s', 'gz at 0.0680s', 'delay at 0.0685s', 'rf at 0.0690s', 'delay at 0.0710s', 'rf at 0.1310s', 'delay at 0.1330s', 'gz at 0.1335s', 'delay at 0.1340s', 'rf at 0.1345s', 'delay at 0.1365s', 'rf at 0.1965s', 'delay at 0.1985s', 'gz at 0.1990s', 'delay at 0.1995s', 'rf at 0.2000s', 'delay at 0.2020s', 'rf at 0.2620s', 'delay at 0.2640s', 'gz at 0.2645s', 'delay at 0.2650s', 'rf at 0.2655s', 'delay at 0.2675s', 'rf at 0.3275s', 'delay at 0.3295s', 'gz at 0.3300s', 'delay at 0.3305s', 'rf at 0.3310s', 'delay at 0.3330s', 'rf at 0.3930s', 'delay at 0.3950s', 'gz at 0.3955s', 'delay at 0.3960s', 'rf at 0.3965s', 'delay at 0.3985s', 'rf at 0.4585s', 'delay at 0.4605s', 'gz at 0.4610s', 'delay at 0.4615s', 'rf at 0.4620s', 'delay at 0.4640s', 'rf at 0.5240s', 'delay at 0.5260s', 'gz at 0.5265s', 'delay at 0.5270s', 'rf at 0.5275s', 'delay at 0.5295s', 'rf at 0.5895s', 'delay at 0.5915s', 'gz at 0.5920s', 'delay at 0.5925s', 'rf at 0.5930s', 'delay at 0.5950s', 'rf at 0.6550s', 'gz at 0.6570s', 'adc at 0.6575s']\n",
      "[]\n"
     ]
    },
    {
     "name": "stderr",
     "output_type": "stream",
     "text": [
      "BMCTool simulation: 100%|██████████| 63/63 [03:04<00:00,  2.93s/it]\n"
     ]
    },
    {
     "name": "stdout",
     "output_type": "stream",
     "text": [
      "['rf at 0.0000s', 'delay at 0.0020s', 'gz at 0.0025s', 'delay at 0.0030s', 'rf at 0.0035s', 'delay at 0.0055s', 'rf at 0.1255s', 'delay at 0.1275s', 'gz at 0.1280s', 'delay at 0.1285s', 'rf at 0.1290s', 'delay at 0.1310s', 'rf at 0.2510s', 'delay at 0.2530s', 'gz at 0.2535s', 'delay at 0.2540s', 'rf at 0.2545s', 'delay at 0.2565s', 'rf at 0.3765s', 'delay at 0.3785s', 'gz at 0.3790s', 'delay at 0.3795s', 'rf at 0.3800s', 'delay at 0.3820s', 'rf at 0.5020s', 'delay at 0.5040s', 'gz at 0.5045s', 'delay at 0.5050s', 'rf at 0.5055s', 'delay at 0.5075s', 'rf at 0.6275s', 'delay at 0.6295s', 'gz at 0.6300s', 'delay at 0.6305s', 'rf at 0.6310s', 'delay at 0.6330s', 'rf at 0.7530s', 'delay at 0.7550s', 'gz at 0.7555s', 'delay at 0.7560s', 'rf at 0.7565s', 'delay at 0.7585s', 'rf at 0.8785s', 'delay at 0.8805s', 'gz at 0.8810s', 'delay at 0.8815s', 'rf at 0.8820s', 'delay at 0.8840s', 'rf at 1.0040s', 'delay at 1.0060s', 'gz at 1.0065s', 'delay at 1.0070s', 'rf at 1.0075s', 'delay at 1.0095s', 'rf at 1.1295s', 'delay at 1.1315s', 'gz at 1.1320s', 'delay at 1.1325s', 'rf at 1.1330s', 'delay at 1.1350s', 'rf at 1.2550s', 'gz at 1.2570s', 'adc at 1.2575s']\n",
      "[]\n"
     ]
    },
    {
     "name": "stderr",
     "output_type": "stream",
     "text": [
      "BMCTool simulation: 100%|██████████| 63/63 [03:11<00:00,  3.04s/it]\n"
     ]
    },
    {
     "name": "stdout",
     "output_type": "stream",
     "text": [
      "['rf at 0.0000s', 'delay at 0.0020s', 'gz at 0.0025s', 'delay at 0.0030s', 'rf at 0.0035s', 'delay at 0.0055s', 'rf at 0.5055s', 'delay at 0.5075s', 'gz at 0.5080s', 'delay at 0.5085s', 'rf at 0.5090s', 'delay at 0.5110s', 'rf at 1.0110s', 'delay at 1.0130s', 'gz at 1.0135s', 'delay at 1.0140s', 'rf at 1.0145s', 'delay at 1.0165s', 'rf at 1.5165s', 'delay at 1.5185s', 'gz at 1.5190s', 'delay at 1.5195s', 'rf at 1.5200s', 'delay at 1.5220s', 'rf at 2.0220s', 'delay at 2.0240s', 'gz at 2.0245s', 'delay at 2.0250s', 'rf at 2.0255s', 'delay at 2.0275s', 'rf at 2.5275s', 'delay at 2.5295s', 'gz at 2.5300s', 'delay at 2.5305s', 'rf at 2.5310s', 'delay at 2.5330s', 'rf at 3.0330s', 'delay at 3.0350s', 'gz at 3.0355s', 'delay at 3.0360s', 'rf at 3.0365s', 'delay at 3.0385s', 'rf at 3.5385s', 'delay at 3.5405s', 'gz at 3.5410s', 'delay at 3.5415s', 'rf at 3.5420s', 'delay at 3.5440s', 'rf at 4.0440s', 'delay at 4.0460s', 'gz at 4.0465s', 'delay at 4.0470s', 'rf at 4.0475s', 'delay at 4.0495s', 'rf at 4.5495s', 'delay at 4.5515s', 'gz at 4.5520s', 'delay at 4.5525s', 'rf at 4.5530s', 'delay at 4.5550s', 'rf at 5.0550s', 'gz at 5.0570s', 'adc at 5.0575s']\n",
      "[]\n"
     ]
    },
    {
     "name": "stderr",
     "output_type": "stream",
     "text": [
      "BMCTool simulation: 100%|██████████| 63/63 [03:14<00:00,  3.09s/it]\n"
     ]
    },
    {
     "name": "stdout",
     "output_type": "stream",
     "text": [
      "['rf at 0.0000s', 'delay at 0.0020s', 'gz at 0.0025s', 'delay at 0.0030s', 'rf at 0.0035s', 'delay at 0.0055s', 'rf at 0.0405s', 'delay at 0.0425s', 'gz at 0.0430s', 'delay at 0.0435s', 'rf at 0.0440s', 'delay at 0.0460s', 'rf at 0.0810s', 'delay at 0.0830s', 'gz at 0.0835s', 'delay at 0.0840s', 'rf at 0.0845s', 'delay at 0.0865s', 'rf at 0.1215s', 'delay at 0.1235s', 'gz at 0.1240s', 'delay at 0.1245s', 'rf at 0.1250s', 'delay at 0.1270s', 'rf at 0.1620s', 'delay at 0.1640s', 'gz at 0.1645s', 'delay at 0.1650s', 'rf at 0.1655s', 'delay at 0.1675s', 'rf at 0.2025s', 'delay at 0.2045s', 'gz at 0.2050s', 'delay at 0.2055s', 'rf at 0.2060s', 'delay at 0.2080s', 'rf at 0.2430s', 'delay at 0.2450s', 'gz at 0.2455s', 'delay at 0.2460s', 'rf at 0.2465s', 'delay at 0.2485s', 'rf at 0.2835s', 'delay at 0.2855s', 'gz at 0.2860s', 'delay at 0.2865s', 'rf at 0.2870s', 'delay at 0.2890s', 'rf at 0.3240s', 'delay at 0.3260s', 'gz at 0.3265s', 'delay at 0.3270s', 'rf at 0.3275s', 'delay at 0.3295s', 'rf at 0.3645s', 'delay at 0.3665s', 'gz at 0.3670s', 'delay at 0.3675s', 'rf at 0.3680s', 'delay at 0.3700s', 'rf at 0.4050s', 'gz at 0.4070s', 'adc at 0.4075s']\n",
      "[]\n"
     ]
    },
    {
     "name": "stderr",
     "output_type": "stream",
     "text": [
      "BMCTool simulation: 100%|██████████| 63/63 [02:59<00:00,  2.85s/it]\n"
     ]
    },
    {
     "name": "stdout",
     "output_type": "stream",
     "text": [
      "['rf at 0.0000s', 'delay at 0.0020s', 'gz at 0.0025s', 'delay at 0.0030s', 'rf at 0.0035s', 'delay at 0.0055s', 'rf at 0.0355s', 'delay at 0.0375s', 'gz at 0.0380s', 'delay at 0.0385s', 'rf at 0.0390s', 'delay at 0.0410s', 'rf at 0.0710s', 'delay at 0.0730s', 'gz at 0.0735s', 'delay at 0.0740s', 'rf at 0.0745s', 'delay at 0.0765s', 'rf at 0.1065s', 'delay at 0.1085s', 'gz at 0.1090s', 'delay at 0.1095s', 'rf at 0.1100s', 'delay at 0.1120s', 'rf at 0.1420s', 'delay at 0.1440s', 'gz at 0.1445s', 'delay at 0.1450s', 'rf at 0.1455s', 'delay at 0.1475s', 'rf at 0.1775s', 'delay at 0.1795s', 'gz at 0.1800s', 'delay at 0.1805s', 'rf at 0.1810s', 'delay at 0.1830s', 'rf at 0.2130s', 'delay at 0.2150s', 'gz at 0.2155s', 'delay at 0.2160s', 'rf at 0.2165s', 'delay at 0.2185s', 'rf at 0.2485s', 'delay at 0.2505s', 'gz at 0.2510s', 'delay at 0.2515s', 'rf at 0.2520s', 'delay at 0.2540s', 'rf at 0.2840s', 'delay at 0.2860s', 'gz at 0.2865s', 'delay at 0.2870s', 'rf at 0.2875s', 'delay at 0.2895s', 'rf at 0.3195s', 'delay at 0.3215s', 'gz at 0.3220s', 'delay at 0.3225s', 'rf at 0.3230s', 'delay at 0.3250s', 'rf at 0.3550s', 'gz at 0.3570s', 'adc at 0.3575s']\n",
      "[]\n"
     ]
    },
    {
     "name": "stderr",
     "output_type": "stream",
     "text": [
      "BMCTool simulation: 100%|██████████| 63/63 [02:58<00:00,  2.83s/it]\n"
     ]
    },
    {
     "name": "stdout",
     "output_type": "stream",
     "text": [
      "['rf at 0.0000s', 'delay at 0.0020s', 'gz at 0.0025s', 'delay at 0.0030s', 'rf at 0.0035s', 'delay at 0.0055s', 'rf at 0.0255s', 'delay at 0.0275s', 'gz at 0.0280s', 'delay at 0.0285s', 'rf at 0.0290s', 'delay at 0.0310s', 'rf at 0.0510s', 'delay at 0.0530s', 'gz at 0.0535s', 'delay at 0.0540s', 'rf at 0.0545s', 'delay at 0.0565s', 'rf at 0.0765s', 'delay at 0.0785s', 'gz at 0.0790s', 'delay at 0.0795s', 'rf at 0.0800s', 'delay at 0.0820s', 'rf at 0.1020s', 'delay at 0.1040s', 'gz at 0.1045s', 'delay at 0.1050s', 'rf at 0.1055s', 'delay at 0.1075s', 'rf at 0.1275s', 'delay at 0.1295s', 'gz at 0.1300s', 'delay at 0.1305s', 'rf at 0.1310s', 'delay at 0.1330s', 'rf at 0.1530s', 'delay at 0.1550s', 'gz at 0.1555s', 'delay at 0.1560s', 'rf at 0.1565s', 'delay at 0.1585s', 'rf at 0.1785s', 'delay at 0.1805s', 'gz at 0.1810s', 'delay at 0.1815s', 'rf at 0.1820s', 'delay at 0.1840s', 'rf at 0.2040s', 'delay at 0.2060s', 'gz at 0.2065s', 'delay at 0.2070s', 'rf at 0.2075s', 'delay at 0.2095s', 'rf at 0.2295s', 'delay at 0.2315s', 'gz at 0.2320s', 'delay at 0.2325s', 'rf at 0.2330s', 'delay at 0.2350s', 'rf at 0.2550s', 'gz at 0.2570s', 'adc at 0.2575s']\n",
      "[]\n"
     ]
    },
    {
     "name": "stderr",
     "output_type": "stream",
     "text": [
      "BMCTool simulation: 100%|██████████| 63/63 [03:04<00:00,  2.92s/it]\n"
     ]
    },
    {
     "name": "stdout",
     "output_type": "stream",
     "text": [
      "['rf at 0.0000s', 'delay at 0.0020s', 'gz at 0.0025s', 'delay at 0.0030s', 'rf at 0.0035s', 'delay at 0.0055s', 'rf at 0.0505s', 'delay at 0.0525s', 'gz at 0.0530s', 'delay at 0.0535s', 'rf at 0.0540s', 'delay at 0.0560s', 'rf at 0.1010s', 'delay at 0.1030s', 'gz at 0.1035s', 'delay at 0.1040s', 'rf at 0.1045s', 'delay at 0.1065s', 'rf at 0.1515s', 'delay at 0.1535s', 'gz at 0.1540s', 'delay at 0.1545s', 'rf at 0.1550s', 'delay at 0.1570s', 'rf at 0.2020s', 'delay at 0.2040s', 'gz at 0.2045s', 'delay at 0.2050s', 'rf at 0.2055s', 'delay at 0.2075s', 'rf at 0.2525s', 'delay at 0.2545s', 'gz at 0.2550s', 'delay at 0.2555s', 'rf at 0.2560s', 'delay at 0.2580s', 'rf at 0.3030s', 'delay at 0.3050s', 'gz at 0.3055s', 'delay at 0.3060s', 'rf at 0.3065s', 'delay at 0.3085s', 'rf at 0.3535s', 'delay at 0.3555s', 'gz at 0.3560s', 'delay at 0.3565s', 'rf at 0.3570s', 'delay at 0.3590s', 'rf at 0.4040s', 'delay at 0.4060s', 'gz at 0.4065s', 'delay at 0.4070s', 'rf at 0.4075s', 'delay at 0.4095s', 'rf at 0.4545s', 'delay at 0.4565s', 'gz at 0.4570s', 'delay at 0.4575s', 'rf at 0.4580s', 'delay at 0.4600s', 'rf at 0.5050s', 'gz at 0.5070s', 'adc at 0.5075s']\n",
      "[]\n"
     ]
    },
    {
     "name": "stderr",
     "output_type": "stream",
     "text": [
      "BMCTool simulation: 100%|██████████| 63/63 [02:58<00:00,  2.83s/it]\n"
     ]
    },
    {
     "name": "stdout",
     "output_type": "stream",
     "text": [
      "['rf at 0.0000s', 'delay at 0.0020s', 'gz at 0.0025s', 'delay at 0.0030s', 'rf at 0.0035s', 'delay at 0.0055s', 'rf at 0.0215s', 'delay at 0.0235s', 'gz at 0.0240s', 'delay at 0.0245s', 'rf at 0.0250s', 'delay at 0.0270s', 'rf at 0.0430s', 'delay at 0.0450s', 'gz at 0.0455s', 'delay at 0.0460s', 'rf at 0.0465s', 'delay at 0.0485s', 'rf at 0.0645s', 'delay at 0.0665s', 'gz at 0.0670s', 'delay at 0.0675s', 'rf at 0.0680s', 'delay at 0.0700s', 'rf at 0.0860s', 'delay at 0.0880s', 'gz at 0.0885s', 'delay at 0.0890s', 'rf at 0.0895s', 'delay at 0.0915s', 'rf at 0.1075s', 'delay at 0.1095s', 'gz at 0.1100s', 'delay at 0.1105s', 'rf at 0.1110s', 'delay at 0.1130s', 'rf at 0.1290s', 'delay at 0.1310s', 'gz at 0.1315s', 'delay at 0.1320s', 'rf at 0.1325s', 'delay at 0.1345s', 'rf at 0.1505s', 'delay at 0.1525s', 'gz at 0.1530s', 'delay at 0.1535s', 'rf at 0.1540s', 'delay at 0.1560s', 'rf at 0.1720s', 'delay at 0.1740s', 'gz at 0.1745s', 'delay at 0.1750s', 'rf at 0.1755s', 'delay at 0.1775s', 'rf at 0.1935s', 'delay at 0.1955s', 'gz at 0.1960s', 'delay at 0.1965s', 'rf at 0.1970s', 'delay at 0.1990s', 'rf at 0.2150s', 'gz at 0.2170s', 'adc at 0.2175s']\n",
      "[]\n"
     ]
    },
    {
     "name": "stderr",
     "output_type": "stream",
     "text": [
      "BMCTool simulation: 100%|██████████| 63/63 [02:54<00:00,  2.78s/it]\n"
     ]
    },
    {
     "name": "stdout",
     "output_type": "stream",
     "text": [
      "['rf at 0.0000s', 'delay at 0.0020s', 'gz at 0.0025s', 'delay at 0.0030s', 'rf at 0.0035s', 'delay at 0.0055s', 'rf at 0.0455s', 'delay at 0.0475s', 'gz at 0.0480s', 'delay at 0.0485s', 'rf at 0.0490s', 'delay at 0.0510s', 'rf at 0.0910s', 'delay at 0.0930s', 'gz at 0.0935s', 'delay at 0.0940s', 'rf at 0.0945s', 'delay at 0.0965s', 'rf at 0.1365s', 'delay at 0.1385s', 'gz at 0.1390s', 'delay at 0.1395s', 'rf at 0.1400s', 'delay at 0.1420s', 'rf at 0.1820s', 'delay at 0.1840s', 'gz at 0.1845s', 'delay at 0.1850s', 'rf at 0.1855s', 'delay at 0.1875s', 'rf at 0.2275s', 'delay at 0.2295s', 'gz at 0.2300s', 'delay at 0.2305s', 'rf at 0.2310s', 'delay at 0.2330s', 'rf at 0.2730s', 'delay at 0.2750s', 'gz at 0.2755s', 'delay at 0.2760s', 'rf at 0.2765s', 'delay at 0.2785s', 'rf at 0.3185s', 'delay at 0.3205s', 'gz at 0.3210s', 'delay at 0.3215s', 'rf at 0.3220s', 'delay at 0.3240s', 'rf at 0.3640s', 'delay at 0.3660s', 'gz at 0.3665s', 'delay at 0.3670s', 'rf at 0.3675s', 'delay at 0.3695s', 'rf at 0.4095s', 'delay at 0.4115s', 'gz at 0.4120s', 'delay at 0.4125s', 'rf at 0.4130s', 'delay at 0.4150s', 'rf at 0.4550s', 'gz at 0.4570s', 'adc at 0.4575s']\n",
      "[]\n"
     ]
    },
    {
     "name": "stderr",
     "output_type": "stream",
     "text": [
      "BMCTool simulation: 100%|██████████| 63/63 [03:19<00:00,  3.17s/it]\n"
     ]
    },
    {
     "name": "stdout",
     "output_type": "stream",
     "text": [
      "['rf at 0.0000s', 'delay at 0.0020s', 'gz at 0.0025s', 'delay at 0.0030s', 'rf at 0.0035s', 'delay at 0.0055s', 'rf at 0.4055s', 'delay at 0.4075s', 'gz at 0.4080s', 'delay at 0.4085s', 'rf at 0.4090s', 'delay at 0.4110s', 'rf at 0.8110s', 'delay at 0.8130s', 'gz at 0.8135s', 'delay at 0.8140s', 'rf at 0.8145s', 'delay at 0.8165s', 'rf at 1.2165s', 'delay at 1.2185s', 'gz at 1.2190s', 'delay at 1.2195s', 'rf at 1.2200s', 'delay at 1.2220s', 'rf at 1.6220s', 'delay at 1.6240s', 'gz at 1.6245s', 'delay at 1.6250s', 'rf at 1.6255s', 'delay at 1.6275s', 'rf at 2.0275s', 'delay at 2.0295s', 'gz at 2.0300s', 'delay at 2.0305s', 'rf at 2.0310s', 'delay at 2.0330s', 'rf at 2.4330s', 'delay at 2.4350s', 'gz at 2.4355s', 'delay at 2.4360s', 'rf at 2.4365s', 'delay at 2.4385s', 'rf at 2.8385s', 'delay at 2.8405s', 'gz at 2.8410s', 'delay at 2.8415s', 'rf at 2.8420s', 'delay at 2.8440s', 'rf at 3.2440s', 'delay at 3.2460s', 'gz at 3.2465s', 'delay at 3.2470s', 'rf at 3.2475s', 'delay at 3.2495s', 'rf at 3.6495s', 'delay at 3.6515s', 'gz at 3.6520s', 'delay at 3.6525s', 'rf at 3.6530s', 'delay at 3.6550s', 'rf at 4.0550s', 'gz at 4.0570s', 'adc at 4.0575s']\n",
      "[]\n"
     ]
    },
    {
     "name": "stderr",
     "output_type": "stream",
     "text": [
      "BMCTool simulation: 100%|██████████| 63/63 [03:10<00:00,  3.02s/it]\n"
     ]
    },
    {
     "name": "stdout",
     "output_type": "stream",
     "text": [
      "['rf at 0.0000s', 'delay at 0.0020s', 'gz at 0.0025s', 'delay at 0.0030s', 'rf at 0.0035s', 'delay at 0.0055s', 'rf at 0.0855s', 'delay at 0.0875s', 'gz at 0.0880s', 'delay at 0.0885s', 'rf at 0.0890s', 'delay at 0.0910s', 'rf at 0.1710s', 'delay at 0.1730s', 'gz at 0.1735s', 'delay at 0.1740s', 'rf at 0.1745s', 'delay at 0.1765s', 'rf at 0.2565s', 'delay at 0.2585s', 'gz at 0.2590s', 'delay at 0.2595s', 'rf at 0.2600s', 'delay at 0.2620s', 'rf at 0.3420s', 'delay at 0.3440s', 'gz at 0.3445s', 'delay at 0.3450s', 'rf at 0.3455s', 'delay at 0.3475s', 'rf at 0.4275s', 'delay at 0.4295s', 'gz at 0.4300s', 'delay at 0.4305s', 'rf at 0.4310s', 'delay at 0.4330s', 'rf at 0.5130s', 'delay at 0.5150s', 'gz at 0.5155s', 'delay at 0.5160s', 'rf at 0.5165s', 'delay at 0.5185s', 'rf at 0.5985s', 'delay at 0.6005s', 'gz at 0.6010s', 'delay at 0.6015s', 'rf at 0.6020s', 'delay at 0.6040s', 'rf at 0.6840s', 'delay at 0.6860s', 'gz at 0.6865s', 'delay at 0.6870s', 'rf at 0.6875s', 'delay at 0.6895s', 'rf at 0.7695s', 'delay at 0.7715s', 'gz at 0.7720s', 'delay at 0.7725s', 'rf at 0.7730s', 'delay at 0.7750s', 'rf at 0.8550s', 'gz at 0.8570s', 'adc at 0.8575s']\n",
      "[]\n"
     ]
    },
    {
     "name": "stderr",
     "output_type": "stream",
     "text": [
      "BMCTool simulation: 100%|██████████| 63/63 [03:17<00:00,  3.13s/it]\n"
     ]
    },
    {
     "name": "stdout",
     "output_type": "stream",
     "text": [
      "['rf at 0.0000s', 'delay at 0.0020s', 'gz at 0.0025s', 'delay at 0.0030s', 'rf at 0.0035s', 'delay at 0.0055s', 'rf at 0.3055s', 'delay at 0.3075s', 'gz at 0.3080s', 'delay at 0.3085s', 'rf at 0.3090s', 'delay at 0.3110s', 'rf at 0.6110s', 'delay at 0.6130s', 'gz at 0.6135s', 'delay at 0.6140s', 'rf at 0.6145s', 'delay at 0.6165s', 'rf at 0.9165s', 'delay at 0.9185s', 'gz at 0.9190s', 'delay at 0.9195s', 'rf at 0.9200s', 'delay at 0.9220s', 'rf at 1.2220s', 'delay at 1.2240s', 'gz at 1.2245s', 'delay at 1.2250s', 'rf at 1.2255s', 'delay at 1.2275s', 'rf at 1.5275s', 'delay at 1.5295s', 'gz at 1.5300s', 'delay at 1.5305s', 'rf at 1.5310s', 'delay at 1.5330s', 'rf at 1.8330s', 'delay at 1.8350s', 'gz at 1.8355s', 'delay at 1.8360s', 'rf at 1.8365s', 'delay at 1.8385s', 'rf at 2.1385s', 'delay at 2.1405s', 'gz at 2.1410s', 'delay at 2.1415s', 'rf at 2.1420s', 'delay at 2.1440s', 'rf at 2.4440s', 'delay at 2.4460s', 'gz at 2.4465s', 'delay at 2.4470s', 'rf at 2.4475s', 'delay at 2.4495s', 'rf at 2.7495s', 'delay at 2.7515s', 'gz at 2.7520s', 'delay at 2.7525s', 'rf at 2.7530s', 'delay at 2.7550s', 'rf at 3.0550s', 'gz at 3.0570s', 'adc at 3.0575s']\n",
      "[]\n"
     ]
    }
   ],
   "source": [
    "t_ex, signal = run_variation(seq_path_on,\n",
    "                             seq_path_off,\n",
    "                             config_path,\n",
    "                             adc_time,\n",
    "                             z_pos,\n",
    "                             webhook,\n",
    "                             num_points = len(seq_path_on))"
   ]
  },
  {
   "cell_type": "code",
   "execution_count": 5,
   "id": "ecb9bc95",
   "metadata": {},
   "outputs": [
    {
     "data": {
      "image/png": "[encoded data removed]",
      "text/plain": [
       "<Figure size 640x480 with 1 Axes>"
      ]
     },
     "metadata": {},
     "output_type": "display_data"
    }
   ],
   "source": [
    "fig, ax = plt.subplots(dpi=100)\n",
    "\n",
    "# print(t_ex)\n",
    "\n",
    "signal_150Hz = np.array([0.00013354, 0.00044124, 0.00066779, 0.00078715, 0.00084597,\n",
    "                  0.00087244, 0.0008787,  0.00087796, 0.00087633, 0.00087088,\n",
    "                  0.00086204, 0.00083122, 0.00079111, 0.0007186,  0.00065583,\n",
    "                  0.00060029, 0.00048881, 0.00040469, 0.00034043])\n",
    "\n",
    "signal_250Hz = np.array([0.00017487, 0.00044258, 0.00056329, 0.00059603, 0.00060117,\n",
    "       0.00059853, 0.00059204, 0.00058523, 0.00057833, 0.00057129,\n",
    "       0.00056425, 0.00054425, 0.00051907, 0.0004732 , 0.00043265,\n",
    "       0.00039669, 0.00032401, 0.00026891, 0.00022631])\n",
    "\n",
    "signal_350Hz = np.array([0.000173  , 0.00034654, 0.00039254, 0.00039635, 0.00039344,\n",
    "       0.00038971, 0.00038494, 0.00038026, 0.00037563, 0.00037113,\n",
    "       0.00036674, 0.00035399, 0.0003379 , 0.00030856, 0.00028257,\n",
    "       0.00025948, 0.00021209, 0.00017603, 0.00014835])\n",
    "\n",
    "signal_50Hz = np.array([5.66542009e-05, 1.98969945e-04, 3.62091850e-04, 5.00945400e-04,\n",
    "       6.14694640e-04, 7.07435456e-04, 7.58401808e-04, 8.06872603e-04,\n",
    "       9.02773680e-04, 1.00214488e-03, 1.06985044e-03, 1.14501373e-03,\n",
    "       1.16525459e-03, 1.08563643e-03, 9.88359694e-04, 9.01324668e-04,\n",
    "       7.29315178e-04, 6.02169542e-04, 5.05260895e-04])\n",
    "\n",
    "signal_20Hz = np.array([2.75940477e-05, 7.72515028e-05, 1.43693457e-04, 2.06212526e-04,\n",
    "       2.62757835e-04, 3.13587768e-04, 3.12774208e-04, 3.43220123e-04,\n",
    "       4.26720933e-04, 5.17532855e-04, 5.80934248e-04, 7.10313971e-04,\n",
    "       8.64310649e-04, 1.00765066e-03, 1.01971302e-03, 9.73195778e-04,\n",
    "       8.09800468e-04, 6.70428667e-04, 5.62610974e-04])\n",
    "\n",
    "t_exc = np.array([0.002, 0.004, 0.008, 0.012, 0.016, 0.02, 0.025, 0.03, 0.035, 0.04, 0.045, 0.06, 0.08, 0.12, 0.16, 0.2, 0.3, 0.4, 0.5])\n",
    "\n",
    "plt.plot(t_exc * 1000, signal_150Hz, 'o--', c='blue', linewidth=1, markersize=5, label='150 Hz')\n",
    "plt.plot(t_exc * 1000, signal_250Hz, 'o--', c='red', linewidth=1, markersize=5, label='250 Hz')\n",
    "plt.plot(t_exc * 1000, signal_350Hz, 'o--', c='green', linewidth=1, markersize=5, label='250 Hz')\n",
    "plt.plot(t_exc * 1000, signal_50Hz, 'o--', c='fuchsia', linewidth=1, markersize=5, label='50 Hz')\n",
    "plt.plot(t_exc * 1000, signal_20Hz, 'o--', c='gold', linewidth=1, markersize=5, label='20 Hz')\n",
    "# plt.plot(t_exc * 1000, signal_350Hz, 'o--', c='green', linewidth=1, markersize=5, label='250 Hz')\n",
    "# plt.axhline(torch.max(signal).item(), color='blue', linewidth=.8)\n",
    "# plt.axvline(30, color='blue', linewidth=.8)\n",
    "# plt.text(30, plt.ylim()[0] - 0.0001, f\"{30} ms\",\n",
    "#          color='blue', ha='center', va='top', fontsize=8)\n",
    "ax.set_ylabel('signal intensity')\n",
    "ax.set_xlabel(r'$t_{ex}$ [ms]')\n",
    "ax.legend()\n",
    "# plt.xlim(0, 65)\n",
    "# plt.ylim(0.0, 0.0082)\n",
    "\n",
    "\n",
    "# plt.savefig(\"signal_plot_kex.png\", dpi=300, bbox_inches='tight')\n"
   ]
  },
  {
   "cell_type": "code",
   "execution_count": 3,
   "id": "7725677f",
   "metadata": {},
   "outputs": [
    {
     "data": {
      "text/plain": [
       "<matplotlib.legend.Legend at 0x169954810>"
      ]
     },
     "execution_count": 3,
     "metadata": {},
     "output_type": "execute_result"
    },
    {
     "data": {
      "image/png": "[encoded data removed]",
      "text/plain": [
       "<Figure size 640x480 with 1 Axes>"
      ]
     },
     "metadata": {},
     "output_type": "display_data"
    }
   ],
   "source": [
    "fig, ax = plt.subplots(dpi=100)\n",
    "\n",
    "signal_50Hz = np.array([5.66542009e-05, 1.98969945e-04, 3.62091850e-04, 5.00945400e-04,\n",
    "       6.14694640e-04, 7.07435456e-04, 7.58401808e-04, 8.06872603e-04,\n",
    "       9.02773680e-04, 1.00214488e-03, 1.06985044e-03, 1.14501373e-03,\n",
    "       1.16525459e-03, 1.08563643e-03, 9.88359694e-04, 9.01324668e-04,\n",
    "       7.29315178e-04, 6.02169542e-04, 5.05260895e-04])\n",
    "\n",
    "t_exc = np.array([0.002, 0.004, 0.008, 0.012, 0.016, 0.02, 0.025, 0.03, 0.035, 0.04, 0.045, 0.06, 0.08, 0.12, 0.16, 0.2, 0.3, 0.4, 0.5])\n",
    "\n",
    "plt.plot(t_exc * 1000, signal_50Hz, 'o--', c='fuchsia', linewidth=1, markersize=5, label='50 Hz')\n",
    "plt.axvline(75)\n",
    "\n",
    "ax.set_ylabel('signal intensity')\n",
    "ax.set_xlabel(r'$t_{ex}$ [ms]')\n",
    "ax.legend()"
   ]
  },
  {
   "cell_type": "code",
   "execution_count": null,
   "id": "09219039",
   "metadata": {},
   "outputs": [],
   "source": []
  }
 ],
 "metadata": {
  "kernelspec": {
   "display_name": "src",
   "language": "python",
   "name": "python3"
  },
  "language_info": {
   "codemirror_mode": {
    "name": "ipython",
    "version": 3
   },
   "file_extension": ".py",
   "mimetype": "text/x-python",
   "name": "python",
   "nbconvert_exporter": "python",
   "pygments_lexer": "ipython3",
   "version": "3.11.10"
  }
 },
 "nbformat": 4,
 "nbformat_minor": 5
}

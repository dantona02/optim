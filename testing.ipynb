{
 "cells": [
  {
   "cell_type": "markdown",
   "id": "ccfcca9b",
   "metadata": {},
   "source": [
    "### Simulation"
   ]
  },
  {
   "cell_type": "code",
   "execution_count": 1,
   "id": "bbcb1b2f",
   "metadata": {},
   "outputs": [],
   "source": [
    "from bmc.simulate import simulate\n",
    "import numpy as np\n",
    "import matplotlib.pyplot as plt\n",
    "import torch"
   ]
  },
  {
   "cell_type": "code",
   "execution_count": 2,
   "id": "6ed76624",
   "metadata": {},
   "outputs": [
    {
     "data": {
      "image/png": "[encoded data removed]",
      "text/plain": [
       "<Figure size 640x480 with 1 Axes>"
      ]
     },
     "metadata": {},
     "output_type": "display_data"
    },
    {
     "data": {
      "text/plain": [
       "5055"
      ]
     },
     "execution_count": 2,
     "metadata": {},
     "output_type": "execute_result"
    }
   ],
   "source": [
    "import torch\n",
    "import matplotlib.pyplot as plt\n",
    "\n",
    "low = -20e-6\n",
    "high = 20e-6\n",
    "n_iso = 10000\n",
    "mean = (low + high) / 2\n",
    "std_dev = (high - low) / 6\n",
    "\n",
    "z_pos = torch.normal(mean=mean, std=std_dev, size=(n_iso,), dtype=torch.float32)\n",
    "z_pos = torch.cat((z_pos, torch.tensor([0.0], dtype=torch.float32)))  # Füge 0 hinzu\n",
    "z_pos = torch.clamp(z_pos, min=low, max=high)  # Begrenze Werte auf [low, high]\n",
    "z_pos, _ = torch.sort(z_pos)  # Sortiere die Werte\n",
    "\n",
    "# Plotten\n",
    "plt.plot(z_pos.numpy(), 'o')\n",
    "plt.show()\n",
    "\n",
    "index_zero = torch.where(z_pos == 0)[0].item()\n",
    "index_zero\n"
   ]
  },
  {
   "cell_type": "code",
   "execution_count": 3,
   "id": "50b07372",
   "metadata": {},
   "outputs": [],
   "source": [
    "# seq_path_gauss = '/Users/danielmiksch/JupyterLab/optim/seq_init/simple_gauss.seq'\n",
    "# seq_path_gauss_win = 'C:/Users/s436276/simulation/JupyterLab/optim/seq_init/simple_gauss.seq'\n",
    "# config_path_win = 'C:/Users/s436276/simulation/JupyterLab/optim/seq_init/config_1pool.yaml'\n",
    "\n",
    "seq_path_gauss = '/Users/danielmiksch/JupyterLab/optim/seq_init/simple_gauss_gradient.seq'\n",
    "config_path = '/Users/danielmiksch/JupyterLab/optim/seq_init/config_1pool.yaml'\n",
    "\n",
    "adc_time = 3\n",
    "retun_zmag = False\n",
    "show_plot = False\n",
    "write_all_mag = True\n",
    "plt_range = [0, 4]\n",
    "# z_pos = np.linspace(-1e-6, 1e-6, 10001)\n",
    "iso_select = [-5,0,5]\n",
    "# z_pos = np.array([0])"
   ]
  },
  {
   "cell_type": "code",
   "execution_count": 4,
   "id": "3d714e84",
   "metadata": {},
   "outputs": [
    {
     "name": "stderr",
     "output_type": "stream",
     "text": [
      "BMCTool simulation:   0%|          | 0/5 [00:00<?, ?it/s]/Users/danielmiksch/JupyterLab/optim/bmc/bmc_tool.py:42: UserWarning: Casting complex values to real discards the imaginary part (Triggered internally at /Users/runner/work/_temp/anaconda/conda-bld/pytorch_1711403251597/work/aten/src/ATen/native/Copy.cpp:301.)\n",
      "  amp = torch.tensor(block.rf.signal, dtype=torch.float32, device=GLOBAL_DEVICE).abs()\n",
      "BMCTool simulation: 100%|██████████| 5/5 [04:59<00:00, 59.82s/it]"
     ]
    },
    {
     "name": "stdout",
     "output_type": "stream",
     "text": [
      "['rf at 0.0000s', 'gz at 0.0100s', 'rf at 0.0599s', 'gz at 0.0699s', 'adc at 0.1698s']\n"
     ]
    },
    {
     "name": "stderr",
     "output_type": "stream",
     "text": [
      "\n"
     ]
    }
   ],
   "source": [
    "sim = simulate(config_file=config_path, \n",
    "                   seq_file=seq_path_gauss, \n",
    "                   adc_time=adc_time,\n",
    "                   z_positions=z_pos,\n",
    "                   return_zmag=retun_zmag,\n",
    "                   iso_select=iso_select,\n",
    "                   show_plot=show_plot,\n",
    "                   write_all_mag=write_all_mag, \n",
    "                   plt_range=plt_range)  # simulation mac"
   ]
  },
  {
   "cell_type": "code",
   "execution_count": null,
   "id": "a42eab83",
   "metadata": {},
   "outputs": [],
   "source": [
    "# from bmc.utils.eval import plot_sim\n",
    "# time, m_z, m_z_total, m_c, m_c_total = sim.get_mag()\n",
    "\n",
    "# iso_select = [-300,0]\n",
    "# plt_range = [0, .25]\n",
    "\n",
    "# # _ = plot_sim(m_out=[m_z, m_z_total], time=time, plt_range=plt_range, iso_select=iso_select)\n",
    "# _ = plot_sim(m_out=[m_c, m_c_total], time=time, plt_range=plt_range, iso_select=iso_select)\n",
    "\n"
   ]
  },
  {
   "cell_type": "markdown",
   "id": "8615e280",
   "metadata": {},
   "source": [
    "### Animation"
   ]
  },
  {
   "cell_type": "code",
   "execution_count": 6,
   "id": "fc751de2",
   "metadata": {},
   "outputs": [],
   "source": [
    "run_time = .1\n",
    "track_path = True\n",
    "ie = False\n",
    "timing = False\n",
    "total_mag = True\n",
    "kwargs = {'quality': '-qh', 'write': '--write_to_movie'}  #--write_to_movie"
   ]
  },
  {
   "cell_type": "code",
   "execution_count": null,
   "id": "fd5042c4",
   "metadata": {},
   "outputs": [],
   "source": [
    "# sim.animate(run_time=run_time, \n",
    "#             track_path=track_path, \n",
    "#             ie=ie, \n",
    "#             timing=timing,\n",
    "#             total_mag=total_mag, \n",
    "#             **kwargs)"
   ]
  }
 ],
 "metadata": {
  "kernelspec": {
   "display_name": "src",
   "language": "python",
   "name": "python3"
  },
  "language_info": {
   "codemirror_mode": {
    "name": "ipython",
    "version": 3
   },
   "file_extension": ".py",
   "mimetype": "text/x-python",
   "name": "python",
   "nbconvert_exporter": "python",
   "pygments_lexer": "ipython3",
   "version": "3.11.10"
  }
 },
 "nbformat": 4,
 "nbformat_minor": 5
}

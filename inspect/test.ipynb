{
 "cells": [
  {
   "cell_type": "code",
   "execution_count": 1,
   "id": "initial_id",
   "metadata": {
    "ExecuteTime": {
     "end_time": "2023-11-27T14:03:27.105251Z",
     "start_time": "2023-11-27T14:03:27.103818Z"
    },
    "collapsed": true
   },
   "outputs": [],
   "source": [
    "import pypulseq as pp\n",
    "from tqdm import tqdm\n",
    "import numpy as np\n",
    "\n",
    "import matplotlib.pyplot as plt"
   ]
  },
  {
   "cell_type": "code",
   "execution_count": 2,
   "id": "148a8b90",
   "metadata": {},
   "outputs": [
    {
     "name": "stdout",
     "output_type": "stream",
     "text": [
      "Typ von block_events: <class 'dict'>\n",
      "Anzahl der Blöcke: 2\n",
      "Block 1: [0 1 0 0 0 0 0]\n",
      "Block 2: [0 0 0 0 0 1 0]\n"
     ]
    },
    {
     "data": {
      "text/plain": [
       "{'AdcRasterTime': 1e-07,\n",
       " 'B0': 17.0,\n",
       " 'BlockDurationRaster': 1e-05,\n",
       " 'FREQ': 723.7988,\n",
       " 'GradientRasterTime': 1e-05,\n",
       " 'M0_offset': 0.0,\n",
       " 'RadiofrequencyRasterTime': 1e-06,\n",
       " 'TotalDuration': 0.011,\n",
       " 'a': 90.0,\n",
       " 'num_meas': 1.0,\n",
       " 'offsets_ppm': 0.0,\n",
       " 'seq_id_string': 'simple_gauss'}"
      ]
     },
     "execution_count": 2,
     "metadata": {},
     "output_type": "execute_result"
    }
   ],
   "source": [
    "seq = pp.Sequence()\n",
    "seq.read('/Users/danielmiksch/JupyterLab/optim/seq_init/simple_gauss.seq')\n",
    "\n",
    "block_events = seq.block_events\n",
    "\n",
    "print(f\"Typ von block_events: {type(block_events)}\")\n",
    "print(f\"Anzahl der Blöcke: {len(block_events)}\")\n",
    "\n",
    "# Beispielhafte Ausgabe der ersten paar Blöcke\n",
    "i = 0\n",
    "for key, value in block_events.items():\n",
    "    i += 1\n",
    "    if i < 4:\n",
    "        print(f\"Block {key}: {value}\")\n",
    "    else: break\n",
    "\n",
    "defs = seq.definitions\n",
    "defs"
   ]
  },
  {
   "cell_type": "code",
   "execution_count": 3,
   "id": "8aa38796",
   "metadata": {},
   "outputs": [
    {
     "data": {
      "text/plain": [
       "{1: array([0, 1, 0, 0, 0, 0, 0]), 2: array([0, 0, 0, 0, 0, 1, 0])}"
      ]
     },
     "execution_count": 3,
     "metadata": {},
     "output_type": "execute_result"
    }
   ],
   "source": [
    "# loop_block_events = tqdm(range(1, len(block_events) + 1))\n",
    "# for block_event in range(1, 2):\n",
    "#     block = seq.get_block(block_event)\n",
    "    \n",
    "\n",
    "# print(f\"Typ von block: {type(block)}\")\n",
    "# vars(block)\n",
    "# torch.from_numpy(np.angle(block.rf.signal))\n",
    "# block.rf.freq_offset\n",
    "events = seq.block_events\n",
    "events"
   ]
  },
  {
   "cell_type": "code",
   "execution_count": 4,
   "id": "06a6ddd4",
   "metadata": {},
   "outputs": [
    {
     "data": {
      "text/plain": [
       "1.5707963267948966"
      ]
     },
     "execution_count": 4,
     "metadata": {},
     "output_type": "execute_result"
    }
   ],
   "source": [
    "np.angle(0+1j)"
   ]
  },
  {
   "cell_type": "code",
   "execution_count": 5,
   "id": "44c19807",
   "metadata": {},
   "outputs": [],
   "source": [
    "import copy\n",
    "from pathlib import Path\n",
    "from typing import Tuple, Union\n",
    "\n",
    "import numpy as np\n",
    "import yaml\n",
    "\n",
    "from bmc.params import Params"
   ]
  },
  {
   "cell_type": "code",
   "execution_count": 6,
   "id": "44256df5",
   "metadata": {},
   "outputs": [],
   "source": [
    "def load_config(*args: Union[str, Path]) -> dict:\n",
    "    \"\"\"\n",
    "    load_config Load the config file(s) for given path(s) and return the data as a dictionary.\n",
    "\n",
    "    Returns\n",
    "    -------\n",
    "    dict\n",
    "        Dictionary containing the data from the config file(s).\n",
    "    \"\"\"\n",
    "    config = {}\n",
    "    for filepath in args:\n",
    "        with open(filepath, \"r\") as file:\n",
    "            config.update(yaml.load(file, Loader=yaml.Loader))\n",
    "    return config"
   ]
  },
  {
   "cell_type": "code",
   "execution_count": 7,
   "id": "5c55f37a",
   "metadata": {},
   "outputs": [
    {
     "data": {
      "text/plain": [
       "{'water_pool': {'f': 1, 'r1': '1 / 1.3', 'r2': '1 / 75e-3'},\n",
       " 'b0': 3,\n",
       " 'gamma': 267.5153,\n",
       " 'b0_inhom': 0.0,\n",
       " 'rel_b1': 1,\n",
       " 'verbose': False,\n",
       " 'reset_init_mag': True,\n",
       " 'scale': 0.5,\n",
       " 'max_pulse_samples': 300}"
      ]
     },
     "execution_count": 7,
     "metadata": {},
     "output_type": "execute_result"
    }
   ],
   "source": [
    "load_config('/Users/danielmiksch/miniconda3/envs/simu/lib/python3.11/site-packages/bmctool/library/sim-library/config_wasabi.yaml')"
   ]
  },
  {
   "cell_type": "code",
   "execution_count": 8,
   "id": "cf1d93c8",
   "metadata": {},
   "outputs": [],
   "source": [
    "A = 1.0        # Amplitude\n",
    "T = 0.1        # Gesamtdauer des Pulses (in Sekunden)\n",
    "fs = 100      # Abtastfrequenz (in Hz)\n",
    "sigma = 0.001    # Standardabweichung\n",
    "t0 = T / 2\n",
    "\n",
    "t = np.linspace(0, T, int(fs*T))\n",
    "\n",
    "# Gauß-Puls berechnen\n",
    "gauss_pulse = A * np.exp(-((t - t0) ** 2) / (2 * sigma ** 2))\n",
    "\n",
    "# Gauß-Puls plotten\n",
    "# plt.plot(t, gauss_pulse)\n",
    "# plt.title('Gauß-Puls')\n",
    "# plt.xlabel('Zeit (s)')\n",
    "# plt.ylabel('Amplitude')\n",
    "# plt.show()"
   ]
  },
  {
   "cell_type": "code",
   "execution_count": 9,
   "id": "5ffff41d",
   "metadata": {},
   "outputs": [
    {
     "name": "stdout",
     "output_type": "stream",
     "text": [
      "1\n"
     ]
    }
   ],
   "source": [
    "for i in range(1, 2):\n",
    "    print(i)"
   ]
  },
  {
   "cell_type": "markdown",
   "id": "f9bf1e06",
   "metadata": {},
   "source": [
    "## Pulse Gradient sequence"
   ]
  },
  {
   "cell_type": "code",
   "execution_count": 10,
   "id": "37cdd456",
   "metadata": {},
   "outputs": [
    {
     "name": "stdout",
     "output_type": "stream",
     "text": [
      "Typ von block_events: <class 'dict'>\n",
      "Anzahl der Blöcke: 4\n",
      "Block 1: [0 1 0 0 0 0 0]\n",
      "Block 2: [0 0 0 0 1 0 0]\n",
      "Block 3: [0 1 0 0 0 0 0]\n"
     ]
    }
   ],
   "source": [
    "seq = pp.Sequence()\n",
    "seq.read('/Users/danielmiksch/JupyterLab/optim/seq_init/simple_gauss_gradient.seq')\n",
    "\n",
    "block_events = seq.block_events\n",
    "\n",
    "print(f\"Typ von block_events: {type(block_events)}\")\n",
    "print(f\"Anzahl der Blöcke: {len(block_events)}\")\n",
    "\n",
    "# Beispielhafte Ausgabe der ersten paar Blöcke\n",
    "i = 0\n",
    "for key, value in block_events.items():\n",
    "    i += 1\n",
    "    if i < 4:\n",
    "        print(f\"Block {key}: {value}\")\n",
    "    else: break"
   ]
  },
  {
   "cell_type": "code",
   "execution_count": 11,
   "id": "61858a08",
   "metadata": {},
   "outputs": [
    {
     "name": "stderr",
     "output_type": "stream",
     "text": [
      "  0%|          | 0/4 [00:00<?, ?it/s]"
     ]
    },
    {
     "name": "stdout",
     "output_type": "stream",
     "text": [
      "Typ von block: <class 'types.SimpleNamespace'>\n"
     ]
    },
    {
     "data": {
      "text/plain": [
       "0.5000000000000001"
      ]
     },
     "execution_count": 11,
     "metadata": {},
     "output_type": "execute_result"
    }
   ],
   "source": [
    "loop_block_events = tqdm(range(1, len(block_events) + 1))\n",
    "for block_event in range(1, 3):\n",
    "    block = seq.get_block(block_event)\n",
    "    \n",
    "\n",
    "print(f\"Typ von block: {type(block)}\")\n",
    "(block.gz.tt[1] - block.gz.tt[0]) * len(block.gz.tt)"
   ]
  },
  {
   "cell_type": "code",
   "execution_count": 12,
   "id": "0c4fad32",
   "metadata": {},
   "outputs": [
    {
     "name": "stderr",
     "output_type": "stream",
     "text": [
      "  0%|          | 0/4 [00:00<?, ?it/s]"
     ]
    },
    {
     "name": "stdout",
     "output_type": "stream",
     "text": [
      "Typ von block: <class 'types.SimpleNamespace'>\n"
     ]
    },
    {
     "name": "stderr",
     "output_type": "stream",
     "text": [
      "\n"
     ]
    },
    {
     "data": {
      "text/plain": [
       "0.0"
      ]
     },
     "execution_count": 12,
     "metadata": {},
     "output_type": "execute_result"
    }
   ],
   "source": [
    "loop_block_events = tqdm(range(1, len(block_events) + 1))\n",
    "for block_event in range(1, 2):\n",
    "    block = seq.get_block(block_event)\n",
    "    \n",
    "\n",
    "print(f\"Typ von block: {type(block)}\")\n",
    "(block.rf.t[1]-block.rf.t[0]) * len(block.rf.t)\n",
    "block.rf.phase_offset"
   ]
  },
  {
   "cell_type": "code",
   "execution_count": 13,
   "id": "4048965d",
   "metadata": {},
   "outputs": [
    {
     "data": {
      "text/plain": [
       "0.010200000000000002"
      ]
     },
     "execution_count": 13,
     "metadata": {},
     "output_type": "execute_result"
    }
   ],
   "source": [
    "300 * 3.4000000000000007e-05"
   ]
  },
  {
   "cell_type": "code",
   "execution_count": 16,
   "id": "f1be634c",
   "metadata": {},
   "outputs": [
    {
     "data": {
      "text/plain": [
       "(1, 1, 6, 6)"
      ]
     },
     "execution_count": 16,
     "metadata": {},
     "output_type": "execute_result"
    }
   ],
   "source": [
    "mag = np.zeros([6, 6])\n",
    "mag = mag[np.newaxis, np.newaxis,]\n",
    "mag.shape"
   ]
  },
  {
   "cell_type": "code",
   "execution_count": 82,
   "id": "4d8c6edd",
   "metadata": {},
   "outputs": [],
   "source": [
    "mag = np.zeros([2, 2 ,6, 6])"
   ]
  },
  {
   "cell_type": "code",
   "execution_count": 83,
   "id": "9f50bf82",
   "metadata": {},
   "outputs": [
    {
     "data": {
      "text/plain": [
       "array([[[[0., 0., 0., 0., 0., 0.],\n",
       "         [0., 0., 0., 0., 0., 0.],\n",
       "         [0., 0., 0., 0., 0., 0.],\n",
       "         [0., 0., 0., 0., 0., 0.],\n",
       "         [0., 0., 0., 0., 0., 0.],\n",
       "         [0., 0., 0., 0., 0., 0.]],\n",
       "\n",
       "        [[0., 0., 0., 0., 0., 0.],\n",
       "         [0., 0., 0., 0., 0., 0.],\n",
       "         [0., 0., 0., 0., 0., 0.],\n",
       "         [0., 0., 0., 0., 0., 0.],\n",
       "         [0., 0., 0., 0., 0., 0.],\n",
       "         [0., 0., 0., 0., 0., 0.]]],\n",
       "\n",
       "\n",
       "       [[[0., 0., 0., 0., 0., 0.],\n",
       "         [0., 0., 0., 0., 0., 0.],\n",
       "         [0., 0., 0., 0., 0., 0.],\n",
       "         [0., 0., 0., 0., 0., 0.],\n",
       "         [0., 0., 0., 0., 0., 0.],\n",
       "         [0., 0., 0., 0., 0., 0.]],\n",
       "\n",
       "        [[0., 0., 0., 0., 0., 0.],\n",
       "         [0., 0., 0., 0., 0., 0.],\n",
       "         [0., 0., 0., 0., 0., 0.],\n",
       "         [0., 0., 0., 0., 0., 0.],\n",
       "         [0., 0., 0., 0., 0., 0.],\n",
       "         [0., 0., 0., 0., 0., 0.]]]])"
      ]
     },
     "execution_count": 83,
     "metadata": {},
     "output_type": "execute_result"
    }
   ],
   "source": [
    "mag"
   ]
  },
  {
   "cell_type": "code",
   "execution_count": 88,
   "id": "9b9ab8b3",
   "metadata": {},
   "outputs": [
    {
     "data": {
      "text/plain": [
       "(2, 1)"
      ]
     },
     "execution_count": 88,
     "metadata": {},
     "output_type": "execute_result"
    }
   ],
   "source": [
    "pos = np.array([-1, 2])\n",
    "pos = pos.reshape(2, 1)\n",
    "pos.shape"
   ]
  },
  {
   "cell_type": "code",
   "execution_count": 89,
   "id": "e3e2acce",
   "metadata": {},
   "outputs": [],
   "source": [
    "mag[:, :, 0, 2] +=pos\n",
    "mag[:, :, 2, 0] -= pos"
   ]
  },
  {
   "cell_type": "code",
   "execution_count": 90,
   "id": "8d7eb716",
   "metadata": {},
   "outputs": [
    {
     "data": {
      "text/plain": [
       "array([[[[ 0.,  0., -1.,  0.,  0.,  0.],\n",
       "         [ 0.,  0.,  0.,  0.,  0.,  0.],\n",
       "         [ 1.,  0.,  0.,  0.,  0.,  0.],\n",
       "         [ 0.,  0.,  0.,  0.,  0.,  0.],\n",
       "         [ 0.,  0.,  0.,  0.,  0.,  0.],\n",
       "         [ 0.,  0.,  0.,  0.,  0.,  0.]],\n",
       "\n",
       "        [[ 0.,  0., -1.,  0.,  0.,  0.],\n",
       "         [ 0.,  0.,  0.,  0.,  0.,  0.],\n",
       "         [ 1.,  0.,  0.,  0.,  0.,  0.],\n",
       "         [ 0.,  0.,  0.,  0.,  0.,  0.],\n",
       "         [ 0.,  0.,  0.,  0.,  0.,  0.],\n",
       "         [ 0.,  0.,  0.,  0.,  0.,  0.]]],\n",
       "\n",
       "\n",
       "       [[[ 0.,  0.,  2.,  0.,  0.,  0.],\n",
       "         [ 0.,  0.,  0.,  0.,  0.,  0.],\n",
       "         [-2.,  0.,  0.,  0.,  0.,  0.],\n",
       "         [ 0.,  0.,  0.,  0.,  0.,  0.],\n",
       "         [ 0.,  0.,  0.,  0.,  0.,  0.],\n",
       "         [ 0.,  0.,  0.,  0.,  0.,  0.]],\n",
       "\n",
       "        [[ 0.,  0.,  2.,  0.,  0.,  0.],\n",
       "         [ 0.,  0.,  0.,  0.,  0.,  0.],\n",
       "         [-2.,  0.,  0.,  0.,  0.,  0.],\n",
       "         [ 0.,  0.,  0.,  0.,  0.,  0.],\n",
       "         [ 0.,  0.,  0.,  0.,  0.,  0.],\n",
       "         [ 0.,  0.,  0.,  0.,  0.,  0.]]]])"
      ]
     },
     "execution_count": 90,
     "metadata": {},
     "output_type": "execute_result"
    }
   ],
   "source": [
    "mag"
   ]
  },
  {
   "cell_type": "code",
   "execution_count": 127,
   "id": "70271c10",
   "metadata": {},
   "outputs": [
    {
     "data": {
      "text/plain": [
       "array([[[ 0.,  1.,  2.,  3.,  4.],\n",
       "        [ 5.,  6.,  7.,  8.,  9.],\n",
       "        [10., 11., 12., 13., 14.]],\n",
       "\n",
       "       [[15., 16., 17., 18., 19.],\n",
       "        [20., 21., 22., 23., 24.],\n",
       "        [25., 26., 27., 28., 29.]]])"
      ]
     },
     "execution_count": 127,
     "metadata": {},
     "output_type": "execute_result"
    }
   ],
   "source": [
    "vec = np.arange(0, 30, 1, dtype=np.float64)\n",
    "vec = vec.reshape(2, 3, 5)\n",
    "vec"
   ]
  },
  {
   "cell_type": "code",
   "execution_count": 131,
   "id": "ea3d3459",
   "metadata": {},
   "outputs": [],
   "source": [
    "vec_x = vec[:, 0, :]\n",
    "vec_y = vec[:, 1, :]\n",
    "vec_z = vec[:, 2, :]"
   ]
  },
  {
   "cell_type": "code",
   "execution_count": 133,
   "id": "8798c56e",
   "metadata": {},
   "outputs": [
    {
     "name": "stdout",
     "output_type": "stream",
     "text": [
      "[0.65217391 0.73913043 0.82608696 0.91304348 1.        ]\n",
      "[0.75757576 0.81818182 0.87878788 0.93939394 1.        ]\n",
      "[0.81395349 0.86046512 0.90697674 0.95348837 1.        ]\n"
     ]
    }
   ],
   "source": [
    "vec_x_total = np.sum(vec_x, axis=0)\n",
    "vec_x_total /= np.max(np.abs(vec_x_total)) if np.max(np.abs(vec_x_total)) != 0 else 1\n",
    "vec_y_total = np.sum(vec_y, axis=0)\n",
    "vec_y_total /= np.max(np.abs(vec_y_total)) if np.max(np.abs(vec_y_total)) != 0 else 1\n",
    "vec_z_total = np.sum(vec_z, axis=0)\n",
    "vec_z_total /= np.max(np.abs(vec_z_total)) if np.max(np.abs(vec_z_total)) != 0 else 1\n",
    "\n",
    "print(vec_x_total)\n",
    "print(vec_y_total)\n",
    "print(vec_z_total)"
   ]
  },
  {
   "cell_type": "code",
   "execution_count": 134,
   "id": "8d5c1c18",
   "metadata": {},
   "outputs": [],
   "source": [
    "vec_trans = vec_x + 1j * vec_y"
   ]
  },
  {
   "cell_type": "code",
   "execution_count": 135,
   "id": "4de26364",
   "metadata": {},
   "outputs": [
    {
     "data": {
      "text/plain": [
       "array([[ 5.        ,  6.08276253,  7.28010989,  8.54400375,  9.8488578 ],\n",
       "       [25.        , 26.40075756, 27.80287755, 29.20616373, 30.61045573]])"
      ]
     },
     "execution_count": 135,
     "metadata": {},
     "output_type": "execute_result"
    }
   ],
   "source": [
    "np.abs(vec_trans)"
   ]
  },
  {
   "cell_type": "code",
   "execution_count": 136,
   "id": "ab34557c",
   "metadata": {},
   "outputs": [
    {
     "name": "stdout",
     "output_type": "stream",
     "text": [
      "5\n",
      "6\n"
     ]
    }
   ],
   "source": [
    "for i in [5,6]:\n",
    "    print(i)"
   ]
  },
  {
   "cell_type": "code",
   "execution_count": 139,
   "id": "5907c43a",
   "metadata": {},
   "outputs": [],
   "source": [
    "test = np.arange(0, 11, 1)"
   ]
  },
  {
   "cell_type": "code",
   "execution_count": 144,
   "id": "a9b5556e",
   "metadata": {},
   "outputs": [],
   "source": [
    "test = np.append(test, 0)"
   ]
  },
  {
   "cell_type": "code",
   "execution_count": 153,
   "id": "9cc6fad5",
   "metadata": {},
   "outputs": [],
   "source": [
    "import torch"
   ]
  },
  {
   "cell_type": "code",
   "execution_count": 161,
   "id": "1477c476",
   "metadata": {},
   "outputs": [
    {
     "data": {
      "text/plain": [
       "torch.Size([3])"
      ]
     },
     "execution_count": 161,
     "metadata": {},
     "output_type": "execute_result"
    }
   ],
   "source": [
    "a = torch.tensor([1, 2, 3], dtype=torch.float64)\n",
    "b = torch.tensor([4, 5, 6], dtype=torch.float64)\n",
    "a.size()"
   ]
  },
  {
   "cell_type": "code",
   "execution_count": 4,
   "id": "80510264",
   "metadata": {},
   "outputs": [
    {
     "data": {
      "image/png": "[encoded data removed]",
      "text/plain": [
       "<Figure size 640x480 with 1 Axes>"
      ]
     },
     "metadata": {},
     "output_type": "display_data"
    }
   ],
   "source": [
    "import torch\n",
    "import matplotlib.pyplot as plt\n",
    "\n",
    "# Tensor auf der GPU\n",
    "tensor_gpu = torch.tensor([1.0, 2.0, 3.0, 4.0], device='cuda')\n",
    "\n",
    "# Tensor auf die CPU verschieben und in NumPy-Array umwandeln\n",
    "tensor_cpu = tensor_gpu.cpu()\n",
    "\n",
    "# Plotten mit Matplotlib\n",
    "plt.plot(tensor_cpu, label='Example Plot')\n",
    "plt.legend()\n",
    "plt.show()"
   ]
  },
  {
   "cell_type": "code",
   "execution_count": 188,
   "id": "6e484d3c",
   "metadata": {},
   "outputs": [
    {
     "data": {
      "text/plain": [
       "3"
      ]
     },
     "execution_count": 188,
     "metadata": {},
     "output_type": "execute_result"
    }
   ],
   "source": [
    "import torch\n",
    "len(torch.tensor([1, 2, 3], dtype=torch.float64))"
   ]
  }
 ],
 "metadata": {
  "kernelspec": {
   "display_name": "vmtorch",
   "language": "python",
   "name": "python3"
  },
  "language_info": {
   "codemirror_mode": {
    "name": "ipython",
    "version": 3
   },
   "file_extension": ".py",
   "mimetype": "text/x-python",
   "name": "python",
   "nbconvert_exporter": "python",
   "pygments_lexer": "ipython3",
   "version": "3.11.11"
  }
 },
 "nbformat": 4,
 "nbformat_minor": 5
}

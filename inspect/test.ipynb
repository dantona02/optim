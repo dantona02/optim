{
 "cells": [
  {
   "cell_type": "code",
   "execution_count": 116,
   "id": "initial_id",
   "metadata": {
    "ExecuteTime": {
     "end_time": "2023-11-27T14:03:27.105251Z",
     "start_time": "2023-11-27T14:03:27.103818Z"
    },
    "collapsed": true
   },
   "outputs": [],
   "source": [
    "import pypulseq as pp\n",
    "from tqdm import tqdm\n",
    "import numpy as np\n",
    "\n",
    "import matplotlib.pyplot as plt"
   ]
  },
  {
   "cell_type": "code",
   "execution_count": 117,
   "id": "148a8b90",
   "metadata": {},
   "outputs": [
    {
     "name": "stdout",
     "output_type": "stream",
     "text": [
      "Typ von block_events: <class 'dict'>\n",
      "Anzahl der Blöcke: 2\n",
      "Block 1: [0 1 0 0 0 0 0]\n",
      "Block 2: [0 0 0 0 0 1 0]\n"
     ]
    },
    {
     "data": {
      "text/plain": [
       "{'AdcRasterTime': 1e-07,\n",
       " 'B0': 17.0,\n",
       " 'BlockDurationRaster': 1e-05,\n",
       " 'FREQ': 723.7988,\n",
       " 'GradientRasterTime': 1e-05,\n",
       " 'M0_offset': 0.0,\n",
       " 'RadiofrequencyRasterTime': 1e-06,\n",
       " 'TotalDuration': 0.011,\n",
       " 'a': 90.0,\n",
       " 'num_meas': 1.0,\n",
       " 'offsets_ppm': 0.0,\n",
       " 'seq_id_string': 'simple_gauss'}"
      ]
     },
     "execution_count": 117,
     "metadata": {},
     "output_type": "execute_result"
    }
   ],
   "source": [
    "seq = pp.Sequence()\n",
    "seq.read('/Users/danielmiksch/JupyterLab/optim/seq_init/simple_gauss.seq')\n",
    "\n",
    "block_events = seq.block_events\n",
    "\n",
    "print(f\"Typ von block_events: {type(block_events)}\")\n",
    "print(f\"Anzahl der Blöcke: {len(block_events)}\")\n",
    "\n",
    "# Beispielhafte Ausgabe der ersten paar Blöcke\n",
    "i = 0\n",
    "for key, value in block_events.items():\n",
    "    i += 1\n",
    "    if i < 4:\n",
    "        print(f\"Block {key}: {value}\")\n",
    "    else: break\n",
    "\n",
    "defs = seq.definitions\n",
    "defs"
   ]
  },
  {
   "cell_type": "code",
   "execution_count": 118,
   "id": "8aa38796",
   "metadata": {},
   "outputs": [
    {
     "data": {
      "text/plain": [
       "{1: array([0, 1, 0, 0, 0, 0, 0]), 2: array([0, 0, 0, 0, 0, 1, 0])}"
      ]
     },
     "execution_count": 118,
     "metadata": {},
     "output_type": "execute_result"
    }
   ],
   "source": [
    "# loop_block_events = tqdm(range(1, len(block_events) + 1))\n",
    "# for block_event in range(1, 2):\n",
    "#     block = seq.get_block(block_event)\n",
    "    \n",
    "\n",
    "# print(f\"Typ von block: {type(block)}\")\n",
    "# vars(block)\n",
    "# torch.from_numpy(np.angle(block.rf.signal))\n",
    "# block.rf.freq_offset\n",
    "events = seq.block_events\n",
    "events"
   ]
  },
  {
   "cell_type": "code",
   "execution_count": 119,
   "id": "06a6ddd4",
   "metadata": {},
   "outputs": [
    {
     "data": {
      "text/plain": [
       "1.5707963267948966"
      ]
     },
     "execution_count": 119,
     "metadata": {},
     "output_type": "execute_result"
    }
   ],
   "source": [
    "np.angle(0+1j)"
   ]
  },
  {
   "cell_type": "code",
   "execution_count": 120,
   "id": "44c19807",
   "metadata": {},
   "outputs": [],
   "source": [
    "import copy\n",
    "from pathlib import Path\n",
    "from typing import Tuple, Union\n",
    "\n",
    "import numpy as np\n",
    "import yaml\n",
    "\n",
    "from bmc.params import Params"
   ]
  },
  {
   "cell_type": "code",
   "execution_count": 121,
   "id": "44256df5",
   "metadata": {},
   "outputs": [],
   "source": [
    "def load_config(*args: Union[str, Path]) -> dict:\n",
    "    \"\"\"\n",
    "    load_config Load the config file(s) for given path(s) and return the data as a dictionary.\n",
    "\n",
    "    Returns\n",
    "    -------\n",
    "    dict\n",
    "        Dictionary containing the data from the config file(s).\n",
    "    \"\"\"\n",
    "    config = {}\n",
    "    for filepath in args:\n",
    "        with open(filepath, \"r\") as file:\n",
    "            config.update(yaml.load(file, Loader=yaml.Loader))\n",
    "    return config"
   ]
  },
  {
   "cell_type": "code",
   "execution_count": 122,
   "id": "5c55f37a",
   "metadata": {},
   "outputs": [
    {
     "data": {
      "text/plain": [
       "{'water_pool': {'f': 1, 'r1': '1 / 1.3', 'r2': '1 / 75e-3'},\n",
       " 'b0': 3,\n",
       " 'gamma': 267.5153,\n",
       " 'b0_inhom': 0.0,\n",
       " 'rel_b1': 1,\n",
       " 'verbose': False,\n",
       " 'reset_init_mag': True,\n",
       " 'scale': 0.5,\n",
       " 'max_pulse_samples': 300}"
      ]
     },
     "execution_count": 122,
     "metadata": {},
     "output_type": "execute_result"
    }
   ],
   "source": [
    "load_config('/Users/danielmiksch/miniconda3/envs/simu/lib/python3.11/site-packages/bmctool/library/sim-library/config_wasabi.yaml')"
   ]
  },
  {
   "cell_type": "code",
   "execution_count": 123,
   "id": "cf1d93c8",
   "metadata": {},
   "outputs": [],
   "source": [
    "A = 1.0        # Amplitude\n",
    "T = 0.1        # Gesamtdauer des Pulses (in Sekunden)\n",
    "fs = 100      # Abtastfrequenz (in Hz)\n",
    "sigma = 0.001    # Standardabweichung\n",
    "t0 = T / 2\n",
    "\n",
    "t = np.linspace(0, T, int(fs*T))\n",
    "\n",
    "# Gauß-Puls berechnen\n",
    "gauss_pulse = A * np.exp(-((t - t0) ** 2) / (2 * sigma ** 2))\n",
    "\n",
    "# Gauß-Puls plotten\n",
    "# plt.plot(t, gauss_pulse)\n",
    "# plt.title('Gauß-Puls')\n",
    "# plt.xlabel('Zeit (s)')\n",
    "# plt.ylabel('Amplitude')\n",
    "# plt.show()"
   ]
  },
  {
   "cell_type": "code",
   "execution_count": 124,
   "id": "5ffff41d",
   "metadata": {},
   "outputs": [
    {
     "name": "stdout",
     "output_type": "stream",
     "text": [
      "1\n"
     ]
    }
   ],
   "source": [
    "for i in range(1, 2):\n",
    "    print(i)"
   ]
  },
  {
   "cell_type": "markdown",
   "id": "f9bf1e06",
   "metadata": {},
   "source": [
    "## Pulse Gradient sequence"
   ]
  },
  {
   "cell_type": "code",
   "execution_count": 125,
   "id": "37cdd456",
   "metadata": {},
   "outputs": [
    {
     "name": "stdout",
     "output_type": "stream",
     "text": [
      "Typ von block_events: <class 'dict'>\n",
      "Anzahl der Blöcke: 5\n",
      "Block 1: [0 1 0 0 0 0 0]\n",
      "Block 2: [0 0 0 0 1 0 0]\n",
      "Block 3: [0 2 0 0 0 0 0]\n"
     ]
    }
   ],
   "source": [
    "seq = pp.Sequence()\n",
    "seq.read('/Users/danielmiksch/JupyterLab/optim/seq_init/simple_gauss_gradient.seq')\n",
    "\n",
    "block_events = seq.block_events\n",
    "\n",
    "print(f\"Typ von block_events: {type(block_events)}\")\n",
    "print(f\"Anzahl der Blöcke: {len(block_events)}\")\n",
    "\n",
    "# Beispielhafte Ausgabe der ersten paar Blöcke\n",
    "i = 0\n",
    "for key, value in block_events.items():\n",
    "    i += 1\n",
    "    if i < 4:\n",
    "        print(f\"Block {key}: {value}\")\n",
    "    else: break"
   ]
  },
  {
   "cell_type": "code",
   "execution_count": 126,
   "id": "61858a08",
   "metadata": {},
   "outputs": [
    {
     "name": "stderr",
     "output_type": "stream",
     "text": [
      "  0%|          | 0/5 [06:52<?, ?it/s]"
     ]
    },
    {
     "name": "stdout",
     "output_type": "stream",
     "text": [
      "Typ von block: <class 'types.SimpleNamespace'>\n"
     ]
    },
    {
     "name": "stderr",
     "output_type": "stream",
     "text": [
      "\n"
     ]
    },
    {
     "data": {
      "text/plain": [
       "0.05000000000000001"
      ]
     },
     "execution_count": 126,
     "metadata": {},
     "output_type": "execute_result"
    }
   ],
   "source": [
    "loop_block_events = tqdm(range(1, len(block_events) + 1))\n",
    "for block_event in range(1, 3):\n",
    "    block = seq.get_block(block_event)\n",
    "    \n",
    "\n",
    "print(f\"Typ von block: {type(block)}\")\n",
    "(block.gz.tt[1] - block.gz.tt[0]) * len(block.gz.tt)"
   ]
  },
  {
   "cell_type": "code",
   "execution_count": 127,
   "id": "0c4fad32",
   "metadata": {},
   "outputs": [
    {
     "name": "stderr",
     "output_type": "stream",
     "text": [
      "  0%|          | 0/5 [00:00<?, ?it/s]"
     ]
    },
    {
     "name": "stdout",
     "output_type": "stream",
     "text": [
      "Typ von block: <class 'types.SimpleNamespace'>\n"
     ]
    },
    {
     "name": "stderr",
     "output_type": "stream",
     "text": [
      "\n"
     ]
    },
    {
     "data": {
      "text/plain": [
       "0.0"
      ]
     },
     "execution_count": 127,
     "metadata": {},
     "output_type": "execute_result"
    }
   ],
   "source": [
    "loop_block_events = tqdm(range(1, len(block_events) + 1))\n",
    "for block_event in range(1, 2):\n",
    "    block = seq.get_block(block_event)\n",
    "    \n",
    "\n",
    "print(f\"Typ von block: {type(block)}\")\n",
    "(block.rf.t[1]-block.rf.t[0]) * len(block.rf.t)\n",
    "block.rf.phase_offset"
   ]
  },
  {
   "cell_type": "code",
   "execution_count": 128,
   "id": "4048965d",
   "metadata": {},
   "outputs": [
    {
     "data": {
      "text/plain": [
       "0.010200000000000002"
      ]
     },
     "execution_count": 128,
     "metadata": {},
     "output_type": "execute_result"
    }
   ],
   "source": [
    "300 * 3.4000000000000007e-05"
   ]
  },
  {
   "cell_type": "code",
   "execution_count": 129,
   "id": "f1be634c",
   "metadata": {},
   "outputs": [
    {
     "data": {
      "text/plain": [
       "(1, 1, 6, 6)"
      ]
     },
     "execution_count": 129,
     "metadata": {},
     "output_type": "execute_result"
    }
   ],
   "source": [
    "mag = np.zeros([6, 6])\n",
    "mag = mag[np.newaxis, np.newaxis,]\n",
    "mag.shape"
   ]
  },
  {
   "cell_type": "code",
   "execution_count": 130,
   "id": "4d8c6edd",
   "metadata": {},
   "outputs": [],
   "source": [
    "mag = np.zeros([2, 2 ,6, 6])"
   ]
  },
  {
   "cell_type": "code",
   "execution_count": 131,
   "id": "9f50bf82",
   "metadata": {},
   "outputs": [
    {
     "data": {
      "text/plain": [
       "array([[[[0., 0., 0., 0., 0., 0.],\n",
       "         [0., 0., 0., 0., 0., 0.],\n",
       "         [0., 0., 0., 0., 0., 0.],\n",
       "         [0., 0., 0., 0., 0., 0.],\n",
       "         [0., 0., 0., 0., 0., 0.],\n",
       "         [0., 0., 0., 0., 0., 0.]],\n",
       "\n",
       "        [[0., 0., 0., 0., 0., 0.],\n",
       "         [0., 0., 0., 0., 0., 0.],\n",
       "         [0., 0., 0., 0., 0., 0.],\n",
       "         [0., 0., 0., 0., 0., 0.],\n",
       "         [0., 0., 0., 0., 0., 0.],\n",
       "         [0., 0., 0., 0., 0., 0.]]],\n",
       "\n",
       "\n",
       "       [[[0., 0., 0., 0., 0., 0.],\n",
       "         [0., 0., 0., 0., 0., 0.],\n",
       "         [0., 0., 0., 0., 0., 0.],\n",
       "         [0., 0., 0., 0., 0., 0.],\n",
       "         [0., 0., 0., 0., 0., 0.],\n",
       "         [0., 0., 0., 0., 0., 0.]],\n",
       "\n",
       "        [[0., 0., 0., 0., 0., 0.],\n",
       "         [0., 0., 0., 0., 0., 0.],\n",
       "         [0., 0., 0., 0., 0., 0.],\n",
       "         [0., 0., 0., 0., 0., 0.],\n",
       "         [0., 0., 0., 0., 0., 0.],\n",
       "         [0., 0., 0., 0., 0., 0.]]]])"
      ]
     },
     "execution_count": 131,
     "metadata": {},
     "output_type": "execute_result"
    }
   ],
   "source": [
    "mag"
   ]
  },
  {
   "cell_type": "code",
   "execution_count": 132,
   "id": "9b9ab8b3",
   "metadata": {},
   "outputs": [
    {
     "data": {
      "text/plain": [
       "(2, 1)"
      ]
     },
     "execution_count": 132,
     "metadata": {},
     "output_type": "execute_result"
    }
   ],
   "source": [
    "pos = np.array([-1, 2])\n",
    "pos = pos.reshape(2, 1)\n",
    "pos.shape"
   ]
  },
  {
   "cell_type": "code",
   "execution_count": 133,
   "id": "e3e2acce",
   "metadata": {},
   "outputs": [],
   "source": [
    "mag[:, :, 0, 2] +=pos\n",
    "mag[:, :, 2, 0] -= pos"
   ]
  },
  {
   "cell_type": "code",
   "execution_count": 134,
   "id": "8d7eb716",
   "metadata": {},
   "outputs": [
    {
     "data": {
      "text/plain": [
       "array([[[[ 0.,  0., -1.,  0.,  0.,  0.],\n",
       "         [ 0.,  0.,  0.,  0.,  0.,  0.],\n",
       "         [ 1.,  0.,  0.,  0.,  0.,  0.],\n",
       "         [ 0.,  0.,  0.,  0.,  0.,  0.],\n",
       "         [ 0.,  0.,  0.,  0.,  0.,  0.],\n",
       "         [ 0.,  0.,  0.,  0.,  0.,  0.]],\n",
       "\n",
       "        [[ 0.,  0., -1.,  0.,  0.,  0.],\n",
       "         [ 0.,  0.,  0.,  0.,  0.,  0.],\n",
       "         [ 1.,  0.,  0.,  0.,  0.,  0.],\n",
       "         [ 0.,  0.,  0.,  0.,  0.,  0.],\n",
       "         [ 0.,  0.,  0.,  0.,  0.,  0.],\n",
       "         [ 0.,  0.,  0.,  0.,  0.,  0.]]],\n",
       "\n",
       "\n",
       "       [[[ 0.,  0.,  2.,  0.,  0.,  0.],\n",
       "         [ 0.,  0.,  0.,  0.,  0.,  0.],\n",
       "         [-2.,  0.,  0.,  0.,  0.,  0.],\n",
       "         [ 0.,  0.,  0.,  0.,  0.,  0.],\n",
       "         [ 0.,  0.,  0.,  0.,  0.,  0.],\n",
       "         [ 0.,  0.,  0.,  0.,  0.,  0.]],\n",
       "\n",
       "        [[ 0.,  0.,  2.,  0.,  0.,  0.],\n",
       "         [ 0.,  0.,  0.,  0.,  0.,  0.],\n",
       "         [-2.,  0.,  0.,  0.,  0.,  0.],\n",
       "         [ 0.,  0.,  0.,  0.,  0.,  0.],\n",
       "         [ 0.,  0.,  0.,  0.,  0.,  0.],\n",
       "         [ 0.,  0.,  0.,  0.,  0.,  0.]]]])"
      ]
     },
     "execution_count": 134,
     "metadata": {},
     "output_type": "execute_result"
    }
   ],
   "source": [
    "mag"
   ]
  },
  {
   "cell_type": "code",
   "execution_count": 135,
   "id": "70271c10",
   "metadata": {},
   "outputs": [
    {
     "data": {
      "text/plain": [
       "array([[[ 0.,  1.,  2.,  3.,  4.],\n",
       "        [ 5.,  6.,  7.,  8.,  9.],\n",
       "        [10., 11., 12., 13., 14.]],\n",
       "\n",
       "       [[15., 16., 17., 18., 19.],\n",
       "        [20., 21., 22., 23., 24.],\n",
       "        [25., 26., 27., 28., 29.]]])"
      ]
     },
     "execution_count": 135,
     "metadata": {},
     "output_type": "execute_result"
    }
   ],
   "source": [
    "vec = np.arange(0, 30, 1, dtype=np.float64)\n",
    "vec = vec.reshape(2, 3, 5)\n",
    "vec"
   ]
  },
  {
   "cell_type": "code",
   "execution_count": 136,
   "id": "ea3d3459",
   "metadata": {},
   "outputs": [],
   "source": [
    "vec_x = vec[:, 0, :]\n",
    "vec_y = vec[:, 1, :]\n",
    "vec_z = vec[:, 2, :]"
   ]
  },
  {
   "cell_type": "code",
   "execution_count": 137,
   "id": "8798c56e",
   "metadata": {},
   "outputs": [
    {
     "name": "stdout",
     "output_type": "stream",
     "text": [
      "[0.65217391 0.73913043 0.82608696 0.91304348 1.        ]\n",
      "[0.75757576 0.81818182 0.87878788 0.93939394 1.        ]\n",
      "[0.81395349 0.86046512 0.90697674 0.95348837 1.        ]\n"
     ]
    }
   ],
   "source": [
    "vec_x_total = np.sum(vec_x, axis=0)\n",
    "vec_x_total /= np.max(np.abs(vec_x_total)) if np.max(np.abs(vec_x_total)) != 0 else 1\n",
    "vec_y_total = np.sum(vec_y, axis=0)\n",
    "vec_y_total /= np.max(np.abs(vec_y_total)) if np.max(np.abs(vec_y_total)) != 0 else 1\n",
    "vec_z_total = np.sum(vec_z, axis=0)\n",
    "vec_z_total /= np.max(np.abs(vec_z_total)) if np.max(np.abs(vec_z_total)) != 0 else 1\n",
    "\n",
    "print(vec_x_total)\n",
    "print(vec_y_total)\n",
    "print(vec_z_total)"
   ]
  },
  {
   "cell_type": "code",
   "execution_count": 186,
   "id": "7fe60d7b",
   "metadata": {},
   "outputs": [
    {
     "name": "stdout",
     "output_type": "stream",
     "text": [
      "no\n"
     ]
    }
   ],
   "source": [
    "a = 3\n",
    "b = 2\n",
    "\n",
    "if a == 1:\n",
    "    print('yes')\n",
    "elif b == 2:\n",
    "    print('no')\n",
    "else:\n",
    "    print('maybe')"
   ]
  },
  {
   "cell_type": "code",
   "execution_count": 14,
   "id": "beb086b5",
   "metadata": {},
   "outputs": [
    {
     "data": {
      "text/plain": [
       "array([-0.10856306,  0.09973454,  0.02829785, -0.15062947, -0.05786003,\n",
       "        0.16514365, -0.24266792, -0.04289126,  0.12659363, -0.08667404])"
      ]
     },
     "execution_count": 14,
     "metadata": {},
     "output_type": "execute_result"
    }
   ],
   "source": [
    "import numpy as np\n",
    "\n",
    "np.random.seed(123)  # Fester Seed für Reproduzierbarkeit\n",
    "np.random.normal(0, 0.1, 10)"
   ]
  },
  {
   "cell_type": "code",
   "execution_count": 20,
   "id": "ea3241f0",
   "metadata": {},
   "outputs": [
    {
     "data": {
      "text/plain": [
       "[<matplotlib.lines.Line2D at 0x10fab7ad0>]"
      ]
     },
     "execution_count": 20,
     "metadata": {},
     "output_type": "execute_result"
    },
    {
     "data": {
      "image/png": "[encoded data removed]",
      "text/plain": [
       "<Figure size 640x480 with 1 Axes>"
      ]
     },
     "metadata": {},
     "output_type": "display_data"
    }
   ],
   "source": [
    "import matplotlib.pyplot as plt\n",
    "plt.plot(np.random.normal(0, 0.1, 1000), 'o')"
   ]
  },
  {
   "cell_type": "code",
   "execution_count": null,
   "id": "fa7a9f7b",
   "metadata": {},
   "outputs": [],
   "source": []
  }
 ],
 "metadata": {
  "kernelspec": {
   "display_name": "src",
   "language": "python",
   "name": "python3"
  },
  "language_info": {
   "codemirror_mode": {
    "name": "ipython",
    "version": 3
   },
   "file_extension": ".py",
   "mimetype": "text/x-python",
   "name": "python",
   "nbconvert_exporter": "python",
   "pygments_lexer": "ipython3",
   "version": "3.11.10"
  }
 },
 "nbformat": 4,
 "nbformat_minor": 5
}

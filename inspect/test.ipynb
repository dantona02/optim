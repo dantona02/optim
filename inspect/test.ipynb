{
 "cells": [
  {
   "cell_type": "code",
   "execution_count": 2,
   "id": "initial_id",
   "metadata": {
    "ExecuteTime": {
     "end_time": "2023-11-27T14:03:27.105251Z",
     "start_time": "2023-11-27T14:03:27.103818Z"
    },
    "collapsed": true
   },
   "outputs": [],
   "source": [
    "import pypulseq as pp\n",
    "from tqdm import tqdm\n",
    "import numpy as np\n",
    "\n",
    "import matplotlib.pyplot as plt"
   ]
  },
  {
   "cell_type": "code",
   "execution_count": 6,
   "id": "148a8b90",
   "metadata": {},
   "outputs": [
    {
     "name": "stdout",
     "output_type": "stream",
     "text": [
      "Typ von block_events: <class 'dict'>\n",
      "Anzahl der Blöcke: 2\n",
      "Block 1: [0 1 0 0 0 0 0]\n",
      "Block 2: [0 0 0 0 0 1 0]\n"
     ]
    },
    {
     "data": {
      "text/plain": [
       "{'AdcRasterTime': 1e-07,\n",
       " 'B0': 17.0,\n",
       " 'BlockDurationRaster': 1e-05,\n",
       " 'FREQ': 723.7988,\n",
       " 'GradientRasterTime': 1e-05,\n",
       " 'M0_offset': 0.0,\n",
       " 'RadiofrequencyRasterTime': 1e-06,\n",
       " 'TotalDuration': 0.011,\n",
       " 'a': 90.0,\n",
       " 'num_meas': 1.0,\n",
       " 'offsets_ppm': 0.0,\n",
       " 'seq_id_string': 'simple_gauss'}"
      ]
     },
     "execution_count": 6,
     "metadata": {},
     "output_type": "execute_result"
    }
   ],
   "source": [
    "seq = pp.Sequence()\n",
    "seq.read('/Users/danielmiksch/JupyterLab/optim/seq_init/simple_gauss.seq')\n",
    "\n",
    "block_events = seq.block_events\n",
    "\n",
    "print(f\"Typ von block_events: {type(block_events)}\")\n",
    "print(f\"Anzahl der Blöcke: {len(block_events)}\")\n",
    "\n",
    "# Beispielhafte Ausgabe der ersten paar Blöcke\n",
    "i = 0\n",
    "for key, value in block_events.items():\n",
    "    i += 1\n",
    "    if i < 4:\n",
    "        print(f\"Block {key}: {value}\")\n",
    "    else: break\n",
    "\n",
    "defs = seq.definitions\n",
    "defs"
   ]
  },
  {
   "cell_type": "code",
   "execution_count": 15,
   "id": "8aa38796",
   "metadata": {},
   "outputs": [
    {
     "data": {
      "text/plain": [
       "{1: array([0, 1, 0, 0, 0, 0, 0]), 2: array([0, 0, 0, 0, 0, 1, 0])}"
      ]
     },
     "execution_count": 15,
     "metadata": {},
     "output_type": "execute_result"
    }
   ],
   "source": [
    "# loop_block_events = tqdm(range(1, len(block_events) + 1))\n",
    "# for block_event in range(1, 2):\n",
    "#     block = seq.get_block(block_event)\n",
    "    \n",
    "\n",
    "# print(f\"Typ von block: {type(block)}\")\n",
    "# vars(block)\n",
    "# torch.from_numpy(np.angle(block.rf.signal))\n",
    "# block.rf.freq_offset\n",
    "events = seq.block_events\n",
    "events"
   ]
  },
  {
   "cell_type": "code",
   "execution_count": 30,
   "id": "06a6ddd4",
   "metadata": {},
   "outputs": [
    {
     "data": {
      "text/plain": [
       "np.float64(1.5707963267948966)"
      ]
     },
     "execution_count": 30,
     "metadata": {},
     "output_type": "execute_result"
    }
   ],
   "source": [
    "np.angle(0+1j)"
   ]
  },
  {
   "cell_type": "code",
   "execution_count": 31,
   "id": "44c19807",
   "metadata": {},
   "outputs": [],
   "source": [
    "import copy\n",
    "from pathlib import Path\n",
    "from typing import Tuple, Union\n",
    "\n",
    "import numpy as np\n",
    "import yaml\n",
    "\n",
    "from bmc.params import Params"
   ]
  },
  {
   "cell_type": "code",
   "execution_count": 32,
   "id": "44256df5",
   "metadata": {},
   "outputs": [],
   "source": [
    "def load_config(*args: Union[str, Path]) -> dict:\n",
    "    \"\"\"\n",
    "    load_config Load the config file(s) for given path(s) and return the data as a dictionary.\n",
    "\n",
    "    Returns\n",
    "    -------\n",
    "    dict\n",
    "        Dictionary containing the data from the config file(s).\n",
    "    \"\"\"\n",
    "    config = {}\n",
    "    for filepath in args:\n",
    "        with open(filepath, \"r\") as file:\n",
    "            config.update(yaml.load(file, Loader=yaml.Loader))\n",
    "    return config"
   ]
  },
  {
   "cell_type": "code",
   "execution_count": 33,
   "id": "5c55f37a",
   "metadata": {},
   "outputs": [
    {
     "data": {
      "text/plain": [
       "{'water_pool': {'f': 1, 'r1': '1 / 1.3', 'r2': '1 / 75e-3'},\n",
       " 'b0': 3,\n",
       " 'gamma': 267.5153,\n",
       " 'b0_inhom': 0.0,\n",
       " 'rel_b1': 1,\n",
       " 'verbose': False,\n",
       " 'reset_init_mag': True,\n",
       " 'scale': 0.5,\n",
       " 'max_pulse_samples': 300}"
      ]
     },
     "execution_count": 33,
     "metadata": {},
     "output_type": "execute_result"
    }
   ],
   "source": [
    "load_config('/Users/danielmiksch/miniconda3/envs/simu/lib/python3.11/site-packages/bmctool/library/sim-library/config_wasabi.yaml')"
   ]
  },
  {
   "cell_type": "code",
   "execution_count": 34,
   "id": "cf1d93c8",
   "metadata": {},
   "outputs": [],
   "source": [
    "A = 1.0        # Amplitude\n",
    "T = 0.1        # Gesamtdauer des Pulses (in Sekunden)\n",
    "fs = 100      # Abtastfrequenz (in Hz)\n",
    "sigma = 0.001    # Standardabweichung\n",
    "t0 = T / 2\n",
    "\n",
    "t = np.linspace(0, T, int(fs*T))\n",
    "\n",
    "# Gauß-Puls berechnen\n",
    "gauss_pulse = A * np.exp(-((t - t0) ** 2) / (2 * sigma ** 2))\n",
    "\n",
    "# Gauß-Puls plotten\n",
    "# plt.plot(t, gauss_pulse)\n",
    "# plt.title('Gauß-Puls')\n",
    "# plt.xlabel('Zeit (s)')\n",
    "# plt.ylabel('Amplitude')\n",
    "# plt.show()"
   ]
  },
  {
   "cell_type": "code",
   "execution_count": 16,
   "id": "5ffff41d",
   "metadata": {},
   "outputs": [
    {
     "name": "stdout",
     "output_type": "stream",
     "text": [
      "1\n"
     ]
    }
   ],
   "source": [
    "for i in range(1, 2):\n",
    "    print(i)"
   ]
  },
  {
   "cell_type": "markdown",
   "id": "f9bf1e06",
   "metadata": {},
   "source": [
    "## Pulse Gradient sequence"
   ]
  },
  {
   "cell_type": "code",
   "execution_count": 12,
   "id": "37cdd456",
   "metadata": {},
   "outputs": [
    {
     "name": "stdout",
     "output_type": "stream",
     "text": [
      "Typ von block_events: <class 'dict'>\n",
      "Anzahl der Blöcke: 3\n",
      "Block 1: [0 1 0 0 0 0 0]\n",
      "Block 2: [0 0 0 0 1 0 0]\n",
      "Block 3: [0 0 0 0 0 1 0]\n"
     ]
    }
   ],
   "source": [
    "seq = pp.Sequence()\n",
    "seq.read('/Users/danielmiksch/JupyterLab/optim/seq_init/simple_gauss_gradient.seq')\n",
    "\n",
    "block_events = seq.block_events\n",
    "\n",
    "print(f\"Typ von block_events: {type(block_events)}\")\n",
    "print(f\"Anzahl der Blöcke: {len(block_events)}\")\n",
    "\n",
    "# Beispielhafte Ausgabe der ersten paar Blöcke\n",
    "i = 0\n",
    "for key, value in block_events.items():\n",
    "    i += 1\n",
    "    if i < 4:\n",
    "        print(f\"Block {key}: {value}\")\n",
    "    else: break"
   ]
  },
  {
   "cell_type": "code",
   "execution_count": 29,
   "id": "61858a08",
   "metadata": {},
   "outputs": [
    {
     "name": "stderr",
     "output_type": "stream",
     "text": [
      "  0%|          | 0/3 [00:13<?, ?it/s]"
     ]
    },
    {
     "name": "stdout",
     "output_type": "stream",
     "text": [
      "Typ von block: <class 'types.SimpleNamespace'>\n"
     ]
    },
    {
     "name": "stderr",
     "output_type": "stream",
     "text": [
      "\n"
     ]
    },
    {
     "data": {
      "text/plain": [
       "10644.100000000008"
      ]
     },
     "execution_count": 29,
     "metadata": {},
     "output_type": "execute_result"
    }
   ],
   "source": [
    "loop_block_events = tqdm(range(1, len(block_events) + 1))\n",
    "for block_event in range(1, 3):\n",
    "    block = seq.get_block(block_event)\n",
    "    \n",
    "\n",
    "print(f\"Typ von block: {type(block)}\")\n",
    "block.gz.waveform[2000] / 1e3"
   ]
  },
  {
   "cell_type": "code",
   "execution_count": 25,
   "id": "0c4fad32",
   "metadata": {},
   "outputs": [
    {
     "name": "stderr",
     "output_type": "stream",
     "text": [
      "  0%|          | 0/3 [00:10<?, ?it/s]"
     ]
    },
    {
     "name": "stdout",
     "output_type": "stream",
     "text": [
      "Typ von block: <class 'types.SimpleNamespace'>\n"
     ]
    },
    {
     "name": "stderr",
     "output_type": "stream",
     "text": [
      "\n"
     ]
    },
    {
     "data": {
      "text/plain": [
       "(100.00000000000007+0j)"
      ]
     },
     "execution_count": 25,
     "metadata": {},
     "output_type": "execute_result"
    }
   ],
   "source": [
    "loop_block_events = tqdm(range(1, len(block_events) + 1))\n",
    "for block_event in range(1, 2):\n",
    "    block = seq.get_block(block_event)\n",
    "    \n",
    "\n",
    "print(f\"Typ von block: {type(block)}\")\n",
    "block.rf.signal[5000]"
   ]
  },
  {
   "cell_type": "code",
   "execution_count": null,
   "id": "4048965d",
   "metadata": {},
   "outputs": [],
   "source": []
  }
 ],
 "metadata": {
  "kernelspec": {
   "display_name": "src",
   "language": "python",
   "name": "python3"
  },
  "language_info": {
   "codemirror_mode": {
    "name": "ipython",
    "version": 3
   },
   "file_extension": ".py",
   "mimetype": "text/x-python",
   "name": "python",
   "nbconvert_exporter": "python",
   "pygments_lexer": "ipython3",
   "version": "3.11.10"
  }
 },
 "nbformat": 4,
 "nbformat_minor": 5
}

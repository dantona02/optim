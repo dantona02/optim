{
 "cells": [
  {
   "cell_type": "markdown",
   "id": "ccfcca9b",
   "metadata": {},
   "source": [
    "### Simulation"
   ]
  },
  {
   "cell_type": "code",
   "execution_count": 28,
   "id": "bbcb1b2f",
   "metadata": {},
   "outputs": [],
   "source": [
    "import numpy as np\n",
    "import matplotlib.pyplot as plt"
   ]
  },
  {
   "cell_type": "code",
   "execution_count": 29,
   "id": "6ed76624",
   "metadata": {},
   "outputs": [],
   "source": [
    "low = -20e-6\n",
    "high = 20e-6\n",
    "n_iso = 1000\n",
    "\n",
    "z_pos = np.linspace(low, high, n_iso)\n",
    "z_pos = np.append(z_pos, 0.)\n",
    "z_pos = np.sort(z_pos)  "
   ]
  },
  {
   "cell_type": "code",
   "execution_count": 30,
   "id": "50b07372",
   "metadata": {},
   "outputs": [],
   "source": [
    "seq_path_on = [f'seq_lib/ETM_variation/{i}_ETM.seq' for i in range(0, 251, 10)]\n",
    "seq_path_off = [f'seq_lib/ETM_variation/{i}_ETM_minus.seq' for i in range(0, 251, 10)]\n",
    "config_path = 'sim_lib/config_1pool.yaml'"
   ]
  },
  {
   "cell_type": "code",
   "execution_count": 31,
   "id": "73789ef4",
   "metadata": {},
   "outputs": [],
   "source": [
    "adc_time = 6e-3\n",
    "webhook = False"
   ]
  },
  {
   "cell_type": "code",
   "execution_count": 32,
   "id": "55d6353f",
   "metadata": {},
   "outputs": [],
   "source": [
    "from bmc.utils.tex_variation import run_variation"
   ]
  },
  {
   "cell_type": "code",
   "execution_count": 33,
   "id": "de36765c",
   "metadata": {},
   "outputs": [],
   "source": [
    "# N_ETM, signal = run_variation(seq_path_on,\n",
    "#                              seq_path_off,\n",
    "#                              config_path,\n",
    "#                              adc_time,\n",
    "#                              z_pos,\n",
    "#                              webhook,\n",
    "#                              num_points = len(seq_path_on),\n",
    "#                              batch_size=26,\n",
    "#                              max_processes=26)"
   ]
  },
  {
   "cell_type": "code",
   "execution_count": 34,
   "id": "ecb9bc95",
   "metadata": {},
   "outputs": [],
   "source": [
    "# fig, ax = plt.subplots(dpi=100)\n",
    "\n",
    "# plt.yscale('log')\n",
    "# plt.plot(N_ETM, signal, 'o--', c='blue', linewidth=1, markersize=5, label='150 Hz')\n",
    "# # plt.plot(n_ETMc * 1000, signal_250Hz, 'o--', c='red', linewidth=1, markersize=5, label='250 Hz')\n",
    "# # plt.plot(n_ETMc * 1000, signal_350Hz, 'o--', c='green', linewidth=1, markersize=5, label='250 Hz')\n",
    "# # plt.plot(n_ETMc * 1000, signal_50Hz, 'o--', c='fuchsia', linewidth=1, markersize=5, label='50 Hz')\n",
    "# # plt.plot(n_ETMc * 1000, signal_20Hz, 'o--', c='gold', linewidth=1, markersize=5, label='20 Hz')\n",
    "# # plt.plot(n_ETMc * 1000, signal_350Hz, 'o--', c='green', linewidth=1, markersize=5, label='250 Hz')\n",
    "# # plt.axhline(torch.max(signal).item(), color='blue', linewidth=.8)\n",
    "# # plt.axvline(30, color='blue', linewidth=.8)\n",
    "# # plt.text(30, plt.ylim()[0] - 0.0001, f\"{30} ms\",\n",
    "# #          color='blue', ha='center', va='top', fontsize=8)\n",
    "# ax.set_ylabel('signal intensity')\n",
    "# ax.set_xlabel(r'$t_{ex}$ [ms]')\n",
    "# ax.legend()\n",
    "# # plt.xlim(0, 65)\n",
    "# plt.ylim(10e-5, 10e-2)\n",
    "\n",
    "\n",
    "# # plt.savefig(\"signal_plot_kex.png\", dpi=300, bbox_inches='tight')\n"
   ]
  },
  {
   "cell_type": "code",
   "execution_count": 35,
   "id": "ea4b4459",
   "metadata": {},
   "outputs": [
    {
     "name": "stdout",
     "output_type": "stream",
     "text": [
      "Geladene Ergebnisse: 28\n",
      "Bereits verarbeitete Indizes: 28\n"
     ]
    },
    {
     "name": "stderr",
     "output_type": "stream",
     "text": [
      "BMCTool simulation: 100%|██████████| 39/39 [01:40<00:00,  2.59s/it]\n"
     ]
    },
    {
     "name": "stdout",
     "output_type": "stream",
     "text": [
      "['rf at 0.0000s', 'gz at 0.0020s', 'adc at 0.0025s']\n"
     ]
    },
    {
     "name": "stderr",
     "output_type": "stream",
     "text": [
      "BMCTool simulation: 100%|██████████| 39/39 [01:44<00:00,  2.67s/it]\n"
     ]
    },
    {
     "name": "stdout",
     "output_type": "stream",
     "text": [
      "['rf at 0.0000s', 'gz at 0.0020s', 'adc at 0.0025s']\n",
      "Ergebnis gespeichert: (6, np.float64(0.000560682971447477)) | 29 Einträge\n"
     ]
    }
   ],
   "source": [
    "seq_two_on = ['seq_lib/6_ETM.seq']\n",
    "seq_two_off = ['seq_lib/6_ETM_minus.seq']\n",
    "\n",
    "two_ETM, signal_two_ETM = run_variation(seq_two_on,\n",
    "                             seq_two_off,\n",
    "                             config_path,\n",
    "                             adc_time,\n",
    "                             z_pos,\n",
    "                             webhook,\n",
    "                             num_points = 1,\n",
    "                             batch_size=1,\n",
    "                             max_processes=1)\n",
    "\n",
    "# N_ETM, signal = run_variation(seq_path_on,\n",
    "#                              seq_path_off,\n",
    "#                              config_path,\n",
    "#                              adc_time,\n",
    "#                              z_pos,\n",
    "#                              webhook,\n",
    "#                              num_points = len(seq_path_on),\n",
    "#                              batch_size=26,\n",
    "#                              max_processes=26)"
   ]
  },
  {
   "cell_type": "code",
   "execution_count": 42,
   "id": "cf66fcd8",
   "metadata": {},
   "outputs": [
    {
     "name": "stdout",
     "output_type": "stream",
     "text": [
      "Loaded results: 29\n",
      "[  0.   2.   3.   6.  10.  20.  30.  40.  50.  60.  70.  80.  90. 100.\n",
      " 110. 120. 130. 140. 150. 160. 170. 180. 190. 200. 210. 220. 230. 240.\n",
      " 250.]\n"
     ]
    }
   ],
   "source": [
    "import numpy as np\n",
    "\n",
    "try:\n",
    "    results = np.load(\"results/results.npy\", allow_pickle=True).tolist()\n",
    "    print(f\"Loaded results: {len(results)}\")\n",
    "except FileNotFoundError:\n",
    "    print(\"File 'results.npy' not found.\")\n",
    "    results = []\n",
    "\n",
    "if results:\n",
    "    n_ETM, signal = zip(*results)\n",
    "    n_ETM = np.array(n_ETM)\n",
    "    signal = np.array(signal)\n",
    "    sorted_indices = np.argsort(n_ETM)\n",
    "    n_ETM = n_ETM[sorted_indices]\n",
    "    signal = signal[sorted_indices]\n",
    "    print(n_ETM)\n",
    "else:\n",
    "    print(\"No results found.\")"
   ]
  },
  {
   "cell_type": "code",
   "execution_count": null,
   "id": "b699f82b",
   "metadata": {},
   "outputs": [
    {
     "data": {
      "image/png": "[encoded data removed]",
      "text/plain": [
       "<Figure size 640x480 with 1 Axes>"
      ]
     },
     "metadata": {},
     "output_type": "display_data"
    }
   ],
   "source": [
    "fig, ax = plt.subplots(dpi=100)\n",
    "\n",
    "plt.yscale('log')\n",
    "mask = n_ETM != 6\n",
    "plt.plot(n_ETM[mask], signal[mask], 'o--', c='blue', linewidth=1, markersize=5, label='150 Hz')\n",
    "ax.set_ylabel('signal intensity')\n",
    "ax.set_xlabel('Number of ETM')\n",
    "ax.legend()\n",
    "\n",
    "plt.savefig(\"results/signal_plot_etm.png\", dpi=300, bbox_inches='tight')"
   ]
  },
  {
   "cell_type": "code",
   "execution_count": null,
   "id": "80281674",
   "metadata": {},
   "outputs": [],
   "source": []
  }
 ],
 "metadata": {
  "kernelspec": {
   "display_name": "vmOne",
   "language": "python",
   "name": "python3"
  },
  "language_info": {
   "codemirror_mode": {
    "name": "ipython",
    "version": 3
   },
   "file_extension": ".py",
   "mimetype": "text/x-python",
   "name": "python",
   "nbconvert_exporter": "python",
   "pygments_lexer": "ipython3",
   "version": "3.11.11"
  }
 },
 "nbformat": 4,
 "nbformat_minor": 5
}

{
 "cells": [
  {
   "cell_type": "markdown",
   "id": "ccfcca9b",
   "metadata": {},
   "source": [
    "### Simulation"
   ]
  },
  {
   "cell_type": "code",
   "execution_count": 9,
   "id": "bbcb1b2f",
   "metadata": {},
   "outputs": [],
   "source": [
    "from bmc.simulate import simulate\n",
    "import numpy as np\n",
    "import matplotlib.pyplot as plt"
   ]
  },
  {
   "cell_type": "code",
   "execution_count": 10,
   "id": "6ed76624",
   "metadata": {},
   "outputs": [],
   "source": [
    "low = -20e-6\n",
    "high = 20e-6\n",
    "n_iso = 1000\n",
    "\n",
    "z_pos = np.linspace(low, high, n_iso)\n",
    "z_pos = np.append(z_pos, 0.)\n",
    "z_pos = np.sort(z_pos)  "
   ]
  },
  {
   "cell_type": "code",
   "execution_count": 11,
   "id": "50b07372",
   "metadata": {},
   "outputs": [],
   "source": [
    "seq_path_on = [f'seq_lib/ETM_variation/{i}_ETM.seq' for i in range(0, 251, 10)]\n",
    "seq_path_off = [f'seq_lib/ETM_variation/{i}_ETM_minus.seq' for i in range(0, 251, 10)]\n",
    "config_path = 'sim_lib/config_1pool.yaml'"
   ]
  },
  {
   "cell_type": "code",
   "execution_count": 12,
   "id": "73789ef4",
   "metadata": {},
   "outputs": [
    {
     "data": {
      "text/plain": [
       "26"
      ]
     },
     "execution_count": 12,
     "metadata": {},
     "output_type": "execute_result"
    }
   ],
   "source": [
    "adc_time = 6e-3\n",
    "retun_zmag = False\n",
    "write_all_mag = True\n",
    "webhook = False\n",
    "plt_range = [0, 4]\n",
    "iso_select = [-5,0,5]\n",
    "\n",
    "len(seq_path_on)"
   ]
  },
  {
   "cell_type": "code",
   "execution_count": 13,
   "id": "55d6353f",
   "metadata": {},
   "outputs": [],
   "source": [
    "from bmc.utils.tex_variation import run_variation"
   ]
  },
  {
   "cell_type": "code",
   "execution_count": null,
   "id": "de36765c",
   "metadata": {},
   "outputs": [
    {
     "name": "stderr",
     "output_type": "stream",
     "text": [
      "BMCTool simulation: 100%|██████████| 3/3 [00:05<00:00,  1.90s/it]s]\n",
      "BMCTool simulation:   0%|          | 0/3 [00:00<?, ?it/s]"
     ]
    },
    {
     "name": "stdout",
     "output_type": "stream",
     "text": [
      "['rf at 0.0000s', 'gz at 0.0020s', 'adc at 0.0025s']\n",
      "[]\n"
     ]
    },
    {
     "name": "stderr",
     "output_type": "stream",
     "text": [
      "BMCTool simulation: 100%|██████████| 3/3 [00:05<00:00,  1.89s/it]s]\n"
     ]
    },
    {
     "name": "stdout",
     "output_type": "stream",
     "text": [
      "['rf at 0.0000s', 'gz at 0.0020s', 'adc at 0.0025s']\n",
      "[]\n"
     ]
    },
    {
     "name": "stderr",
     "output_type": "stream",
     "text": [
      "BMCTool simulation: 100%|██████████| 63/63 [01:16<00:00,  1.21s/it]]\n",
      "BMCTool simulation:   0%|          | 0/63 [00:00<?, ?it/s]"
     ]
    },
    {
     "name": "stdout",
     "output_type": "stream",
     "text": [
      "['rf at 0.0000s', 'delay at 0.0020s', 'gz at 0.0025s', 'delay at 0.0030s', 'rf at 0.0035s', 'delay at 0.0055s', 'rf at 0.0135s', 'delay at 0.0155s', 'gz at 0.0160s', 'delay at 0.0165s', 'rf at 0.0170s', 'delay at 0.0190s', 'rf at 0.0270s', 'delay at 0.0290s', 'gz at 0.0295s', 'delay at 0.0300s', 'rf at 0.0305s', 'delay at 0.0325s', 'rf at 0.0405s', 'delay at 0.0425s', 'gz at 0.0430s', 'delay at 0.0435s', 'rf at 0.0440s', 'delay at 0.0460s', 'rf at 0.0540s', 'delay at 0.0560s', 'gz at 0.0565s', 'delay at 0.0570s', 'rf at 0.0575s', 'delay at 0.0595s', 'rf at 0.0675s', 'delay at 0.0695s', 'gz at 0.0700s', 'delay at 0.0705s', 'rf at 0.0710s', 'delay at 0.0730s', 'rf at 0.0810s', 'delay at 0.0830s', 'gz at 0.0835s', 'delay at 0.0840s', 'rf at 0.0845s', 'delay at 0.0865s', 'rf at 0.0945s', 'delay at 0.0965s', 'gz at 0.0970s', 'delay at 0.0975s', 'rf at 0.0980s', 'delay at 0.1000s', 'rf at 0.1080s', 'delay at 0.1100s', 'gz at 0.1105s', 'delay at 0.1110s', 'rf at 0.1115s', 'delay at 0.1135s', 'rf at 0.1215s', 'delay at 0.1235s', 'gz at 0.1240s', 'delay at 0.1245s', 'rf at 0.1250s', 'delay at 0.1270s', 'rf at 0.1350s', 'gz at 0.1370s', 'adc at 0.1375s']\n",
      "[]\n"
     ]
    },
    {
     "name": "stderr",
     "output_type": "stream",
     "text": [
      "BMCTool simulation: 100%|██████████| 123/123 [02:28<00:00,  1.20s/it]\n",
      "BMCTool simulation:   0%|          | 0/123 [00:00<?, ?it/s]"
     ]
    },
    {
     "name": "stdout",
     "output_type": "stream",
     "text": [
      "['rf at 0.0000s', 'delay at 0.0020s', 'gz at 0.0025s', 'delay at 0.0030s', 'rf at 0.0035s', 'delay at 0.0055s', 'rf at 0.0135s', 'delay at 0.0155s', 'gz at 0.0160s', 'delay at 0.0165s', 'rf at 0.0170s', 'delay at 0.0190s', 'rf at 0.0270s', 'delay at 0.0290s', 'gz at 0.0295s', 'delay at 0.0300s', 'rf at 0.0305s', 'delay at 0.0325s', 'rf at 0.0405s', 'delay at 0.0425s', 'gz at 0.0430s', 'delay at 0.0435s', 'rf at 0.0440s', 'delay at 0.0460s', 'rf at 0.0540s', 'delay at 0.0560s', 'gz at 0.0565s', 'delay at 0.0570s', 'rf at 0.0575s', 'delay at 0.0595s', 'rf at 0.0675s', 'delay at 0.0695s', 'gz at 0.0700s', 'delay at 0.0705s', 'rf at 0.0710s', 'delay at 0.0730s', 'rf at 0.0810s', 'delay at 0.0830s', 'gz at 0.0835s', 'delay at 0.0840s', 'rf at 0.0845s', 'delay at 0.0865s', 'rf at 0.0945s', 'delay at 0.0965s', 'gz at 0.0970s', 'delay at 0.0975s', 'rf at 0.0980s', 'delay at 0.1000s', 'rf at 0.1080s', 'delay at 0.1100s', 'gz at 0.1105s', 'delay at 0.1110s', 'rf at 0.1115s', 'delay at 0.1135s', 'rf at 0.1215s', 'delay at 0.1235s', 'gz at 0.1240s', 'delay at 0.1245s', 'rf at 0.1250s', 'delay at 0.1270s', 'rf at 0.1350s', 'delay at 0.1370s', 'gz at 0.1375s', 'delay at 0.1380s', 'rf at 0.1385s', 'delay at 0.1405s', 'rf at 0.1485s', 'delay at 0.1505s', 'gz at 0.1510s', 'delay at 0.1515s', 'rf at 0.1520s', 'delay at 0.1540s', 'rf at 0.1620s', 'delay at 0.1641s', 'gz at 0.1646s', 'delay at 0.1651s', 'rf at 0.1656s', 'delay at 0.1676s', 'rf at 0.1756s', 'delay at 0.1776s', 'gz at 0.1781s', 'delay at 0.1786s', 'rf at 0.1791s', 'delay at 0.1811s', 'rf at 0.1891s', 'delay at 0.1911s', 'gz at 0.1916s', 'delay at 0.1921s', 'rf at 0.1926s', 'delay at 0.1946s', 'rf at 0.2026s', 'delay at 0.2046s', 'gz at 0.2051s', 'delay at 0.2056s', 'rf at 0.2061s', 'delay at 0.2081s', 'rf at 0.2161s', 'delay at 0.2181s', 'gz at 0.2186s', 'delay at 0.2191s', 'rf at 0.2196s', 'delay at 0.2216s', 'rf at 0.2296s', 'delay at 0.2316s', 'gz at 0.2321s', 'delay at 0.2326s', 'rf at 0.2331s', 'delay at 0.2351s', 'rf at 0.2431s', 'delay at 0.2451s', 'gz at 0.2456s', 'delay at 0.2461s', 'rf at 0.2466s', 'delay at 0.2486s', 'rf at 0.2566s', 'delay at 0.2586s', 'gz at 0.2591s', 'delay at 0.2596s', 'rf at 0.2601s', 'delay at 0.2621s', 'rf at 0.2701s', 'gz at 0.2721s', 'adc at 0.2726s']\n",
      "[]\n"
     ]
    },
    {
     "name": "stderr",
     "output_type": "stream",
     "text": [
      "BMCTool simulation: 100%|██████████| 63/63 [01:18<00:00,  1.25s/it]\n"
     ]
    },
    {
     "name": "stdout",
     "output_type": "stream",
     "text": [
      "['rf at 0.0000s', 'delay at 0.0020s', 'gz at 0.0025s', 'delay at 0.0030s', 'rf at 0.0035s', 'delay at 0.0055s', 'rf at 0.0135s', 'delay at 0.0155s', 'gz at 0.0160s', 'delay at 0.0165s', 'rf at 0.0170s', 'delay at 0.0190s', 'rf at 0.0270s', 'delay at 0.0290s', 'gz at 0.0295s', 'delay at 0.0300s', 'rf at 0.0305s', 'delay at 0.0325s', 'rf at 0.0405s', 'delay at 0.0425s', 'gz at 0.0430s', 'delay at 0.0435s', 'rf at 0.0440s', 'delay at 0.0460s', 'rf at 0.0540s', 'delay at 0.0560s', 'gz at 0.0565s', 'delay at 0.0570s', 'rf at 0.0575s', 'delay at 0.0595s', 'rf at 0.0675s', 'delay at 0.0695s', 'gz at 0.0700s', 'delay at 0.0705s', 'rf at 0.0710s', 'delay at 0.0730s', 'rf at 0.0810s', 'delay at 0.0830s', 'gz at 0.0835s', 'delay at 0.0840s', 'rf at 0.0845s', 'delay at 0.0865s', 'rf at 0.0945s', 'delay at 0.0965s', 'gz at 0.0970s', 'delay at 0.0975s', 'rf at 0.0980s', 'delay at 0.1000s', 'rf at 0.1080s', 'delay at 0.1100s', 'gz at 0.1105s', 'delay at 0.1110s', 'rf at 0.1115s', 'delay at 0.1135s', 'rf at 0.1215s', 'delay at 0.1235s', 'gz at 0.1240s', 'delay at 0.1245s', 'rf at 0.1250s', 'delay at 0.1270s', 'rf at 0.1350s', 'gz at 0.1370s', 'adc at 0.1375s']\n",
      "[]\n"
     ]
    },
    {
     "name": "stderr",
     "output_type": "stream",
     "text": [
      "BMCTool simulation: 100%|██████████| 123/123 [02:29<00:00,  1.22s/it]\n"
     ]
    },
    {
     "name": "stdout",
     "output_type": "stream",
     "text": [
      "['rf at 0.0000s', 'delay at 0.0020s', 'gz at 0.0025s', 'delay at 0.0030s', 'rf at 0.0035s', 'delay at 0.0055s', 'rf at 0.0135s', 'delay at 0.0155s', 'gz at 0.0160s', 'delay at 0.0165s', 'rf at 0.0170s', 'delay at 0.0190s', 'rf at 0.0270s', 'delay at 0.0290s', 'gz at 0.0295s', 'delay at 0.0300s', 'rf at 0.0305s', 'delay at 0.0325s', 'rf at 0.0405s', 'delay at 0.0425s', 'gz at 0.0430s', 'delay at 0.0435s', 'rf at 0.0440s', 'delay at 0.0460s', 'rf at 0.0540s', 'delay at 0.0560s', 'gz at 0.0565s', 'delay at 0.0570s', 'rf at 0.0575s', 'delay at 0.0595s', 'rf at 0.0675s', 'delay at 0.0695s', 'gz at 0.0700s', 'delay at 0.0705s', 'rf at 0.0710s', 'delay at 0.0730s', 'rf at 0.0810s', 'delay at 0.0830s', 'gz at 0.0835s', 'delay at 0.0840s', 'rf at 0.0845s', 'delay at 0.0865s', 'rf at 0.0945s', 'delay at 0.0965s', 'gz at 0.0970s', 'delay at 0.0975s', 'rf at 0.0980s', 'delay at 0.1000s', 'rf at 0.1080s', 'delay at 0.1100s', 'gz at 0.1105s', 'delay at 0.1110s', 'rf at 0.1115s', 'delay at 0.1135s', 'rf at 0.1215s', 'delay at 0.1235s', 'gz at 0.1240s', 'delay at 0.1245s', 'rf at 0.1250s', 'delay at 0.1270s', 'rf at 0.1350s', 'delay at 0.1370s', 'gz at 0.1375s', 'delay at 0.1380s', 'rf at 0.1385s', 'delay at 0.1405s', 'rf at 0.1485s', 'delay at 0.1505s', 'gz at 0.1510s', 'delay at 0.1515s', 'rf at 0.1520s', 'delay at 0.1540s', 'rf at 0.1620s', 'delay at 0.1641s', 'gz at 0.1646s', 'delay at 0.1651s', 'rf at 0.1656s', 'delay at 0.1676s', 'rf at 0.1756s', 'delay at 0.1776s', 'gz at 0.1781s', 'delay at 0.1786s', 'rf at 0.1791s', 'delay at 0.1811s', 'rf at 0.1891s', 'delay at 0.1911s', 'gz at 0.1916s', 'delay at 0.1921s', 'rf at 0.1926s', 'delay at 0.1946s', 'rf at 0.2026s', 'delay at 0.2046s', 'gz at 0.2051s', 'delay at 0.2056s', 'rf at 0.2061s', 'delay at 0.2081s', 'rf at 0.2161s', 'delay at 0.2181s', 'gz at 0.2186s', 'delay at 0.2191s', 'rf at 0.2196s', 'delay at 0.2216s', 'rf at 0.2296s', 'delay at 0.2316s', 'gz at 0.2321s', 'delay at 0.2326s', 'rf at 0.2331s', 'delay at 0.2351s', 'rf at 0.2431s', 'delay at 0.2451s', 'gz at 0.2456s', 'delay at 0.2461s', 'rf at 0.2466s', 'delay at 0.2486s', 'rf at 0.2566s', 'delay at 0.2586s', 'gz at 0.2591s', 'delay at 0.2596s', 'rf at 0.2601s', 'delay at 0.2621s', 'rf at 0.2701s', 'gz at 0.2721s', 'adc at 0.2726s']\n",
      "[]\n"
     ]
    }
   ],
   "source": [
    "N_ETM, signal = run_variation(seq_path_on,\n",
    "                             seq_path_off,\n",
    "                             config_path,\n",
    "                             adc_time,\n",
    "                             z_pos,\n",
    "                             webhook,\n",
    "                             num_points = len(seq_path_on),\n",
    "                             batch_size=4,\n",
    "                             max_processes=4)"
   ]
  },
  {
   "cell_type": "code",
   "execution_count": 15,
   "id": "ecb9bc95",
   "metadata": {},
   "outputs": [
    {
     "data": {
      "text/plain": [
       "<matplotlib.legend.Legend at 0x309b51950>"
      ]
     },
     "execution_count": 15,
     "metadata": {},
     "output_type": "execute_result"
    },
    {
     "data": {
      "image/png": "[encoded data removed]",
      "text/plain": [
       "<Figure size 640x480 with 1 Axes>"
      ]
     },
     "metadata": {},
     "output_type": "display_data"
    }
   ],
   "source": [
    "fig, ax = plt.subplots(dpi=100)\n",
    "\n",
    "\n",
    "plt.plot(N_ETM, signal, 'o--', c='blue', linewidth=1, markersize=5, label='150 Hz')\n",
    "# plt.plot(t_exc * 1000, signal_250Hz, 'o--', c='red', linewidth=1, markersize=5, label='250 Hz')\n",
    "# plt.plot(t_exc * 1000, signal_350Hz, 'o--', c='green', linewidth=1, markersize=5, label='250 Hz')\n",
    "# plt.plot(t_exc * 1000, signal_50Hz, 'o--', c='fuchsia', linewidth=1, markersize=5, label='50 Hz')\n",
    "# plt.plot(t_exc * 1000, signal_20Hz, 'o--', c='gold', linewidth=1, markersize=5, label='20 Hz')\n",
    "# plt.plot(t_exc * 1000, signal_350Hz, 'o--', c='green', linewidth=1, markersize=5, label='250 Hz')\n",
    "# plt.axhline(torch.max(signal).item(), color='blue', linewidth=.8)\n",
    "# plt.axvline(30, color='blue', linewidth=.8)\n",
    "# plt.text(30, plt.ylim()[0] - 0.0001, f\"{30} ms\",\n",
    "#          color='blue', ha='center', va='top', fontsize=8)\n",
    "ax.set_ylabel('signal intensity')\n",
    "ax.set_xlabel(r'$t_{ex}$ [ms]')\n",
    "ax.legend()\n",
    "# plt.xlim(0, 65)\n",
    "# plt.ylim(0.0, 0.0082)\n",
    "\n",
    "\n",
    "# plt.savefig(\"signal_plot_kex.png\", dpi=300, bbox_inches='tight')\n"
   ]
  }
 ],
 "metadata": {
  "kernelspec": {
   "display_name": "src",
   "language": "python",
   "name": "python3"
  },
  "language_info": {
   "codemirror_mode": {
    "name": "ipython",
    "version": 3
   },
   "file_extension": ".py",
   "mimetype": "text/x-python",
   "name": "python",
   "nbconvert_exporter": "python",
   "pygments_lexer": "ipython3",
   "version": "3.11.10"
  }
 },
 "nbformat": 4,
 "nbformat_minor": 5
}

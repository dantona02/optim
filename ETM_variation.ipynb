{
 "cells": [
  {
   "cell_type": "markdown",
   "id": "ccfcca9b",
   "metadata": {},
   "source": [
    "### Simulation"
   ]
  },
  {
   "cell_type": "code",
   "execution_count": 1,
   "id": "bbcb1b2f",
   "metadata": {},
   "outputs": [],
   "source": [
    "from bmc.simulate import simulate\n",
    "import numpy as np\n",
    "import matplotlib.pyplot as plt"
   ]
  },
  {
   "cell_type": "code",
   "execution_count": 2,
   "id": "6ed76624",
   "metadata": {},
   "outputs": [],
   "source": [
    "low = -20e-6\n",
    "high = 20e-6\n",
    "n_iso = 1000\n",
    "\n",
    "z_pos = np.linspace(low, high, n_iso)\n",
    "z_pos = np.append(z_pos, 0.)\n",
    "z_pos = np.sort(z_pos)  "
   ]
  },
  {
   "cell_type": "code",
   "execution_count": 3,
   "id": "50b07372",
   "metadata": {},
   "outputs": [],
   "source": [
    "seq_path_on = [f'seq_lib/ETM_variation/{i}_ETM.seq' for i in range(0, 251, 10)]\n",
    "seq_path_off = [f'seq_lib/ETM_variation/{i}_ETM_minus.seq' for i in range(0, 251, 10)]\n",
    "config_path = 'sim_lib/config_1pool.yaml'"
   ]
  },
  {
   "cell_type": "code",
   "execution_count": 4,
   "id": "73789ef4",
   "metadata": {},
   "outputs": [],
   "source": [
    "adc_time = 6e-3\n",
    "webhook = False"
   ]
  },
  {
   "cell_type": "code",
   "execution_count": 5,
   "id": "55d6353f",
   "metadata": {},
   "outputs": [],
   "source": [
    "from bmc.utils.tex_variation import run_variation"
   ]
  },
  {
   "cell_type": "code",
   "execution_count": 6,
   "id": "de36765c",
   "metadata": {},
   "outputs": [
    {
     "name": "stdout",
     "output_type": "stream",
     "text": [
      "Keine vorherigen Ergebnisse gefunden, starte neu.\n",
      "Bereits verarbeitete Indizes: 0\n"
     ]
    },
    {
     "name": "stderr",
     "output_type": "stream",
     "text": [
      "BMCTool simulation: 100%|██████████| 3/3 [00:10<00:00,  3.60s/it]]\n"
     ]
    },
    {
     "name": "stdout",
     "output_type": "stream",
     "text": [
      "888\n",
      "['rf at 0.0000s', 'gz at 0.0020s', 'adc at 0.0025s']\n",
      "[]\n"
     ]
    },
    {
     "name": "stderr",
     "output_type": "stream",
     "text": [
      "BMCTool simulation: 100%|██████████| 3/3 [00:10<00:00,  3.60s/it]]\n"
     ]
    },
    {
     "name": "stdout",
     "output_type": "stream",
     "text": [
      "888\n",
      "['rf at 0.0000s', 'gz at 0.0020s', 'adc at 0.0025s']\n",
      "[]\n",
      "Ergebnis gespeichert: (0, np.float64(0.0)) | 1 Einträge\n"
     ]
    },
    {
     "name": "stderr",
     "output_type": "stream",
     "text": [
      "BMCTool simulation: 100%|██████████| 63/63 [02:10<00:00,  2.08s/it]\n"
     ]
    },
    {
     "name": "stdout",
     "output_type": "stream",
     "text": [
      "888\n",
      "['rf at 0.0000s', 'gz at 0.0020s', 'adc at 0.0025s']\n",
      "[]\n"
     ]
    },
    {
     "name": "stderr",
     "output_type": "stream",
     "text": [
      "BMCTool simulation: 100%|██████████| 63/63 [02:15<00:00,  2.15s/it]\n"
     ]
    },
    {
     "name": "stdout",
     "output_type": "stream",
     "text": [
      "888\n",
      "['rf at 0.0000s', 'gz at 0.0020s', 'adc at 0.0025s']\n",
      "[]\n",
      "Ergebnis gespeichert: (10, np.float64(0.0006677907748525681)) | 2 Einträge\n"
     ]
    }
   ],
   "source": [
    "N_ETM, signal = run_variation(seq_path_on,\n",
    "                             seq_path_off,\n",
    "                             config_path,\n",
    "                             adc_time,\n",
    "                             z_pos,\n",
    "                             webhook,\n",
    "                             num_points = 2,\n",
    "                             max_processes=10)"
   ]
  },
  {
   "cell_type": "code",
   "execution_count": 7,
   "id": "ecb9bc95",
   "metadata": {},
   "outputs": [
    {
     "data": {
      "text/plain": [
       "<matplotlib.legend.Legend at 0x7f17650c5910>"
      ]
     },
     "execution_count": 7,
     "metadata": {},
     "output_type": "execute_result"
    },
    {
     "data": {
      "image/png": "[encoded data removed]",
      "text/plain": [
       "<Figure size 640x480 with 1 Axes>"
      ]
     },
     "metadata": {},
     "output_type": "display_data"
    }
   ],
   "source": [
    "fig, ax = plt.subplots(dpi=100)\n",
    "\n",
    "\n",
    "plt.plot(N_ETM, signal, 'o--', c='blue', linewidth=1, markersize=5, label='150 Hz')\n",
    "# plt.plot(t_exc * 1000, signal_250Hz, 'o--', c='red', linewidth=1, markersize=5, label='250 Hz')\n",
    "# plt.plot(t_exc * 1000, signal_350Hz, 'o--', c='green', linewidth=1, markersize=5, label='250 Hz')\n",
    "# plt.plot(t_exc * 1000, signal_50Hz, 'o--', c='fuchsia', linewidth=1, markersize=5, label='50 Hz')\n",
    "# plt.plot(t_exc * 1000, signal_20Hz, 'o--', c='gold', linewidth=1, markersize=5, label='20 Hz')\n",
    "# plt.plot(t_exc * 1000, signal_350Hz, 'o--', c='green', linewidth=1, markersize=5, label='250 Hz')\n",
    "# plt.axhline(torch.max(signal).item(), color='blue', linewidth=.8)\n",
    "# plt.axvline(30, color='blue', linewidth=.8)\n",
    "# plt.text(30, plt.ylim()[0] - 0.0001, f\"{30} ms\",\n",
    "#          color='blue', ha='center', va='top', fontsize=8)\n",
    "ax.set_ylabel('signal intensity')\n",
    "ax.set_xlabel(r'$t_{ex}$ [ms]')\n",
    "ax.legend()\n",
    "# plt.xlim(0, 65)\n",
    "# plt.ylim(0.0, 0.0082)\n",
    "\n",
    "\n",
    "# plt.savefig(\"signal_plot_kex.png\", dpi=300, bbox_inches='tight')\n"
   ]
  },
  {
   "cell_type": "code",
   "execution_count": 8,
   "id": "cf66fcd8",
   "metadata": {},
   "outputs": [
    {
     "name": "stdout",
     "output_type": "stream",
     "text": [
      "Geladene Ergebnisse: 2\n",
      "t_ex: [ 0. 10.]\n",
      "signal: [0.         0.00066779]\n"
     ]
    }
   ],
   "source": [
    "import numpy as np\n",
    "\n",
    "# Datei laden\n",
    "try:\n",
    "    results = np.load(\"results.npy\", allow_pickle=True).tolist()\n",
    "    print(f\"Geladene Ergebnisse: {len(results)}\")\n",
    "except FileNotFoundError:\n",
    "    print(\"Datei 'results.npy' nicht gefunden.\")\n",
    "    results = []\n",
    "\n",
    "# Ergebnisse prüfen\n",
    "if results:\n",
    "    # Ergebnisse entpacken (t_ex und signal separat extrahieren)\n",
    "    t_ex, signal = zip(*results)\n",
    "    t_ex = np.array(t_ex)  # In ein NumPy-Array umwandeln\n",
    "    signal = np.array(signal)\n",
    "\n",
    "    print(\"t_ex:\", t_ex)\n",
    "    print(\"signal:\", signal)\n",
    "else:\n",
    "    print(\"Keine Ergebnisse geladen.\")"
   ]
  }
 ],
 "metadata": {
  "kernelspec": {
   "display_name": "vmOne",
   "language": "python",
   "name": "python3"
  },
  "language_info": {
   "codemirror_mode": {
    "name": "ipython",
    "version": 3
   },
   "file_extension": ".py",
   "mimetype": "text/x-python",
   "name": "python",
   "nbconvert_exporter": "python",
   "pygments_lexer": "ipython3",
   "version": "3.11.11"
  }
 },
 "nbformat": 4,
 "nbformat_minor": 5
}
